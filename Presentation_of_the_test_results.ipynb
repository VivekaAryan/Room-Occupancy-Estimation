{
 "cells": [
  {
   "cell_type": "code",
   "execution_count": 1,
   "id": "d26f82e2",
   "metadata": {},
   "outputs": [],
   "source": [
    "import pandas as pd\n",
    "import numpy as np\n",
    "import matplotlib.pyplot as plt\n",
    "import seaborn as sns\n",
    "from sklearn.model_selection import train_test_split\n",
    "from sklearn.preprocessing import StandardScaler\n",
    "from sklearn.metrics import confusion_matrix, classification_report\n",
    "from sklearn.metrics import roc_auc_score  \n",
    "from sklearn.metrics import roc_curve,auc \n",
    "from sklearn.metrics import accuracy_score, precision_score, recall_score, f1_score\n",
    "import pickle\n",
    "from tensorflow.keras.models import Sequential, model_from_json\n",
    "import tensorflow as tf\n",
    "\n",
    "import warnings\n",
    "warnings.filterwarnings(\"ignore\")"
   ]
  },
  {
   "cell_type": "code",
   "execution_count": 2,
   "id": "16d28ba5",
   "metadata": {},
   "outputs": [],
   "source": [
    "df = pd.read_csv(\"./Group_7_data_cleaned.csv\")"
   ]
  },
  {
   "cell_type": "code",
   "execution_count": 3,
   "id": "64719a1f",
   "metadata": {},
   "outputs": [],
   "source": [
    "df.drop(columns=['Date','Time'], inplace=True)"
   ]
  },
  {
   "cell_type": "code",
   "execution_count": 4,
   "id": "1894040c",
   "metadata": {},
   "outputs": [
    {
     "data": {
      "text/html": [
       "<div>\n",
       "<style scoped>\n",
       "    .dataframe tbody tr th:only-of-type {\n",
       "        vertical-align: middle;\n",
       "    }\n",
       "\n",
       "    .dataframe tbody tr th {\n",
       "        vertical-align: top;\n",
       "    }\n",
       "\n",
       "    .dataframe thead th {\n",
       "        text-align: right;\n",
       "    }\n",
       "</style>\n",
       "<table border=\"1\" class=\"dataframe\">\n",
       "  <thead>\n",
       "    <tr style=\"text-align: right;\">\n",
       "      <th></th>\n",
       "      <th>S1_Temp</th>\n",
       "      <th>S2_Temp</th>\n",
       "      <th>S3_Temp</th>\n",
       "      <th>S4_Temp</th>\n",
       "      <th>S1_Light</th>\n",
       "      <th>S2_Light</th>\n",
       "      <th>S3_Light</th>\n",
       "      <th>S4_Light</th>\n",
       "      <th>S1_Sound</th>\n",
       "      <th>S2_Sound</th>\n",
       "      <th>S3_Sound</th>\n",
       "      <th>S4_Sound</th>\n",
       "      <th>S5_CO2</th>\n",
       "      <th>S5_CO2_Slope</th>\n",
       "      <th>S6_PIR</th>\n",
       "      <th>S7_PIR</th>\n",
       "      <th>Room_Occupancy_Count</th>\n",
       "    </tr>\n",
       "  </thead>\n",
       "  <tbody>\n",
       "    <tr>\n",
       "      <th>0</th>\n",
       "      <td>24.94</td>\n",
       "      <td>24.75</td>\n",
       "      <td>24.56</td>\n",
       "      <td>25.38</td>\n",
       "      <td>121</td>\n",
       "      <td>34</td>\n",
       "      <td>53</td>\n",
       "      <td>40</td>\n",
       "      <td>0.08</td>\n",
       "      <td>0.19</td>\n",
       "      <td>0.06</td>\n",
       "      <td>0.06</td>\n",
       "      <td>390</td>\n",
       "      <td>0.77</td>\n",
       "      <td>0</td>\n",
       "      <td>0</td>\n",
       "      <td>1</td>\n",
       "    </tr>\n",
       "    <tr>\n",
       "      <th>1</th>\n",
       "      <td>24.94</td>\n",
       "      <td>24.75</td>\n",
       "      <td>24.56</td>\n",
       "      <td>25.44</td>\n",
       "      <td>121</td>\n",
       "      <td>33</td>\n",
       "      <td>53</td>\n",
       "      <td>40</td>\n",
       "      <td>0.93</td>\n",
       "      <td>0.05</td>\n",
       "      <td>0.06</td>\n",
       "      <td>0.06</td>\n",
       "      <td>390</td>\n",
       "      <td>0.65</td>\n",
       "      <td>0</td>\n",
       "      <td>0</td>\n",
       "      <td>1</td>\n",
       "    </tr>\n",
       "    <tr>\n",
       "      <th>2</th>\n",
       "      <td>25.00</td>\n",
       "      <td>24.75</td>\n",
       "      <td>24.50</td>\n",
       "      <td>25.44</td>\n",
       "      <td>121</td>\n",
       "      <td>34</td>\n",
       "      <td>53</td>\n",
       "      <td>40</td>\n",
       "      <td>0.43</td>\n",
       "      <td>0.11</td>\n",
       "      <td>0.08</td>\n",
       "      <td>0.06</td>\n",
       "      <td>390</td>\n",
       "      <td>0.52</td>\n",
       "      <td>0</td>\n",
       "      <td>0</td>\n",
       "      <td>1</td>\n",
       "    </tr>\n",
       "    <tr>\n",
       "      <th>3</th>\n",
       "      <td>25.00</td>\n",
       "      <td>24.75</td>\n",
       "      <td>24.56</td>\n",
       "      <td>25.44</td>\n",
       "      <td>121</td>\n",
       "      <td>34</td>\n",
       "      <td>53</td>\n",
       "      <td>40</td>\n",
       "      <td>0.41</td>\n",
       "      <td>0.10</td>\n",
       "      <td>0.10</td>\n",
       "      <td>0.09</td>\n",
       "      <td>390</td>\n",
       "      <td>0.39</td>\n",
       "      <td>0</td>\n",
       "      <td>0</td>\n",
       "      <td>1</td>\n",
       "    </tr>\n",
       "    <tr>\n",
       "      <th>4</th>\n",
       "      <td>25.00</td>\n",
       "      <td>24.75</td>\n",
       "      <td>24.56</td>\n",
       "      <td>25.44</td>\n",
       "      <td>121</td>\n",
       "      <td>34</td>\n",
       "      <td>54</td>\n",
       "      <td>40</td>\n",
       "      <td>0.18</td>\n",
       "      <td>0.06</td>\n",
       "      <td>0.06</td>\n",
       "      <td>0.06</td>\n",
       "      <td>390</td>\n",
       "      <td>0.25</td>\n",
       "      <td>0</td>\n",
       "      <td>0</td>\n",
       "      <td>1</td>\n",
       "    </tr>\n",
       "  </tbody>\n",
       "</table>\n",
       "</div>"
      ],
      "text/plain": [
       "   S1_Temp  S2_Temp  S3_Temp  S4_Temp  S1_Light  S2_Light  S3_Light  S4_Light  \\\n",
       "0    24.94    24.75    24.56    25.38       121        34        53        40   \n",
       "1    24.94    24.75    24.56    25.44       121        33        53        40   \n",
       "2    25.00    24.75    24.50    25.44       121        34        53        40   \n",
       "3    25.00    24.75    24.56    25.44       121        34        53        40   \n",
       "4    25.00    24.75    24.56    25.44       121        34        54        40   \n",
       "\n",
       "   S1_Sound  S2_Sound  S3_Sound  S4_Sound  S5_CO2  S5_CO2_Slope  S6_PIR  \\\n",
       "0      0.08      0.19      0.06      0.06     390          0.77       0   \n",
       "1      0.93      0.05      0.06      0.06     390          0.65       0   \n",
       "2      0.43      0.11      0.08      0.06     390          0.52       0   \n",
       "3      0.41      0.10      0.10      0.09     390          0.39       0   \n",
       "4      0.18      0.06      0.06      0.06     390          0.25       0   \n",
       "\n",
       "   S7_PIR  Room_Occupancy_Count  \n",
       "0       0                     1  \n",
       "1       0                     1  \n",
       "2       0                     1  \n",
       "3       0                     1  \n",
       "4       0                     1  "
      ]
     },
     "execution_count": 4,
     "metadata": {},
     "output_type": "execute_result"
    }
   ],
   "source": [
    "df.head()"
   ]
  },
  {
   "cell_type": "code",
   "execution_count": 5,
   "id": "5c9e4039",
   "metadata": {},
   "outputs": [
    {
     "name": "stdout",
     "output_type": "stream",
     "text": [
      "<class 'pandas.core.frame.DataFrame'>\n",
      "RangeIndex: 10129 entries, 0 to 10128\n",
      "Data columns (total 17 columns):\n",
      " #   Column                Non-Null Count  Dtype  \n",
      "---  ------                --------------  -----  \n",
      " 0   S1_Temp               10129 non-null  float64\n",
      " 1   S2_Temp               10129 non-null  float64\n",
      " 2   S3_Temp               10129 non-null  float64\n",
      " 3   S4_Temp               10129 non-null  float64\n",
      " 4   S1_Light              10129 non-null  int64  \n",
      " 5   S2_Light              10129 non-null  int64  \n",
      " 6   S3_Light              10129 non-null  int64  \n",
      " 7   S4_Light              10129 non-null  int64  \n",
      " 8   S1_Sound              10129 non-null  float64\n",
      " 9   S2_Sound              10129 non-null  float64\n",
      " 10  S3_Sound              10129 non-null  float64\n",
      " 11  S4_Sound              10129 non-null  float64\n",
      " 12  S5_CO2                10129 non-null  int64  \n",
      " 13  S5_CO2_Slope          10129 non-null  float64\n",
      " 14  S6_PIR                10129 non-null  int64  \n",
      " 15  S7_PIR                10129 non-null  int64  \n",
      " 16  Room_Occupancy_Count  10129 non-null  int64  \n",
      "dtypes: float64(9), int64(8)\n",
      "memory usage: 1.3 MB\n"
     ]
    }
   ],
   "source": [
    "df.info()"
   ]
  },
  {
   "cell_type": "markdown",
   "id": "8d346868",
   "metadata": {},
   "source": [
    "# Estimating the Occupancy of the room after removing the light input variables as per problem statement"
   ]
  },
  {
   "cell_type": "code",
   "execution_count": 6,
   "id": "dded704f",
   "metadata": {},
   "outputs": [],
   "source": [
    "df_wo_light = df.drop(df.filter(regex='Light').columns, axis=1)"
   ]
  },
  {
   "cell_type": "code",
   "execution_count": 7,
   "id": "27554a3c",
   "metadata": {},
   "outputs": [
    {
     "data": {
      "text/html": [
       "<div>\n",
       "<style scoped>\n",
       "    .dataframe tbody tr th:only-of-type {\n",
       "        vertical-align: middle;\n",
       "    }\n",
       "\n",
       "    .dataframe tbody tr th {\n",
       "        vertical-align: top;\n",
       "    }\n",
       "\n",
       "    .dataframe thead th {\n",
       "        text-align: right;\n",
       "    }\n",
       "</style>\n",
       "<table border=\"1\" class=\"dataframe\">\n",
       "  <thead>\n",
       "    <tr style=\"text-align: right;\">\n",
       "      <th></th>\n",
       "      <th>S1_Temp</th>\n",
       "      <th>S2_Temp</th>\n",
       "      <th>S3_Temp</th>\n",
       "      <th>S4_Temp</th>\n",
       "      <th>S1_Sound</th>\n",
       "      <th>S2_Sound</th>\n",
       "      <th>S3_Sound</th>\n",
       "      <th>S4_Sound</th>\n",
       "      <th>S5_CO2</th>\n",
       "      <th>S5_CO2_Slope</th>\n",
       "      <th>S6_PIR</th>\n",
       "      <th>S7_PIR</th>\n",
       "      <th>Room_Occupancy_Count</th>\n",
       "    </tr>\n",
       "  </thead>\n",
       "  <tbody>\n",
       "    <tr>\n",
       "      <th>0</th>\n",
       "      <td>24.94</td>\n",
       "      <td>24.75</td>\n",
       "      <td>24.56</td>\n",
       "      <td>25.38</td>\n",
       "      <td>0.08</td>\n",
       "      <td>0.19</td>\n",
       "      <td>0.06</td>\n",
       "      <td>0.06</td>\n",
       "      <td>390</td>\n",
       "      <td>0.77</td>\n",
       "      <td>0</td>\n",
       "      <td>0</td>\n",
       "      <td>1</td>\n",
       "    </tr>\n",
       "    <tr>\n",
       "      <th>1</th>\n",
       "      <td>24.94</td>\n",
       "      <td>24.75</td>\n",
       "      <td>24.56</td>\n",
       "      <td>25.44</td>\n",
       "      <td>0.93</td>\n",
       "      <td>0.05</td>\n",
       "      <td>0.06</td>\n",
       "      <td>0.06</td>\n",
       "      <td>390</td>\n",
       "      <td>0.65</td>\n",
       "      <td>0</td>\n",
       "      <td>0</td>\n",
       "      <td>1</td>\n",
       "    </tr>\n",
       "    <tr>\n",
       "      <th>2</th>\n",
       "      <td>25.00</td>\n",
       "      <td>24.75</td>\n",
       "      <td>24.50</td>\n",
       "      <td>25.44</td>\n",
       "      <td>0.43</td>\n",
       "      <td>0.11</td>\n",
       "      <td>0.08</td>\n",
       "      <td>0.06</td>\n",
       "      <td>390</td>\n",
       "      <td>0.52</td>\n",
       "      <td>0</td>\n",
       "      <td>0</td>\n",
       "      <td>1</td>\n",
       "    </tr>\n",
       "    <tr>\n",
       "      <th>3</th>\n",
       "      <td>25.00</td>\n",
       "      <td>24.75</td>\n",
       "      <td>24.56</td>\n",
       "      <td>25.44</td>\n",
       "      <td>0.41</td>\n",
       "      <td>0.10</td>\n",
       "      <td>0.10</td>\n",
       "      <td>0.09</td>\n",
       "      <td>390</td>\n",
       "      <td>0.39</td>\n",
       "      <td>0</td>\n",
       "      <td>0</td>\n",
       "      <td>1</td>\n",
       "    </tr>\n",
       "    <tr>\n",
       "      <th>4</th>\n",
       "      <td>25.00</td>\n",
       "      <td>24.75</td>\n",
       "      <td>24.56</td>\n",
       "      <td>25.44</td>\n",
       "      <td>0.18</td>\n",
       "      <td>0.06</td>\n",
       "      <td>0.06</td>\n",
       "      <td>0.06</td>\n",
       "      <td>390</td>\n",
       "      <td>0.25</td>\n",
       "      <td>0</td>\n",
       "      <td>0</td>\n",
       "      <td>1</td>\n",
       "    </tr>\n",
       "  </tbody>\n",
       "</table>\n",
       "</div>"
      ],
      "text/plain": [
       "   S1_Temp  S2_Temp  S3_Temp  S4_Temp  S1_Sound  S2_Sound  S3_Sound  S4_Sound  \\\n",
       "0    24.94    24.75    24.56    25.38      0.08      0.19      0.06      0.06   \n",
       "1    24.94    24.75    24.56    25.44      0.93      0.05      0.06      0.06   \n",
       "2    25.00    24.75    24.50    25.44      0.43      0.11      0.08      0.06   \n",
       "3    25.00    24.75    24.56    25.44      0.41      0.10      0.10      0.09   \n",
       "4    25.00    24.75    24.56    25.44      0.18      0.06      0.06      0.06   \n",
       "\n",
       "   S5_CO2  S5_CO2_Slope  S6_PIR  S7_PIR  Room_Occupancy_Count  \n",
       "0     390          0.77       0       0                     1  \n",
       "1     390          0.65       0       0                     1  \n",
       "2     390          0.52       0       0                     1  \n",
       "3     390          0.39       0       0                     1  \n",
       "4     390          0.25       0       0                     1  "
      ]
     },
     "execution_count": 7,
     "metadata": {},
     "output_type": "execute_result"
    }
   ],
   "source": [
    "df_wo_light.head()"
   ]
  },
  {
   "cell_type": "code",
   "execution_count": 8,
   "id": "1ba11dc0",
   "metadata": {},
   "outputs": [],
   "source": [
    "X_wo_light = df_wo_light.drop(['Room_Occupancy_Count'], axis=1)\n",
    "y_wo_light = df_wo_light[['Room_Occupancy_Count']]"
   ]
  },
  {
   "cell_type": "code",
   "execution_count": 9,
   "id": "070ecffa",
   "metadata": {},
   "outputs": [],
   "source": [
    "# Splitting the dataset into train and test\n",
    "X_train_wo_light, X_test_wo_light, y_train_wo_light, y_test_wo_light = train_test_split(X_wo_light, y_wo_light, test_size=0.2, random_state=42)"
   ]
  },
  {
   "cell_type": "code",
   "execution_count": 10,
   "id": "1dc2d399",
   "metadata": {},
   "outputs": [],
   "source": [
    "# Scaling the dataset\n",
    "scaler = StandardScaler()\n",
    "X_train_scaled_wo_light = scaler.fit_transform(X_train_wo_light)\n",
    "X_test_scaled_wo_light = scaler.transform(X_test_wo_light)"
   ]
  },
  {
   "cell_type": "markdown",
   "id": "d5c7c8c3",
   "metadata": {},
   "source": [
    "## Models"
   ]
  },
  {
   "cell_type": "markdown",
   "id": "1ee4daeb",
   "metadata": {},
   "source": [
    "### Naive Classification Model"
   ]
  },
  {
   "cell_type": "code",
   "execution_count": 11,
   "id": "64fd872b",
   "metadata": {},
   "outputs": [
    {
     "name": "stdout",
     "output_type": "stream",
     "text": [
      "Accuracy on train set:  0.680982352215229\n",
      "Accuracy on test set:  0.6707798617966436\n"
     ]
    }
   ],
   "source": [
    "from sklearn.dummy import DummyClassifier\n",
    "\n",
    "clf_dummy = DummyClassifier(strategy='stratified', random_state=42) \n",
    "clf_dummy.fit(X_train_scaled_wo_light, y_train_wo_light)\n",
    "\n",
    "print(\"Accuracy on train set: \", clf_dummy.score(X_train_scaled_wo_light, y_train_wo_light))\n",
    "print(\"Accuracy on test set: \", clf_dummy.score(X_test_scaled_wo_light, y_test_wo_light))"
   ]
  },
  {
   "cell_type": "code",
   "execution_count": 12,
   "id": "e6251a5c",
   "metadata": {},
   "outputs": [
    {
     "data": {
      "image/png": "[encoded data removed]",
      "text/plain": [
       "<Figure size 600x400 with 2 Axes>"
      ]
     },
     "metadata": {},
     "output_type": "display_data"
    }
   ],
   "source": [
    "y_predicted = clf_dummy.predict(X_test_scaled_wo_light)\n",
    "cm = confusion_matrix(y_test_wo_light, y_predicted)\n",
    "plt.figure(figsize = (6,4))\n",
    "\n",
    "sns.heatmap(cm, \n",
    "            annot=True, \n",
    "            cmap=\"Spectral\",\n",
    "            fmt='g'\n",
    "           )\n",
    "plt.xlabel('Predicted', fontsize=10)\n",
    "plt.ylabel('Actual/Observed', fontsize=10);"
   ]
  },
  {
   "cell_type": "code",
   "execution_count": 13,
   "id": "8604bb62",
   "metadata": {},
   "outputs": [
    {
     "name": "stdout",
     "output_type": "stream",
     "text": [
      "              precision    recall  f1-score   support\n",
      "\n",
      "           0       0.80      0.82      0.81      1619\n",
      "           1       0.05      0.05      0.05       103\n",
      "           2       0.09      0.07      0.08       164\n",
      "           3       0.10      0.10      0.10       140\n",
      "\n",
      "    accuracy                           0.67      2026\n",
      "   macro avg       0.26      0.26      0.26      2026\n",
      "weighted avg       0.66      0.67      0.66      2026\n",
      "\n"
     ]
    }
   ],
   "source": [
    "print(classification_report(y_test_wo_light, y_predicted))"
   ]
  },
  {
   "cell_type": "code",
   "execution_count": 14,
   "id": "6a6e190c",
   "metadata": {},
   "outputs": [
    {
     "name": "stdout",
     "output_type": "stream",
     "text": [
      "Recall: 0.671\n"
     ]
    }
   ],
   "source": [
    "print('Recall: %.3f' % (recall_score(y_test_wo_light, y_predicted, average='weighted')))"
   ]
  },
  {
   "cell_type": "code",
   "execution_count": 15,
   "id": "9d96181b",
   "metadata": {},
   "outputs": [
    {
     "data": {
      "text/html": [
       "<div>\n",
       "<style scoped>\n",
       "    .dataframe tbody tr th:only-of-type {\n",
       "        vertical-align: middle;\n",
       "    }\n",
       "\n",
       "    .dataframe tbody tr th {\n",
       "        vertical-align: top;\n",
       "    }\n",
       "\n",
       "    .dataframe thead th {\n",
       "        text-align: right;\n",
       "    }\n",
       "</style>\n",
       "<table border=\"1\" class=\"dataframe\">\n",
       "  <thead>\n",
       "    <tr style=\"text-align: right;\">\n",
       "      <th></th>\n",
       "      <th>Model</th>\n",
       "      <th>Accuracy</th>\n",
       "      <th>Precision</th>\n",
       "      <th>Recall</th>\n",
       "      <th>F1 Score</th>\n",
       "    </tr>\n",
       "  </thead>\n",
       "  <tbody>\n",
       "    <tr>\n",
       "      <th>0</th>\n",
       "      <td>Naive Baseline Model</td>\n",
       "      <td>67.08</td>\n",
       "      <td>65.73</td>\n",
       "      <td>67.08</td>\n",
       "      <td>66.38</td>\n",
       "    </tr>\n",
       "  </tbody>\n",
       "</table>\n",
       "</div>"
      ],
      "text/plain": [
       "                  Model  Accuracy  Precision  Recall  F1 Score\n",
       "0  Naive Baseline Model     67.08      65.73   67.08     66.38"
      ]
     },
     "execution_count": 15,
     "metadata": {},
     "output_type": "execute_result"
    }
   ],
   "source": [
    "# Calculating the evaluation metrics\n",
    "accuracy = accuracy_score(y_test_wo_light, y_predicted)\n",
    "weighted_precision = precision_score(y_test_wo_light, y_predicted, average='weighted')\n",
    "weighted_recall = recall_score(y_test_wo_light, y_predicted, average='weighted')\n",
    "weighted_f1 = f1_score(y_test_wo_light, y_predicted, average='weighted')\n",
    "\n",
    "# Creating an evaluation metrics dataframe for the model\n",
    "results = pd.DataFrame([['Naive Baseline Model', \n",
    "                         round(accuracy*100,2), \n",
    "                         round(weighted_precision*100,2), \n",
    "                         round(weighted_recall*100,2), \n",
    "                         round(weighted_f1*100,2)\n",
    "                        ]],\n",
    "                       columns = ['Model', 'Accuracy', 'Precision', 'Recall', 'F1 Score'])\n",
    "results"
   ]
  },
  {
   "cell_type": "markdown",
   "id": "e55c0d76",
   "metadata": {},
   "source": [
    "### 1. Linear Classifier Model"
   ]
  },
  {
   "cell_type": "code",
   "execution_count": 16,
   "id": "44a313a8",
   "metadata": {},
   "outputs": [],
   "source": [
    "# Importing the model\n",
    "linear_classifier_model = pickle.load(open('linear_classification_model.sav', 'rb'))"
   ]
  },
  {
   "cell_type": "code",
   "execution_count": 17,
   "id": "8d521b0c",
   "metadata": {},
   "outputs": [
    {
     "name": "stdout",
     "output_type": "stream",
     "text": [
      "Accuracy on test set:  0.9397828232971372\n"
     ]
    }
   ],
   "source": [
    "print(\"Accuracy on test set: \", linear_classifier_model.score(X_test_scaled_wo_light, y_test_wo_light))"
   ]
  },
  {
   "cell_type": "code",
   "execution_count": 18,
   "id": "80383d40",
   "metadata": {},
   "outputs": [
    {
     "data": {
      "image/png": "[encoded data removed]",
      "text/plain": [
       "<Figure size 600x400 with 2 Axes>"
      ]
     },
     "metadata": {},
     "output_type": "display_data"
    }
   ],
   "source": [
    "# Confusion Matrix\n",
    "y_predicted = linear_classifier_model.predict(X_test_scaled_wo_light)\n",
    "cm = confusion_matrix(y_test_wo_light, y_predicted)\n",
    "plt.figure(figsize = (6,4))\n",
    "\n",
    "sns.heatmap(cm, \n",
    "            annot=True, \n",
    "            cmap=\"Spectral\",\n",
    "            fmt='g'\n",
    "           )\n",
    "plt.xlabel('Predicted', fontsize=10)\n",
    "plt.ylabel('Actual/Observed', fontsize=10);"
   ]
  },
  {
   "cell_type": "code",
   "execution_count": 19,
   "id": "6e414c78",
   "metadata": {},
   "outputs": [
    {
     "name": "stdout",
     "output_type": "stream",
     "text": [
      "              precision    recall  f1-score   support\n",
      "\n",
      "           0       0.97      1.00      0.98      1619\n",
      "           1       0.78      0.67      0.72       103\n",
      "           2       0.80      0.68      0.74       164\n",
      "           3       0.79      0.80      0.80       140\n",
      "\n",
      "    accuracy                           0.94      2026\n",
      "   macro avg       0.84      0.79      0.81      2026\n",
      "weighted avg       0.94      0.94      0.94      2026\n",
      "\n"
     ]
    }
   ],
   "source": [
    "# Classification Report\n",
    "print(classification_report(y_test_wo_light, y_predicted))"
   ]
  },
  {
   "cell_type": "code",
   "execution_count": 20,
   "id": "14c40a90",
   "metadata": {},
   "outputs": [
    {
     "data": {
      "text/html": [
       "<div>\n",
       "<style scoped>\n",
       "    .dataframe tbody tr th:only-of-type {\n",
       "        vertical-align: middle;\n",
       "    }\n",
       "\n",
       "    .dataframe tbody tr th {\n",
       "        vertical-align: top;\n",
       "    }\n",
       "\n",
       "    .dataframe thead th {\n",
       "        text-align: right;\n",
       "    }\n",
       "</style>\n",
       "<table border=\"1\" class=\"dataframe\">\n",
       "  <thead>\n",
       "    <tr style=\"text-align: right;\">\n",
       "      <th></th>\n",
       "      <th>Model</th>\n",
       "      <th>Accuracy</th>\n",
       "      <th>Precision</th>\n",
       "      <th>Recall</th>\n",
       "      <th>F1 Score</th>\n",
       "    </tr>\n",
       "  </thead>\n",
       "  <tbody>\n",
       "    <tr>\n",
       "      <th>0</th>\n",
       "      <td>Naive Baseline Model</td>\n",
       "      <td>67.08</td>\n",
       "      <td>65.73</td>\n",
       "      <td>67.08</td>\n",
       "      <td>66.38</td>\n",
       "    </tr>\n",
       "    <tr>\n",
       "      <th>1</th>\n",
       "      <td>Linear Classifier</td>\n",
       "      <td>93.98</td>\n",
       "      <td>93.64</td>\n",
       "      <td>93.98</td>\n",
       "      <td>93.73</td>\n",
       "    </tr>\n",
       "  </tbody>\n",
       "</table>\n",
       "</div>"
      ],
      "text/plain": [
       "                  Model  Accuracy  Precision  Recall  F1 Score\n",
       "0  Naive Baseline Model     67.08      65.73   67.08     66.38\n",
       "1     Linear Classifier     93.98      93.64   93.98     93.73"
      ]
     },
     "execution_count": 20,
     "metadata": {},
     "output_type": "execute_result"
    }
   ],
   "source": [
    "# Calculating the evaluation metrics\n",
    "accuracy = accuracy_score(y_test_wo_light, y_predicted)\n",
    "weighted_precision = precision_score(y_test_wo_light, y_predicted, average='weighted')\n",
    "weighted_recall = recall_score(y_test_wo_light, y_predicted, average='weighted')\n",
    "weighted_f1 = f1_score(y_test_wo_light, y_predicted, average='weighted')\n",
    "\n",
    "# Creating an evaluation metrics dataframe for the model\n",
    "lr_results = pd.DataFrame([['Linear Classifier', \n",
    "                         round(accuracy*100,2), \n",
    "                         round(weighted_precision*100,2), \n",
    "                         round(weighted_recall*100,2), \n",
    "                         round(weighted_f1*100,2)\n",
    "                        ]],\n",
    "                       columns = ['Model', 'Accuracy', 'Precision', 'Recall', 'F1 Score'])\n",
    "\n",
    "# Appending the evaluation metrics into a dataframe\n",
    "results = results.append(lr_results, ignore_index = True)\n",
    "\n",
    "results"
   ]
  },
  {
   "cell_type": "markdown",
   "id": "8c798923",
   "metadata": {},
   "source": [
    "### 2. KNN Classifier Model"
   ]
  },
  {
   "cell_type": "code",
   "execution_count": 21,
   "id": "412ad7b3",
   "metadata": {},
   "outputs": [],
   "source": [
    "# Importing the model\n",
    "knn_classifier_model = pickle.load(open('knn_classification_model.sav', 'rb'))"
   ]
  },
  {
   "cell_type": "code",
   "execution_count": 22,
   "id": "f10e15b8",
   "metadata": {},
   "outputs": [
    {
     "data": {
      "image/png": "[encoded data removed]",
      "text/plain": [
       "<Figure size 600x400 with 2 Axes>"
      ]
     },
     "metadata": {},
     "output_type": "display_data"
    }
   ],
   "source": [
    "# Confusion Matrix\n",
    "y_predicted = knn_classifier_model.predict(X_test_scaled_wo_light)\n",
    "cm = confusion_matrix(y_test_wo_light, y_predicted)\n",
    "plt.figure(figsize = (6,4))\n",
    "\n",
    "sns.heatmap(cm, \n",
    "            annot=True, \n",
    "            cmap=\"Spectral\",\n",
    "            fmt='g'\n",
    "           )\n",
    "plt.xlabel('Predicted', fontsize=10)\n",
    "plt.ylabel('Actual/Observed', fontsize=10);"
   ]
  },
  {
   "cell_type": "code",
   "execution_count": 23,
   "id": "7103fd53",
   "metadata": {},
   "outputs": [
    {
     "name": "stdout",
     "output_type": "stream",
     "text": [
      "              precision    recall  f1-score   support\n",
      "\n",
      "           0       1.00      1.00      1.00      1619\n",
      "           1       0.92      0.97      0.94       103\n",
      "           2       0.91      0.90      0.90       164\n",
      "           3       0.93      0.92      0.93       140\n",
      "\n",
      "    accuracy                           0.98      2026\n",
      "   macro avg       0.94      0.95      0.94      2026\n",
      "weighted avg       0.98      0.98      0.98      2026\n",
      "\n"
     ]
    }
   ],
   "source": [
    "# Classification Report\n",
    "print(classification_report(y_test_wo_light, y_predicted))"
   ]
  },
  {
   "cell_type": "code",
   "execution_count": 24,
   "id": "c64454a3",
   "metadata": {},
   "outputs": [
    {
     "data": {
      "text/html": [
       "<div>\n",
       "<style scoped>\n",
       "    .dataframe tbody tr th:only-of-type {\n",
       "        vertical-align: middle;\n",
       "    }\n",
       "\n",
       "    .dataframe tbody tr th {\n",
       "        vertical-align: top;\n",
       "    }\n",
       "\n",
       "    .dataframe thead th {\n",
       "        text-align: right;\n",
       "    }\n",
       "</style>\n",
       "<table border=\"1\" class=\"dataframe\">\n",
       "  <thead>\n",
       "    <tr style=\"text-align: right;\">\n",
       "      <th></th>\n",
       "      <th>Model</th>\n",
       "      <th>Accuracy</th>\n",
       "      <th>Precision</th>\n",
       "      <th>Recall</th>\n",
       "      <th>F1 Score</th>\n",
       "    </tr>\n",
       "  </thead>\n",
       "  <tbody>\n",
       "    <tr>\n",
       "      <th>0</th>\n",
       "      <td>Naive Baseline Model</td>\n",
       "      <td>67.08</td>\n",
       "      <td>65.73</td>\n",
       "      <td>67.08</td>\n",
       "      <td>66.38</td>\n",
       "    </tr>\n",
       "    <tr>\n",
       "      <th>1</th>\n",
       "      <td>Linear Classifier</td>\n",
       "      <td>93.98</td>\n",
       "      <td>93.64</td>\n",
       "      <td>93.98</td>\n",
       "      <td>93.73</td>\n",
       "    </tr>\n",
       "    <tr>\n",
       "      <th>2</th>\n",
       "      <td>KNN Classifier</td>\n",
       "      <td>98.32</td>\n",
       "      <td>98.33</td>\n",
       "      <td>98.32</td>\n",
       "      <td>98.32</td>\n",
       "    </tr>\n",
       "  </tbody>\n",
       "</table>\n",
       "</div>"
      ],
      "text/plain": [
       "                  Model  Accuracy  Precision  Recall  F1 Score\n",
       "0  Naive Baseline Model     67.08      65.73   67.08     66.38\n",
       "1     Linear Classifier     93.98      93.64   93.98     93.73\n",
       "2        KNN Classifier     98.32      98.33   98.32     98.32"
      ]
     },
     "execution_count": 24,
     "metadata": {},
     "output_type": "execute_result"
    }
   ],
   "source": [
    "# Calculating the evaluation metrics\n",
    "accuracy = accuracy_score(y_test_wo_light, y_predicted)\n",
    "weighted_precision = precision_score(y_test_wo_light, y_predicted, average='weighted')\n",
    "weighted_recall = recall_score(y_test_wo_light, y_predicted, average='weighted')\n",
    "weighted_f1 = f1_score(y_test_wo_light, y_predicted, average='weighted')\n",
    "\n",
    "# Creating an evaluation metrics dataframe for the model\n",
    "lr_results = pd.DataFrame([['KNN Classifier', \n",
    "                         round(accuracy*100,2), \n",
    "                         round(weighted_precision*100,2), \n",
    "                         round(weighted_recall*100,2), \n",
    "                         round(weighted_f1*100,2)\n",
    "                        ]],\n",
    "                       columns = ['Model', 'Accuracy', 'Precision', 'Recall', 'F1 Score'])\n",
    "\n",
    "# Appending the evaluation metrics into a dataframe\n",
    "results = results.append(lr_results, ignore_index = True)\n",
    "\n",
    "results"
   ]
  },
  {
   "cell_type": "markdown",
   "id": "0f9d2901",
   "metadata": {},
   "source": [
    "### Decision Tree Classifier Model"
   ]
  },
  {
   "cell_type": "code",
   "execution_count": 25,
   "id": "5de2e800",
   "metadata": {},
   "outputs": [],
   "source": [
    "# Importing the model\n",
    "dt_classifier_model = pickle.load(open('dt_classification_model.sav', 'rb'))"
   ]
  },
  {
   "cell_type": "code",
   "execution_count": 26,
   "id": "610a8f51",
   "metadata": {},
   "outputs": [
    {
     "data": {
      "image/png": "[encoded data removed]",
      "text/plain": [
       "<Figure size 600x400 with 2 Axes>"
      ]
     },
     "metadata": {},
     "output_type": "display_data"
    }
   ],
   "source": [
    "# Confusion Matrix\n",
    "y_predicted = dt_classifier_model.predict(X_test_wo_light)\n",
    "cm = confusion_matrix(y_test_wo_light, y_predicted)\n",
    "plt.figure(figsize = (6,4))\n",
    "\n",
    "sns.heatmap(cm, \n",
    "            annot=True, \n",
    "            cmap=\"Spectral\",\n",
    "            fmt='g'\n",
    "           )\n",
    "plt.xlabel('Predicted', fontsize=10)\n",
    "plt.ylabel('Actual/Observed', fontsize=10);"
   ]
  },
  {
   "cell_type": "code",
   "execution_count": 27,
   "id": "db73334f",
   "metadata": {},
   "outputs": [
    {
     "name": "stdout",
     "output_type": "stream",
     "text": [
      "              precision    recall  f1-score   support\n",
      "\n",
      "           0       0.99      0.99      0.99      1619\n",
      "           1       0.85      0.86      0.86       103\n",
      "           2       0.92      0.90      0.91       164\n",
      "           3       0.94      0.94      0.94       140\n",
      "\n",
      "    accuracy                           0.97      2026\n",
      "   macro avg       0.92      0.93      0.92      2026\n",
      "weighted avg       0.97      0.97      0.97      2026\n",
      "\n"
     ]
    }
   ],
   "source": [
    "# Classification Report\n",
    "print(classification_report(y_test_wo_light, y_predicted))"
   ]
  },
  {
   "cell_type": "code",
   "execution_count": 28,
   "id": "00059b67",
   "metadata": {},
   "outputs": [
    {
     "data": {
      "text/html": [
       "<div>\n",
       "<style scoped>\n",
       "    .dataframe tbody tr th:only-of-type {\n",
       "        vertical-align: middle;\n",
       "    }\n",
       "\n",
       "    .dataframe tbody tr th {\n",
       "        vertical-align: top;\n",
       "    }\n",
       "\n",
       "    .dataframe thead th {\n",
       "        text-align: right;\n",
       "    }\n",
       "</style>\n",
       "<table border=\"1\" class=\"dataframe\">\n",
       "  <thead>\n",
       "    <tr style=\"text-align: right;\">\n",
       "      <th></th>\n",
       "      <th>Model</th>\n",
       "      <th>Accuracy</th>\n",
       "      <th>Precision</th>\n",
       "      <th>Recall</th>\n",
       "      <th>F1 Score</th>\n",
       "    </tr>\n",
       "  </thead>\n",
       "  <tbody>\n",
       "    <tr>\n",
       "      <th>0</th>\n",
       "      <td>Naive Baseline Model</td>\n",
       "      <td>67.08</td>\n",
       "      <td>65.73</td>\n",
       "      <td>67.08</td>\n",
       "      <td>66.38</td>\n",
       "    </tr>\n",
       "    <tr>\n",
       "      <th>1</th>\n",
       "      <td>Linear Classifier</td>\n",
       "      <td>93.98</td>\n",
       "      <td>93.64</td>\n",
       "      <td>93.98</td>\n",
       "      <td>93.73</td>\n",
       "    </tr>\n",
       "    <tr>\n",
       "      <th>2</th>\n",
       "      <td>KNN Classifier</td>\n",
       "      <td>98.32</td>\n",
       "      <td>98.33</td>\n",
       "      <td>98.32</td>\n",
       "      <td>98.32</td>\n",
       "    </tr>\n",
       "    <tr>\n",
       "      <th>3</th>\n",
       "      <td>Decision Tree Classifier</td>\n",
       "      <td>97.48</td>\n",
       "      <td>97.49</td>\n",
       "      <td>97.48</td>\n",
       "      <td>97.48</td>\n",
       "    </tr>\n",
       "  </tbody>\n",
       "</table>\n",
       "</div>"
      ],
      "text/plain": [
       "                      Model  Accuracy  Precision  Recall  F1 Score\n",
       "0      Naive Baseline Model     67.08      65.73   67.08     66.38\n",
       "1         Linear Classifier     93.98      93.64   93.98     93.73\n",
       "2            KNN Classifier     98.32      98.33   98.32     98.32\n",
       "3  Decision Tree Classifier     97.48      97.49   97.48     97.48"
      ]
     },
     "execution_count": 28,
     "metadata": {},
     "output_type": "execute_result"
    }
   ],
   "source": [
    "# Calculating the evaluation metrics\n",
    "accuracy = accuracy_score(y_test_wo_light, y_predicted)\n",
    "weighted_precision = precision_score(y_test_wo_light, y_predicted, average='weighted')\n",
    "weighted_recall = recall_score(y_test_wo_light, y_predicted, average='weighted')\n",
    "weighted_f1 = f1_score(y_test_wo_light, y_predicted, average='weighted')\n",
    "\n",
    "# Creating an evaluation metrics dataframe for the model\n",
    "lr_results = pd.DataFrame([['Decision Tree Classifier', \n",
    "                         round(accuracy*100,2), \n",
    "                         round(weighted_precision*100,2), \n",
    "                         round(weighted_recall*100,2), \n",
    "                         round(weighted_f1*100,2)\n",
    "                        ]],\n",
    "                       columns = ['Model', 'Accuracy', 'Precision', 'Recall', 'F1 Score'])\n",
    "\n",
    "# Appending the evaluation metrics into a dataframe\n",
    "results = results.append(lr_results, ignore_index = True)\n",
    "\n",
    "results"
   ]
  },
  {
   "cell_type": "markdown",
   "id": "78e8e08c",
   "metadata": {},
   "source": [
    "### Random Forest Classifier Model"
   ]
  },
  {
   "cell_type": "code",
   "execution_count": 29,
   "id": "fe5915bf",
   "metadata": {},
   "outputs": [],
   "source": [
    "# Importing the model\n",
    "rf_classifier_model = pickle.load(open('rf_classification_model.sav', 'rb'))"
   ]
  },
  {
   "cell_type": "code",
   "execution_count": 30,
   "id": "f95a5c6c",
   "metadata": {},
   "outputs": [
    {
     "data": {
      "image/png": "[encoded data removed]",
      "text/plain": [
       "<Figure size 600x400 with 2 Axes>"
      ]
     },
     "metadata": {},
     "output_type": "display_data"
    }
   ],
   "source": [
    "# Confusion Matrix\n",
    "y_predicted = rf_classifier_model.predict(X_test_wo_light)\n",
    "cm = confusion_matrix(y_test_wo_light, y_predicted)\n",
    "plt.figure(figsize = (6,4))\n",
    "\n",
    "sns.heatmap(cm, \n",
    "            annot=True, \n",
    "            cmap=\"Spectral\",\n",
    "            fmt='g'\n",
    "           )\n",
    "plt.xlabel('Predicted', fontsize=10)\n",
    "plt.ylabel('Actual/Observed', fontsize=10);"
   ]
  },
  {
   "cell_type": "code",
   "execution_count": 31,
   "id": "6aa21d4b",
   "metadata": {},
   "outputs": [
    {
     "name": "stdout",
     "output_type": "stream",
     "text": [
      "              precision    recall  f1-score   support\n",
      "\n",
      "           0       1.00      1.00      1.00      1619\n",
      "           1       1.00      0.98      0.99       103\n",
      "           2       0.98      1.00      0.99       164\n",
      "           3       0.98      0.98      0.98       140\n",
      "\n",
      "    accuracy                           1.00      2026\n",
      "   macro avg       0.99      0.99      0.99      2026\n",
      "weighted avg       1.00      1.00      1.00      2026\n",
      "\n"
     ]
    }
   ],
   "source": [
    "# Classification Report\n",
    "print(classification_report(y_test_wo_light, y_predicted))"
   ]
  },
  {
   "cell_type": "code",
   "execution_count": 32,
   "id": "f00662b8",
   "metadata": {},
   "outputs": [
    {
     "data": {
      "text/html": [
       "<div>\n",
       "<style scoped>\n",
       "    .dataframe tbody tr th:only-of-type {\n",
       "        vertical-align: middle;\n",
       "    }\n",
       "\n",
       "    .dataframe tbody tr th {\n",
       "        vertical-align: top;\n",
       "    }\n",
       "\n",
       "    .dataframe thead th {\n",
       "        text-align: right;\n",
       "    }\n",
       "</style>\n",
       "<table border=\"1\" class=\"dataframe\">\n",
       "  <thead>\n",
       "    <tr style=\"text-align: right;\">\n",
       "      <th></th>\n",
       "      <th>Model</th>\n",
       "      <th>Accuracy</th>\n",
       "      <th>Precision</th>\n",
       "      <th>Recall</th>\n",
       "      <th>F1 Score</th>\n",
       "    </tr>\n",
       "  </thead>\n",
       "  <tbody>\n",
       "    <tr>\n",
       "      <th>0</th>\n",
       "      <td>Naive Baseline Model</td>\n",
       "      <td>67.08</td>\n",
       "      <td>65.73</td>\n",
       "      <td>67.08</td>\n",
       "      <td>66.38</td>\n",
       "    </tr>\n",
       "    <tr>\n",
       "      <th>1</th>\n",
       "      <td>Linear Classifier</td>\n",
       "      <td>93.98</td>\n",
       "      <td>93.64</td>\n",
       "      <td>93.98</td>\n",
       "      <td>93.73</td>\n",
       "    </tr>\n",
       "    <tr>\n",
       "      <th>2</th>\n",
       "      <td>KNN Classifier</td>\n",
       "      <td>98.32</td>\n",
       "      <td>98.33</td>\n",
       "      <td>98.32</td>\n",
       "      <td>98.32</td>\n",
       "    </tr>\n",
       "    <tr>\n",
       "      <th>3</th>\n",
       "      <td>Decision Tree Classifier</td>\n",
       "      <td>97.48</td>\n",
       "      <td>97.49</td>\n",
       "      <td>97.48</td>\n",
       "      <td>97.48</td>\n",
       "    </tr>\n",
       "    <tr>\n",
       "      <th>4</th>\n",
       "      <td>Random Forest Classifier</td>\n",
       "      <td>99.56</td>\n",
       "      <td>99.56</td>\n",
       "      <td>99.56</td>\n",
       "      <td>99.56</td>\n",
       "    </tr>\n",
       "  </tbody>\n",
       "</table>\n",
       "</div>"
      ],
      "text/plain": [
       "                      Model  Accuracy  Precision  Recall  F1 Score\n",
       "0      Naive Baseline Model     67.08      65.73   67.08     66.38\n",
       "1         Linear Classifier     93.98      93.64   93.98     93.73\n",
       "2            KNN Classifier     98.32      98.33   98.32     98.32\n",
       "3  Decision Tree Classifier     97.48      97.49   97.48     97.48\n",
       "4  Random Forest Classifier     99.56      99.56   99.56     99.56"
      ]
     },
     "execution_count": 32,
     "metadata": {},
     "output_type": "execute_result"
    }
   ],
   "source": [
    "# Calculating the evaluation metrics\n",
    "accuracy = accuracy_score(y_test_wo_light, y_predicted)\n",
    "weighted_precision = precision_score(y_test_wo_light, y_predicted, average='weighted')\n",
    "weighted_recall = recall_score(y_test_wo_light, y_predicted, average='weighted')\n",
    "weighted_f1 = f1_score(y_test_wo_light, y_predicted, average='weighted')\n",
    "\n",
    "# Creating an evaluation metrics dataframe for the model\n",
    "lr_results = pd.DataFrame([['Random Forest Classifier', \n",
    "                         round(accuracy*100,2), \n",
    "                         round(weighted_precision*100,2), \n",
    "                         round(weighted_recall*100,2), \n",
    "                         round(weighted_f1*100,2)\n",
    "                        ]],\n",
    "                       columns = ['Model', 'Accuracy', 'Precision', 'Recall', 'F1 Score'])\n",
    "\n",
    "# Appending the evaluation metrics into a dataframe\n",
    "results = results.append(lr_results, ignore_index = True)\n",
    "\n",
    "results"
   ]
  },
  {
   "cell_type": "markdown",
   "id": "d3dd42a1",
   "metadata": {},
   "source": [
    "### 5. SVM with Linear Kernel"
   ]
  },
  {
   "cell_type": "code",
   "execution_count": 33,
   "id": "2ee2c047",
   "metadata": {},
   "outputs": [],
   "source": [
    "# Importing the model\n",
    "svm_lk_classifier_model = pickle.load(open('svm_lk_classification_model.sav', 'rb'))"
   ]
  },
  {
   "cell_type": "code",
   "execution_count": 34,
   "id": "a8dd97c6",
   "metadata": {},
   "outputs": [
    {
     "data": {
      "image/png": "[encoded data removed]",
      "text/plain": [
       "<Figure size 600x400 with 2 Axes>"
      ]
     },
     "metadata": {},
     "output_type": "display_data"
    }
   ],
   "source": [
    "# Confusion Matrix\n",
    "y_predicted = svm_lk_classifier_model.predict(X_test_scaled_wo_light)\n",
    "cm = confusion_matrix(y_test_wo_light, y_predicted)\n",
    "plt.figure(figsize = (6,4))\n",
    "\n",
    "sns.heatmap(cm, \n",
    "            annot=True, \n",
    "            cmap=\"Spectral\",\n",
    "            fmt='g'\n",
    "           )\n",
    "plt.xlabel('Predicted', fontsize=10)\n",
    "plt.ylabel('Actual/Observed', fontsize=10);"
   ]
  },
  {
   "cell_type": "code",
   "execution_count": 35,
   "id": "32883bca",
   "metadata": {},
   "outputs": [
    {
     "data": {
      "text/html": [
       "<div>\n",
       "<style scoped>\n",
       "    .dataframe tbody tr th:only-of-type {\n",
       "        vertical-align: middle;\n",
       "    }\n",
       "\n",
       "    .dataframe tbody tr th {\n",
       "        vertical-align: top;\n",
       "    }\n",
       "\n",
       "    .dataframe thead th {\n",
       "        text-align: right;\n",
       "    }\n",
       "</style>\n",
       "<table border=\"1\" class=\"dataframe\">\n",
       "  <thead>\n",
       "    <tr style=\"text-align: right;\">\n",
       "      <th></th>\n",
       "      <th>Model</th>\n",
       "      <th>Accuracy</th>\n",
       "      <th>Precision</th>\n",
       "      <th>Recall</th>\n",
       "      <th>F1 Score</th>\n",
       "    </tr>\n",
       "  </thead>\n",
       "  <tbody>\n",
       "    <tr>\n",
       "      <th>0</th>\n",
       "      <td>Naive Baseline Model</td>\n",
       "      <td>67.08</td>\n",
       "      <td>65.73</td>\n",
       "      <td>67.08</td>\n",
       "      <td>66.38</td>\n",
       "    </tr>\n",
       "    <tr>\n",
       "      <th>1</th>\n",
       "      <td>Linear Classifier</td>\n",
       "      <td>93.98</td>\n",
       "      <td>93.64</td>\n",
       "      <td>93.98</td>\n",
       "      <td>93.73</td>\n",
       "    </tr>\n",
       "    <tr>\n",
       "      <th>2</th>\n",
       "      <td>KNN Classifier</td>\n",
       "      <td>98.32</td>\n",
       "      <td>98.33</td>\n",
       "      <td>98.32</td>\n",
       "      <td>98.32</td>\n",
       "    </tr>\n",
       "    <tr>\n",
       "      <th>3</th>\n",
       "      <td>Decision Tree Classifier</td>\n",
       "      <td>97.48</td>\n",
       "      <td>97.49</td>\n",
       "      <td>97.48</td>\n",
       "      <td>97.48</td>\n",
       "    </tr>\n",
       "    <tr>\n",
       "      <th>4</th>\n",
       "      <td>Random Forest Classifier</td>\n",
       "      <td>99.56</td>\n",
       "      <td>99.56</td>\n",
       "      <td>99.56</td>\n",
       "      <td>99.56</td>\n",
       "    </tr>\n",
       "    <tr>\n",
       "      <th>5</th>\n",
       "      <td>SVM with Linear Kernel</td>\n",
       "      <td>94.97</td>\n",
       "      <td>94.92</td>\n",
       "      <td>94.97</td>\n",
       "      <td>94.93</td>\n",
       "    </tr>\n",
       "  </tbody>\n",
       "</table>\n",
       "</div>"
      ],
      "text/plain": [
       "                      Model  Accuracy  Precision  Recall  F1 Score\n",
       "0      Naive Baseline Model     67.08      65.73   67.08     66.38\n",
       "1         Linear Classifier     93.98      93.64   93.98     93.73\n",
       "2            KNN Classifier     98.32      98.33   98.32     98.32\n",
       "3  Decision Tree Classifier     97.48      97.49   97.48     97.48\n",
       "4  Random Forest Classifier     99.56      99.56   99.56     99.56\n",
       "5    SVM with Linear Kernel     94.97      94.92   94.97     94.93"
      ]
     },
     "execution_count": 35,
     "metadata": {},
     "output_type": "execute_result"
    }
   ],
   "source": [
    "# Calculating the evaluation metrics\n",
    "accuracy = accuracy_score(y_test_wo_light, y_predicted)\n",
    "weighted_precision = precision_score(y_test_wo_light, y_predicted, average='weighted')\n",
    "weighted_recall = recall_score(y_test_wo_light, y_predicted, average='weighted')\n",
    "weighted_f1 = f1_score(y_test_wo_light, y_predicted, average='weighted')\n",
    "\n",
    "# Creating an evaluation metrics dataframe for the model\n",
    "lr_results = pd.DataFrame([['SVM with Linear Kernel', \n",
    "                         round(accuracy*100,2), \n",
    "                         round(weighted_precision*100,2), \n",
    "                         round(weighted_recall*100,2), \n",
    "                         round(weighted_f1*100,2)\n",
    "                        ]],\n",
    "                       columns = ['Model', 'Accuracy', 'Precision', 'Recall', 'F1 Score'])\n",
    "\n",
    "# Appending the evaluation metrics into a dataframe\n",
    "results = results.append(lr_results, ignore_index = True)\n",
    "\n",
    "results"
   ]
  },
  {
   "cell_type": "markdown",
   "id": "2014968a",
   "metadata": {},
   "source": [
    "### 6. SVM with Non-Linear Kernel"
   ]
  },
  {
   "cell_type": "code",
   "execution_count": 36,
   "id": "47499b07",
   "metadata": {},
   "outputs": [],
   "source": [
    "# Importing the model\n",
    "svm_nlk_classifier_model = pickle.load(open('svm_nlk_classification_model.sav', 'rb'))"
   ]
  },
  {
   "cell_type": "code",
   "execution_count": 37,
   "id": "96fde60b",
   "metadata": {},
   "outputs": [
    {
     "data": {
      "image/png": "[encoded data removed]",
      "text/plain": [
       "<Figure size 600x400 with 2 Axes>"
      ]
     },
     "metadata": {},
     "output_type": "display_data"
    }
   ],
   "source": [
    "# Confusion Matrix\n",
    "y_predicted = svm_nlk_classifier_model.predict(X_test_scaled_wo_light)\n",
    "cm = confusion_matrix(y_test_wo_light, y_predicted)\n",
    "plt.figure(figsize = (6,4))\n",
    "\n",
    "sns.heatmap(cm, \n",
    "            annot=True, \n",
    "            cmap=\"Spectral\",\n",
    "            fmt='g'\n",
    "           )\n",
    "plt.xlabel('Predicted', fontsize=10)\n",
    "plt.ylabel('Actual/Observed', fontsize=10);"
   ]
  },
  {
   "cell_type": "code",
   "execution_count": 38,
   "id": "20991e17",
   "metadata": {},
   "outputs": [
    {
     "data": {
      "text/html": [
       "<div>\n",
       "<style scoped>\n",
       "    .dataframe tbody tr th:only-of-type {\n",
       "        vertical-align: middle;\n",
       "    }\n",
       "\n",
       "    .dataframe tbody tr th {\n",
       "        vertical-align: top;\n",
       "    }\n",
       "\n",
       "    .dataframe thead th {\n",
       "        text-align: right;\n",
       "    }\n",
       "</style>\n",
       "<table border=\"1\" class=\"dataframe\">\n",
       "  <thead>\n",
       "    <tr style=\"text-align: right;\">\n",
       "      <th></th>\n",
       "      <th>Model</th>\n",
       "      <th>Accuracy</th>\n",
       "      <th>Precision</th>\n",
       "      <th>Recall</th>\n",
       "      <th>F1 Score</th>\n",
       "    </tr>\n",
       "  </thead>\n",
       "  <tbody>\n",
       "    <tr>\n",
       "      <th>0</th>\n",
       "      <td>Naive Baseline Model</td>\n",
       "      <td>67.08</td>\n",
       "      <td>65.73</td>\n",
       "      <td>67.08</td>\n",
       "      <td>66.38</td>\n",
       "    </tr>\n",
       "    <tr>\n",
       "      <th>1</th>\n",
       "      <td>Linear Classifier</td>\n",
       "      <td>93.98</td>\n",
       "      <td>93.64</td>\n",
       "      <td>93.98</td>\n",
       "      <td>93.73</td>\n",
       "    </tr>\n",
       "    <tr>\n",
       "      <th>2</th>\n",
       "      <td>KNN Classifier</td>\n",
       "      <td>98.32</td>\n",
       "      <td>98.33</td>\n",
       "      <td>98.32</td>\n",
       "      <td>98.32</td>\n",
       "    </tr>\n",
       "    <tr>\n",
       "      <th>3</th>\n",
       "      <td>Decision Tree Classifier</td>\n",
       "      <td>97.48</td>\n",
       "      <td>97.49</td>\n",
       "      <td>97.48</td>\n",
       "      <td>97.48</td>\n",
       "    </tr>\n",
       "    <tr>\n",
       "      <th>4</th>\n",
       "      <td>Random Forest Classifier</td>\n",
       "      <td>99.56</td>\n",
       "      <td>99.56</td>\n",
       "      <td>99.56</td>\n",
       "      <td>99.56</td>\n",
       "    </tr>\n",
       "    <tr>\n",
       "      <th>5</th>\n",
       "      <td>SVM with Linear Kernel</td>\n",
       "      <td>94.97</td>\n",
       "      <td>94.92</td>\n",
       "      <td>94.97</td>\n",
       "      <td>94.93</td>\n",
       "    </tr>\n",
       "    <tr>\n",
       "      <th>6</th>\n",
       "      <td>SVM with Non-Linear Kernel</td>\n",
       "      <td>97.83</td>\n",
       "      <td>97.82</td>\n",
       "      <td>97.83</td>\n",
       "      <td>97.81</td>\n",
       "    </tr>\n",
       "  </tbody>\n",
       "</table>\n",
       "</div>"
      ],
      "text/plain": [
       "                        Model  Accuracy  Precision  Recall  F1 Score\n",
       "0        Naive Baseline Model     67.08      65.73   67.08     66.38\n",
       "1           Linear Classifier     93.98      93.64   93.98     93.73\n",
       "2              KNN Classifier     98.32      98.33   98.32     98.32\n",
       "3    Decision Tree Classifier     97.48      97.49   97.48     97.48\n",
       "4    Random Forest Classifier     99.56      99.56   99.56     99.56\n",
       "5      SVM with Linear Kernel     94.97      94.92   94.97     94.93\n",
       "6  SVM with Non-Linear Kernel     97.83      97.82   97.83     97.81"
      ]
     },
     "execution_count": 38,
     "metadata": {},
     "output_type": "execute_result"
    }
   ],
   "source": [
    "# Calculating the evaluation metrics\n",
    "accuracy = accuracy_score(y_test_wo_light, y_predicted)\n",
    "weighted_precision = precision_score(y_test_wo_light, y_predicted, average='weighted')\n",
    "weighted_recall = recall_score(y_test_wo_light, y_predicted, average='weighted')\n",
    "weighted_f1 = f1_score(y_test_wo_light, y_predicted, average='weighted')\n",
    "\n",
    "# Creating an evaluation metrics dataframe for the model\n",
    "lr_results = pd.DataFrame([['SVM with Non-Linear Kernel', \n",
    "                         round(accuracy*100,2), \n",
    "                         round(weighted_precision*100,2), \n",
    "                         round(weighted_recall*100,2), \n",
    "                         round(weighted_f1*100,2)\n",
    "                        ]],\n",
    "                       columns = ['Model', 'Accuracy', 'Precision', 'Recall', 'F1 Score'])\n",
    "\n",
    "# Appending the evaluation metrics into a dataframe\n",
    "results = results.append(lr_results, ignore_index = True)\n",
    "\n",
    "results"
   ]
  },
  {
   "cell_type": "markdown",
   "id": "ff6e06c3",
   "metadata": {},
   "source": [
    "### 7. Deep Learning Model"
   ]
  },
  {
   "cell_type": "code",
   "execution_count": 39,
   "id": "8a65adba",
   "metadata": {},
   "outputs": [],
   "source": [
    "# Importing the model\n",
    "mlp_classifier_model = pickle.load(open('mlp_classification_model.sav', 'rb'))"
   ]
  },
  {
   "cell_type": "code",
   "execution_count": 40,
   "id": "4ffe015c",
   "metadata": {},
   "outputs": [
    {
     "data": {
      "image/png": "[encoded data removed]",
      "text/plain": [
       "<Figure size 600x400 with 2 Axes>"
      ]
     },
     "metadata": {},
     "output_type": "display_data"
    }
   ],
   "source": [
    "# Confusion Matrix\n",
    "y_pred_nn = mlp_classifier_model.predict(X_test_scaled_wo_light)\n",
    "cm = confusion_matrix(y_test_wo_light, y_pred_nn)\n",
    "plt.figure(figsize = (6,4))\n",
    "\n",
    "sns.heatmap(cm, \n",
    "            annot=True, \n",
    "            cmap=\"Spectral\",\n",
    "            fmt='g'\n",
    "           )\n",
    "plt.xlabel('Predicted', fontsize=10)\n",
    "plt.ylabel('Actual/Observed', fontsize=10);"
   ]
  },
  {
   "cell_type": "code",
   "execution_count": 41,
   "id": "ae39bbcd",
   "metadata": {},
   "outputs": [
    {
     "data": {
      "text/html": [
       "<div>\n",
       "<style scoped>\n",
       "    .dataframe tbody tr th:only-of-type {\n",
       "        vertical-align: middle;\n",
       "    }\n",
       "\n",
       "    .dataframe tbody tr th {\n",
       "        vertical-align: top;\n",
       "    }\n",
       "\n",
       "    .dataframe thead th {\n",
       "        text-align: right;\n",
       "    }\n",
       "</style>\n",
       "<table border=\"1\" class=\"dataframe\">\n",
       "  <thead>\n",
       "    <tr style=\"text-align: right;\">\n",
       "      <th></th>\n",
       "      <th>Model</th>\n",
       "      <th>Accuracy</th>\n",
       "      <th>Precision</th>\n",
       "      <th>Recall</th>\n",
       "      <th>F1 Score</th>\n",
       "    </tr>\n",
       "  </thead>\n",
       "  <tbody>\n",
       "    <tr>\n",
       "      <th>0</th>\n",
       "      <td>Naive Baseline Model</td>\n",
       "      <td>67.08</td>\n",
       "      <td>65.73</td>\n",
       "      <td>67.08</td>\n",
       "      <td>66.38</td>\n",
       "    </tr>\n",
       "    <tr>\n",
       "      <th>1</th>\n",
       "      <td>Linear Classifier</td>\n",
       "      <td>93.98</td>\n",
       "      <td>93.64</td>\n",
       "      <td>93.98</td>\n",
       "      <td>93.73</td>\n",
       "    </tr>\n",
       "    <tr>\n",
       "      <th>2</th>\n",
       "      <td>KNN Classifier</td>\n",
       "      <td>98.32</td>\n",
       "      <td>98.33</td>\n",
       "      <td>98.32</td>\n",
       "      <td>98.32</td>\n",
       "    </tr>\n",
       "    <tr>\n",
       "      <th>3</th>\n",
       "      <td>Decision Tree Classifier</td>\n",
       "      <td>97.48</td>\n",
       "      <td>97.49</td>\n",
       "      <td>97.48</td>\n",
       "      <td>97.48</td>\n",
       "    </tr>\n",
       "    <tr>\n",
       "      <th>4</th>\n",
       "      <td>Random Forest Classifier</td>\n",
       "      <td>99.56</td>\n",
       "      <td>99.56</td>\n",
       "      <td>99.56</td>\n",
       "      <td>99.56</td>\n",
       "    </tr>\n",
       "    <tr>\n",
       "      <th>5</th>\n",
       "      <td>SVM with Linear Kernel</td>\n",
       "      <td>94.97</td>\n",
       "      <td>94.92</td>\n",
       "      <td>94.97</td>\n",
       "      <td>94.93</td>\n",
       "    </tr>\n",
       "    <tr>\n",
       "      <th>6</th>\n",
       "      <td>SVM with Non-Linear Kernel</td>\n",
       "      <td>97.83</td>\n",
       "      <td>97.82</td>\n",
       "      <td>97.83</td>\n",
       "      <td>97.81</td>\n",
       "    </tr>\n",
       "    <tr>\n",
       "      <th>7</th>\n",
       "      <td>Deep Learning Model</td>\n",
       "      <td>98.32</td>\n",
       "      <td>98.36</td>\n",
       "      <td>98.32</td>\n",
       "      <td>98.33</td>\n",
       "    </tr>\n",
       "  </tbody>\n",
       "</table>\n",
       "</div>"
      ],
      "text/plain": [
       "                        Model  Accuracy  Precision  Recall  F1 Score\n",
       "0        Naive Baseline Model     67.08      65.73   67.08     66.38\n",
       "1           Linear Classifier     93.98      93.64   93.98     93.73\n",
       "2              KNN Classifier     98.32      98.33   98.32     98.32\n",
       "3    Decision Tree Classifier     97.48      97.49   97.48     97.48\n",
       "4    Random Forest Classifier     99.56      99.56   99.56     99.56\n",
       "5      SVM with Linear Kernel     94.97      94.92   94.97     94.93\n",
       "6  SVM with Non-Linear Kernel     97.83      97.82   97.83     97.81\n",
       "7         Deep Learning Model     98.32      98.36   98.32     98.33"
      ]
     },
     "execution_count": 41,
     "metadata": {},
     "output_type": "execute_result"
    }
   ],
   "source": [
    "# Calculating the evaluation metrics\n",
    "accuracy = accuracy_score(y_test_wo_light, y_pred_nn)\n",
    "weighted_precision = precision_score(y_test_wo_light, y_pred_nn, average='weighted')\n",
    "weighted_recall = recall_score(y_test_wo_light, y_pred_nn, average='weighted')\n",
    "weighted_f1 = f1_score(y_test_wo_light, y_pred_nn, average='weighted')\n",
    "\n",
    "# Creating an evaluation metrics dataframe for the model\n",
    "lr_results = pd.DataFrame([['Deep Learning Model', \n",
    "                         round(accuracy*100,2), \n",
    "                         round(weighted_precision*100,2), \n",
    "                         round(weighted_recall*100,2), \n",
    "                         round(weighted_f1*100,2)\n",
    "                        ]],\n",
    "                       columns = ['Model', 'Accuracy', 'Precision', 'Recall', 'F1 Score'])\n",
    "\n",
    "# Appending the evaluation metrics into a dataframe\n",
    "results = results.append(lr_results, ignore_index = True)\n",
    "\n",
    "results"
   ]
  },
  {
   "cell_type": "markdown",
   "id": "2dbebbc2",
   "metadata": {},
   "source": [
    "### 8. Random Forest Model with Variable selction from Correlation Matrix"
   ]
  },
  {
   "cell_type": "code",
   "execution_count": 42,
   "id": "00f82cb4",
   "metadata": {},
   "outputs": [],
   "source": [
    "# Variable Selction\n",
    "X_train_wo_light_corr_1 = X_train_wo_light.drop(['S3_Temp', 'S4_Temp', 'S5_CO2'], axis=1)\n",
    "X_test_wo_light_corr_1 = X_test_wo_light.drop(['S3_Temp', 'S4_Temp', 'S5_CO2'], axis=1)\n",
    "\n",
    "# Scaling\n",
    "scaler = StandardScaler()\n",
    "X_train_scaled_wo_light_corr_1 = scaler.fit_transform(X_train_wo_light_corr_1)\n",
    "X_test_scaled_wo_light_corr_1 = scaler.transform(X_test_wo_light_corr_1)"
   ]
  },
  {
   "cell_type": "code",
   "execution_count": 43,
   "id": "5d8ef0e8",
   "metadata": {},
   "outputs": [],
   "source": [
    "# Importing the model\n",
    "rf_classifier_model_with_VS = pickle.load(open('rf_classification_model_with_VS.sav', 'rb'))"
   ]
  },
  {
   "cell_type": "code",
   "execution_count": 44,
   "id": "add399b6",
   "metadata": {},
   "outputs": [
    {
     "data": {
      "image/png": "[encoded data removed]",
      "text/plain": [
       "<Figure size 600x400 with 2 Axes>"
      ]
     },
     "metadata": {},
     "output_type": "display_data"
    }
   ],
   "source": [
    "# Confusion Matrix\n",
    "y_predicted = rf_classifier_model_with_VS.predict(X_test_wo_light_corr_1)\n",
    "cm = confusion_matrix(y_test_wo_light, y_predicted)\n",
    "plt.figure(figsize = (6,4))\n",
    "\n",
    "sns.heatmap(cm, \n",
    "            annot=True, \n",
    "            cmap=\"Spectral\",\n",
    "            fmt='g'\n",
    "           )\n",
    "plt.xlabel('Predicted', fontsize=10)\n",
    "plt.ylabel('Actual/Observed', fontsize=10);"
   ]
  },
  {
   "cell_type": "code",
   "execution_count": 45,
   "id": "e2109e2d",
   "metadata": {},
   "outputs": [
    {
     "name": "stdout",
     "output_type": "stream",
     "text": [
      "              precision    recall  f1-score   support\n",
      "\n",
      "           0       1.00      1.00      1.00      1619\n",
      "           1       0.99      0.93      0.96       103\n",
      "           2       0.93      0.98      0.95       164\n",
      "           3       0.93      0.92      0.92       140\n",
      "\n",
      "    accuracy                           0.99      2026\n",
      "   macro avg       0.96      0.96      0.96      2026\n",
      "weighted avg       0.99      0.99      0.99      2026\n",
      "\n"
     ]
    }
   ],
   "source": [
    "# Classification Report\n",
    "print(classification_report(y_test_wo_light, y_predicted))"
   ]
  },
  {
   "cell_type": "code",
   "execution_count": 46,
   "id": "209e9f79",
   "metadata": {},
   "outputs": [
    {
     "data": {
      "text/html": [
       "<div>\n",
       "<style scoped>\n",
       "    .dataframe tbody tr th:only-of-type {\n",
       "        vertical-align: middle;\n",
       "    }\n",
       "\n",
       "    .dataframe tbody tr th {\n",
       "        vertical-align: top;\n",
       "    }\n",
       "\n",
       "    .dataframe thead th {\n",
       "        text-align: right;\n",
       "    }\n",
       "</style>\n",
       "<table border=\"1\" class=\"dataframe\">\n",
       "  <thead>\n",
       "    <tr style=\"text-align: right;\">\n",
       "      <th></th>\n",
       "      <th>Model</th>\n",
       "      <th>Accuracy</th>\n",
       "      <th>Precision</th>\n",
       "      <th>Recall</th>\n",
       "      <th>F1 Score</th>\n",
       "    </tr>\n",
       "  </thead>\n",
       "  <tbody>\n",
       "    <tr>\n",
       "      <th>0</th>\n",
       "      <td>Naive Baseline Model</td>\n",
       "      <td>67.08</td>\n",
       "      <td>65.73</td>\n",
       "      <td>67.08</td>\n",
       "      <td>66.38</td>\n",
       "    </tr>\n",
       "    <tr>\n",
       "      <th>1</th>\n",
       "      <td>Linear Classifier</td>\n",
       "      <td>93.98</td>\n",
       "      <td>93.64</td>\n",
       "      <td>93.98</td>\n",
       "      <td>93.73</td>\n",
       "    </tr>\n",
       "    <tr>\n",
       "      <th>2</th>\n",
       "      <td>KNN Classifier</td>\n",
       "      <td>98.32</td>\n",
       "      <td>98.33</td>\n",
       "      <td>98.32</td>\n",
       "      <td>98.32</td>\n",
       "    </tr>\n",
       "    <tr>\n",
       "      <th>3</th>\n",
       "      <td>Decision Tree Classifier</td>\n",
       "      <td>97.48</td>\n",
       "      <td>97.49</td>\n",
       "      <td>97.48</td>\n",
       "      <td>97.48</td>\n",
       "    </tr>\n",
       "    <tr>\n",
       "      <th>4</th>\n",
       "      <td>Random Forest Classifier</td>\n",
       "      <td>99.56</td>\n",
       "      <td>99.56</td>\n",
       "      <td>99.56</td>\n",
       "      <td>99.56</td>\n",
       "    </tr>\n",
       "    <tr>\n",
       "      <th>5</th>\n",
       "      <td>SVM with Linear Kernel</td>\n",
       "      <td>94.97</td>\n",
       "      <td>94.92</td>\n",
       "      <td>94.97</td>\n",
       "      <td>94.93</td>\n",
       "    </tr>\n",
       "    <tr>\n",
       "      <th>6</th>\n",
       "      <td>SVM with Non-Linear Kernel</td>\n",
       "      <td>97.83</td>\n",
       "      <td>97.82</td>\n",
       "      <td>97.83</td>\n",
       "      <td>97.81</td>\n",
       "    </tr>\n",
       "    <tr>\n",
       "      <th>7</th>\n",
       "      <td>Deep Learning Model</td>\n",
       "      <td>98.32</td>\n",
       "      <td>98.36</td>\n",
       "      <td>98.32</td>\n",
       "      <td>98.33</td>\n",
       "    </tr>\n",
       "    <tr>\n",
       "      <th>8</th>\n",
       "      <td>Random Forest Using Correlation Matrix</td>\n",
       "      <td>98.72</td>\n",
       "      <td>98.74</td>\n",
       "      <td>98.72</td>\n",
       "      <td>98.72</td>\n",
       "    </tr>\n",
       "  </tbody>\n",
       "</table>\n",
       "</div>"
      ],
      "text/plain": [
       "                                    Model  Accuracy  Precision  Recall  \\\n",
       "0                    Naive Baseline Model     67.08      65.73   67.08   \n",
       "1                       Linear Classifier     93.98      93.64   93.98   \n",
       "2                          KNN Classifier     98.32      98.33   98.32   \n",
       "3                Decision Tree Classifier     97.48      97.49   97.48   \n",
       "4                Random Forest Classifier     99.56      99.56   99.56   \n",
       "5                  SVM with Linear Kernel     94.97      94.92   94.97   \n",
       "6              SVM with Non-Linear Kernel     97.83      97.82   97.83   \n",
       "7                     Deep Learning Model     98.32      98.36   98.32   \n",
       "8  Random Forest Using Correlation Matrix     98.72      98.74   98.72   \n",
       "\n",
       "   F1 Score  \n",
       "0     66.38  \n",
       "1     93.73  \n",
       "2     98.32  \n",
       "3     97.48  \n",
       "4     99.56  \n",
       "5     94.93  \n",
       "6     97.81  \n",
       "7     98.33  \n",
       "8     98.72  "
      ]
     },
     "execution_count": 46,
     "metadata": {},
     "output_type": "execute_result"
    }
   ],
   "source": [
    "# Calculating the evaluation metrics\n",
    "accuracy = accuracy_score(y_test_wo_light, y_predicted)\n",
    "weighted_precision = precision_score(y_test_wo_light, y_predicted, average='weighted')\n",
    "weighted_recall = recall_score(y_test_wo_light, y_predicted, average='weighted')\n",
    "weighted_f1 = f1_score(y_test_wo_light, y_predicted, average='weighted')\n",
    "\n",
    "# Creating an evaluation metrics dataframe for the model\n",
    "lr_results = pd.DataFrame([['Random Forest Using Correlation Matrix', \n",
    "                         round(accuracy*100,2), \n",
    "                         round(weighted_precision*100,2), \n",
    "                         round(weighted_recall*100,2), \n",
    "                         round(weighted_f1*100,2)\n",
    "                        ]],\n",
    "                       columns = ['Model', 'Accuracy', 'Precision', 'Recall', 'F1 Score'])\n",
    "\n",
    "# Appending the evaluation metrics into a dataframe\n",
    "results = results.append(lr_results, ignore_index = True)\n",
    "\n",
    "results"
   ]
  },
  {
   "cell_type": "markdown",
   "id": "470b2b10",
   "metadata": {},
   "source": [
    "### 9. Deep Learning Model with Variable Selection from Correlation Matrix"
   ]
  },
  {
   "cell_type": "code",
   "execution_count": 47,
   "id": "ec6e4614",
   "metadata": {},
   "outputs": [],
   "source": [
    "# Importing the model\n",
    "mlp_classifier_model_with_VS = pickle.load(open('mlp_classification_model_with_VS.sav', 'rb'))"
   ]
  },
  {
   "cell_type": "code",
   "execution_count": 48,
   "id": "07c814d6",
   "metadata": {},
   "outputs": [
    {
     "data": {
      "image/png": "[encoded data removed]",
      "text/plain": [
       "<Figure size 600x400 with 2 Axes>"
      ]
     },
     "metadata": {},
     "output_type": "display_data"
    }
   ],
   "source": [
    "# Confusion Matrix\n",
    "y_pred_nn_with_VS = mlp_classifier_model_with_VS.predict(X_test_scaled_wo_light_corr_1)\n",
    "cm = confusion_matrix(y_test_wo_light, y_pred_nn_with_VS)\n",
    "plt.figure(figsize = (6,4))\n",
    "\n",
    "sns.heatmap(cm, \n",
    "            annot=True, \n",
    "            cmap=\"Spectral\",\n",
    "            fmt='g'\n",
    "           )\n",
    "plt.xlabel('Predicted', fontsize=10)\n",
    "plt.ylabel('Actual/Observed', fontsize=10);"
   ]
  },
  {
   "cell_type": "code",
   "execution_count": 49,
   "id": "78feb358",
   "metadata": {},
   "outputs": [
    {
     "data": {
      "text/html": [
       "<div>\n",
       "<style scoped>\n",
       "    .dataframe tbody tr th:only-of-type {\n",
       "        vertical-align: middle;\n",
       "    }\n",
       "\n",
       "    .dataframe tbody tr th {\n",
       "        vertical-align: top;\n",
       "    }\n",
       "\n",
       "    .dataframe thead th {\n",
       "        text-align: right;\n",
       "    }\n",
       "</style>\n",
       "<table border=\"1\" class=\"dataframe\">\n",
       "  <thead>\n",
       "    <tr style=\"text-align: right;\">\n",
       "      <th></th>\n",
       "      <th>Model</th>\n",
       "      <th>Accuracy</th>\n",
       "      <th>Precision</th>\n",
       "      <th>Recall</th>\n",
       "      <th>F1 Score</th>\n",
       "    </tr>\n",
       "  </thead>\n",
       "  <tbody>\n",
       "    <tr>\n",
       "      <th>0</th>\n",
       "      <td>Naive Baseline Model</td>\n",
       "      <td>67.08</td>\n",
       "      <td>65.73</td>\n",
       "      <td>67.08</td>\n",
       "      <td>66.38</td>\n",
       "    </tr>\n",
       "    <tr>\n",
       "      <th>1</th>\n",
       "      <td>Linear Classifier</td>\n",
       "      <td>93.98</td>\n",
       "      <td>93.64</td>\n",
       "      <td>93.98</td>\n",
       "      <td>93.73</td>\n",
       "    </tr>\n",
       "    <tr>\n",
       "      <th>2</th>\n",
       "      <td>KNN Classifier</td>\n",
       "      <td>98.32</td>\n",
       "      <td>98.33</td>\n",
       "      <td>98.32</td>\n",
       "      <td>98.32</td>\n",
       "    </tr>\n",
       "    <tr>\n",
       "      <th>3</th>\n",
       "      <td>Decision Tree Classifier</td>\n",
       "      <td>97.48</td>\n",
       "      <td>97.49</td>\n",
       "      <td>97.48</td>\n",
       "      <td>97.48</td>\n",
       "    </tr>\n",
       "    <tr>\n",
       "      <th>4</th>\n",
       "      <td>Random Forest Classifier</td>\n",
       "      <td>99.56</td>\n",
       "      <td>99.56</td>\n",
       "      <td>99.56</td>\n",
       "      <td>99.56</td>\n",
       "    </tr>\n",
       "    <tr>\n",
       "      <th>5</th>\n",
       "      <td>SVM with Linear Kernel</td>\n",
       "      <td>94.97</td>\n",
       "      <td>94.92</td>\n",
       "      <td>94.97</td>\n",
       "      <td>94.93</td>\n",
       "    </tr>\n",
       "    <tr>\n",
       "      <th>6</th>\n",
       "      <td>SVM with Non-Linear Kernel</td>\n",
       "      <td>97.83</td>\n",
       "      <td>97.82</td>\n",
       "      <td>97.83</td>\n",
       "      <td>97.81</td>\n",
       "    </tr>\n",
       "    <tr>\n",
       "      <th>7</th>\n",
       "      <td>Deep Learning Model</td>\n",
       "      <td>98.32</td>\n",
       "      <td>98.36</td>\n",
       "      <td>98.32</td>\n",
       "      <td>98.33</td>\n",
       "    </tr>\n",
       "    <tr>\n",
       "      <th>8</th>\n",
       "      <td>Random Forest Using Correlation Matrix</td>\n",
       "      <td>98.72</td>\n",
       "      <td>98.74</td>\n",
       "      <td>98.72</td>\n",
       "      <td>98.72</td>\n",
       "    </tr>\n",
       "    <tr>\n",
       "      <th>9</th>\n",
       "      <td>Deep Learning Model using Correlation Matrix</td>\n",
       "      <td>97.63</td>\n",
       "      <td>97.63</td>\n",
       "      <td>97.63</td>\n",
       "      <td>97.62</td>\n",
       "    </tr>\n",
       "  </tbody>\n",
       "</table>\n",
       "</div>"
      ],
      "text/plain": [
       "                                          Model  Accuracy  Precision  Recall  \\\n",
       "0                          Naive Baseline Model     67.08      65.73   67.08   \n",
       "1                             Linear Classifier     93.98      93.64   93.98   \n",
       "2                                KNN Classifier     98.32      98.33   98.32   \n",
       "3                      Decision Tree Classifier     97.48      97.49   97.48   \n",
       "4                      Random Forest Classifier     99.56      99.56   99.56   \n",
       "5                        SVM with Linear Kernel     94.97      94.92   94.97   \n",
       "6                    SVM with Non-Linear Kernel     97.83      97.82   97.83   \n",
       "7                           Deep Learning Model     98.32      98.36   98.32   \n",
       "8        Random Forest Using Correlation Matrix     98.72      98.74   98.72   \n",
       "9  Deep Learning Model using Correlation Matrix     97.63      97.63   97.63   \n",
       "\n",
       "   F1 Score  \n",
       "0     66.38  \n",
       "1     93.73  \n",
       "2     98.32  \n",
       "3     97.48  \n",
       "4     99.56  \n",
       "5     94.93  \n",
       "6     97.81  \n",
       "7     98.33  \n",
       "8     98.72  \n",
       "9     97.62  "
      ]
     },
     "execution_count": 49,
     "metadata": {},
     "output_type": "execute_result"
    }
   ],
   "source": [
    "# Calculating the evaluation metrics\n",
    "accuracy = accuracy_score(y_test_wo_light, y_pred_nn_with_VS)\n",
    "weighted_precision = precision_score(y_test_wo_light, y_pred_nn_with_VS, average='weighted')\n",
    "weighted_recall = recall_score(y_test_wo_light, y_pred_nn_with_VS, average='weighted')\n",
    "weighted_f1 = f1_score(y_test_wo_light, y_pred_nn_with_VS, average='weighted')\n",
    "\n",
    "# Creating an evaluation metrics dataframe for the model\n",
    "lr_results = pd.DataFrame([['Deep Learning Model using Correlation Matrix', \n",
    "                         round(accuracy*100,2), \n",
    "                         round(weighted_precision*100,2), \n",
    "                         round(weighted_recall*100,2), \n",
    "                         round(weighted_f1*100,2)\n",
    "                        ]],\n",
    "                       columns = ['Model', 'Accuracy', 'Precision', 'Recall', 'F1 Score'])\n",
    "\n",
    "# Appending the evaluation metrics into a dataframe\n",
    "results = results.append(lr_results, ignore_index = True)\n",
    "\n",
    "results"
   ]
  },
  {
   "cell_type": "markdown",
   "id": "4b988ee2",
   "metadata": {},
   "source": [
    "### 10. Random Forest Model with Variable selction using Bidirectional Elimination"
   ]
  },
  {
   "cell_type": "code",
   "execution_count": 50,
   "id": "b99468e5",
   "metadata": {},
   "outputs": [],
   "source": [
    "# Variable Selction\n",
    "X_train_wo_light_corr_2 = X_train_wo_light.drop(['S1_Sound', 'S2_Sound', 'S3_Sound'], axis=1)\n",
    "X_test_wo_light_corr_2 = X_test_wo_light.drop(['S1_Sound', 'S2_Sound', 'S3_Sound'], axis=1)\n",
    "\n",
    "# Scaling\n",
    "scaler = StandardScaler()\n",
    "X_train_scaled_wo_light_corr_2 = scaler.fit_transform(X_train_wo_light_corr_2)\n",
    "X_test_scaled_wo_light_corr_2 = scaler.transform(X_test_wo_light_corr_2)"
   ]
  },
  {
   "cell_type": "code",
   "execution_count": 51,
   "id": "efe8a2ae",
   "metadata": {},
   "outputs": [],
   "source": [
    "# Importing the model\n",
    "rf_classifier_model_with_BD = pickle.load(open('rf_classification_model_with_BD.sav', 'rb'))"
   ]
  },
  {
   "cell_type": "code",
   "execution_count": 52,
   "id": "ae8c1336",
   "metadata": {},
   "outputs": [
    {
     "data": {
      "image/png": "[encoded data removed]",
      "text/plain": [
       "<Figure size 600x400 with 2 Axes>"
      ]
     },
     "metadata": {},
     "output_type": "display_data"
    }
   ],
   "source": [
    "# Confusion Matrix\n",
    "y_predicted = rf_classifier_model_with_BD.predict(X_test_wo_light_corr_2)\n",
    "cm = confusion_matrix(y_test_wo_light, y_predicted)\n",
    "plt.figure(figsize = (6,4))\n",
    "\n",
    "sns.heatmap(cm, \n",
    "            annot=True, \n",
    "            cmap=\"Spectral\",\n",
    "            fmt='g'\n",
    "           )\n",
    "plt.xlabel('Predicted', fontsize=10)\n",
    "plt.ylabel('Actual/Observed', fontsize=10);"
   ]
  },
  {
   "cell_type": "code",
   "execution_count": 53,
   "id": "c8084099",
   "metadata": {},
   "outputs": [
    {
     "name": "stdout",
     "output_type": "stream",
     "text": [
      "              precision    recall  f1-score   support\n",
      "\n",
      "           0       1.00      1.00      1.00      1619\n",
      "           1       1.00      1.00      1.00       103\n",
      "           2       0.99      0.99      0.99       164\n",
      "           3       0.97      0.99      0.98       140\n",
      "\n",
      "    accuracy                           1.00      2026\n",
      "   macro avg       0.99      1.00      0.99      2026\n",
      "weighted avg       1.00      1.00      1.00      2026\n",
      "\n"
     ]
    }
   ],
   "source": [
    "# Classification Report\n",
    "print(classification_report(y_test_wo_light, y_predicted))"
   ]
  },
  {
   "cell_type": "code",
   "execution_count": 54,
   "id": "c69e71a8",
   "metadata": {},
   "outputs": [
    {
     "data": {
      "text/html": [
       "<div>\n",
       "<style scoped>\n",
       "    .dataframe tbody tr th:only-of-type {\n",
       "        vertical-align: middle;\n",
       "    }\n",
       "\n",
       "    .dataframe tbody tr th {\n",
       "        vertical-align: top;\n",
       "    }\n",
       "\n",
       "    .dataframe thead th {\n",
       "        text-align: right;\n",
       "    }\n",
       "</style>\n",
       "<table border=\"1\" class=\"dataframe\">\n",
       "  <thead>\n",
       "    <tr style=\"text-align: right;\">\n",
       "      <th></th>\n",
       "      <th>Model</th>\n",
       "      <th>Accuracy</th>\n",
       "      <th>Precision</th>\n",
       "      <th>Recall</th>\n",
       "      <th>F1 Score</th>\n",
       "    </tr>\n",
       "  </thead>\n",
       "  <tbody>\n",
       "    <tr>\n",
       "      <th>0</th>\n",
       "      <td>Naive Baseline Model</td>\n",
       "      <td>67.08</td>\n",
       "      <td>65.73</td>\n",
       "      <td>67.08</td>\n",
       "      <td>66.38</td>\n",
       "    </tr>\n",
       "    <tr>\n",
       "      <th>1</th>\n",
       "      <td>Linear Classifier</td>\n",
       "      <td>93.98</td>\n",
       "      <td>93.64</td>\n",
       "      <td>93.98</td>\n",
       "      <td>93.73</td>\n",
       "    </tr>\n",
       "    <tr>\n",
       "      <th>2</th>\n",
       "      <td>KNN Classifier</td>\n",
       "      <td>98.32</td>\n",
       "      <td>98.33</td>\n",
       "      <td>98.32</td>\n",
       "      <td>98.32</td>\n",
       "    </tr>\n",
       "    <tr>\n",
       "      <th>3</th>\n",
       "      <td>Decision Tree Classifier</td>\n",
       "      <td>97.48</td>\n",
       "      <td>97.49</td>\n",
       "      <td>97.48</td>\n",
       "      <td>97.48</td>\n",
       "    </tr>\n",
       "    <tr>\n",
       "      <th>4</th>\n",
       "      <td>Random Forest Classifier</td>\n",
       "      <td>99.56</td>\n",
       "      <td>99.56</td>\n",
       "      <td>99.56</td>\n",
       "      <td>99.56</td>\n",
       "    </tr>\n",
       "    <tr>\n",
       "      <th>5</th>\n",
       "      <td>SVM with Linear Kernel</td>\n",
       "      <td>94.97</td>\n",
       "      <td>94.92</td>\n",
       "      <td>94.97</td>\n",
       "      <td>94.93</td>\n",
       "    </tr>\n",
       "    <tr>\n",
       "      <th>6</th>\n",
       "      <td>SVM with Non-Linear Kernel</td>\n",
       "      <td>97.83</td>\n",
       "      <td>97.82</td>\n",
       "      <td>97.83</td>\n",
       "      <td>97.81</td>\n",
       "    </tr>\n",
       "    <tr>\n",
       "      <th>7</th>\n",
       "      <td>Deep Learning Model</td>\n",
       "      <td>98.32</td>\n",
       "      <td>98.36</td>\n",
       "      <td>98.32</td>\n",
       "      <td>98.33</td>\n",
       "    </tr>\n",
       "    <tr>\n",
       "      <th>8</th>\n",
       "      <td>Random Forest Using Correlation Matrix</td>\n",
       "      <td>98.72</td>\n",
       "      <td>98.74</td>\n",
       "      <td>98.72</td>\n",
       "      <td>98.72</td>\n",
       "    </tr>\n",
       "    <tr>\n",
       "      <th>9</th>\n",
       "      <td>Deep Learning Model using Correlation Matrix</td>\n",
       "      <td>97.63</td>\n",
       "      <td>97.63</td>\n",
       "      <td>97.63</td>\n",
       "      <td>97.62</td>\n",
       "    </tr>\n",
       "    <tr>\n",
       "      <th>10</th>\n",
       "      <td>Random Forest Using Bi-directional Elimination</td>\n",
       "      <td>99.70</td>\n",
       "      <td>99.71</td>\n",
       "      <td>99.70</td>\n",
       "      <td>99.71</td>\n",
       "    </tr>\n",
       "  </tbody>\n",
       "</table>\n",
       "</div>"
      ],
      "text/plain": [
       "                                             Model  Accuracy  Precision  \\\n",
       "0                             Naive Baseline Model     67.08      65.73   \n",
       "1                                Linear Classifier     93.98      93.64   \n",
       "2                                   KNN Classifier     98.32      98.33   \n",
       "3                         Decision Tree Classifier     97.48      97.49   \n",
       "4                         Random Forest Classifier     99.56      99.56   \n",
       "5                           SVM with Linear Kernel     94.97      94.92   \n",
       "6                       SVM with Non-Linear Kernel     97.83      97.82   \n",
       "7                              Deep Learning Model     98.32      98.36   \n",
       "8           Random Forest Using Correlation Matrix     98.72      98.74   \n",
       "9     Deep Learning Model using Correlation Matrix     97.63      97.63   \n",
       "10  Random Forest Using Bi-directional Elimination     99.70      99.71   \n",
       "\n",
       "    Recall  F1 Score  \n",
       "0    67.08     66.38  \n",
       "1    93.98     93.73  \n",
       "2    98.32     98.32  \n",
       "3    97.48     97.48  \n",
       "4    99.56     99.56  \n",
       "5    94.97     94.93  \n",
       "6    97.83     97.81  \n",
       "7    98.32     98.33  \n",
       "8    98.72     98.72  \n",
       "9    97.63     97.62  \n",
       "10   99.70     99.71  "
      ]
     },
     "execution_count": 54,
     "metadata": {},
     "output_type": "execute_result"
    }
   ],
   "source": [
    "# Calculating the evaluation metrics\n",
    "accuracy = accuracy_score(y_test_wo_light, y_predicted)\n",
    "weighted_precision = precision_score(y_test_wo_light, y_predicted, average='weighted')\n",
    "weighted_recall = recall_score(y_test_wo_light, y_predicted, average='weighted')\n",
    "weighted_f1 = f1_score(y_test_wo_light, y_predicted, average='weighted')\n",
    "\n",
    "# Creating an evaluation metrics dataframe for the model\n",
    "lr_results = pd.DataFrame([['Random Forest Using Bi-directional Elimination', \n",
    "                         round(accuracy*100,2), \n",
    "                         round(weighted_precision*100,2), \n",
    "                         round(weighted_recall*100,2), \n",
    "                         round(weighted_f1*100,2)\n",
    "                        ]],\n",
    "                       columns = ['Model', 'Accuracy', 'Precision', 'Recall', 'F1 Score'])\n",
    "\n",
    "# Appending the evaluation metrics into a dataframe\n",
    "results = results.append(lr_results, ignore_index = True)\n",
    "\n",
    "results"
   ]
  },
  {
   "cell_type": "markdown",
   "id": "eb433b30",
   "metadata": {},
   "source": [
    "### 11. Deep Learning Model with Variable Selection using Bi-directional Elimination"
   ]
  },
  {
   "cell_type": "code",
   "execution_count": 55,
   "id": "9373c853",
   "metadata": {},
   "outputs": [],
   "source": [
    "# Importing the model\n",
    "mlp_classifier_model_with_BD = pickle.load(open('mlp_classification_model_with_BD.sav', 'rb'))"
   ]
  },
  {
   "cell_type": "code",
   "execution_count": 56,
   "id": "f58192a4",
   "metadata": {},
   "outputs": [
    {
     "data": {
      "image/png": "[encoded data removed]",
      "text/plain": [
       "<Figure size 600x400 with 2 Axes>"
      ]
     },
     "metadata": {},
     "output_type": "display_data"
    }
   ],
   "source": [
    "# Confusion Matrix\n",
    "y_pred_nn_with_BD = mlp_classifier_model_with_BD.predict(X_test_scaled_wo_light_corr_2)\n",
    "cm = confusion_matrix(y_test_wo_light, y_pred_nn_with_BD)\n",
    "plt.figure(figsize = (6,4))\n",
    "\n",
    "sns.heatmap(cm, \n",
    "            annot=True, \n",
    "            cmap=\"Spectral\",\n",
    "            fmt='g'\n",
    "           )\n",
    "plt.xlabel('Predicted', fontsize=10)\n",
    "plt.ylabel('Actual/Observed', fontsize=10);"
   ]
  },
  {
   "cell_type": "code",
   "execution_count": 57,
   "id": "3d6a057e",
   "metadata": {},
   "outputs": [
    {
     "data": {
      "text/html": [
       "<div>\n",
       "<style scoped>\n",
       "    .dataframe tbody tr th:only-of-type {\n",
       "        vertical-align: middle;\n",
       "    }\n",
       "\n",
       "    .dataframe tbody tr th {\n",
       "        vertical-align: top;\n",
       "    }\n",
       "\n",
       "    .dataframe thead th {\n",
       "        text-align: right;\n",
       "    }\n",
       "</style>\n",
       "<table border=\"1\" class=\"dataframe\">\n",
       "  <thead>\n",
       "    <tr style=\"text-align: right;\">\n",
       "      <th></th>\n",
       "      <th>Model</th>\n",
       "      <th>Accuracy</th>\n",
       "      <th>Precision</th>\n",
       "      <th>Recall</th>\n",
       "      <th>F1 Score</th>\n",
       "    </tr>\n",
       "  </thead>\n",
       "  <tbody>\n",
       "    <tr>\n",
       "      <th>0</th>\n",
       "      <td>Naive Baseline Model</td>\n",
       "      <td>67.08</td>\n",
       "      <td>65.73</td>\n",
       "      <td>67.08</td>\n",
       "      <td>66.38</td>\n",
       "    </tr>\n",
       "    <tr>\n",
       "      <th>1</th>\n",
       "      <td>Linear Classifier</td>\n",
       "      <td>93.98</td>\n",
       "      <td>93.64</td>\n",
       "      <td>93.98</td>\n",
       "      <td>93.73</td>\n",
       "    </tr>\n",
       "    <tr>\n",
       "      <th>2</th>\n",
       "      <td>KNN Classifier</td>\n",
       "      <td>98.32</td>\n",
       "      <td>98.33</td>\n",
       "      <td>98.32</td>\n",
       "      <td>98.32</td>\n",
       "    </tr>\n",
       "    <tr>\n",
       "      <th>3</th>\n",
       "      <td>Decision Tree Classifier</td>\n",
       "      <td>97.48</td>\n",
       "      <td>97.49</td>\n",
       "      <td>97.48</td>\n",
       "      <td>97.48</td>\n",
       "    </tr>\n",
       "    <tr>\n",
       "      <th>4</th>\n",
       "      <td>Random Forest Classifier</td>\n",
       "      <td>99.56</td>\n",
       "      <td>99.56</td>\n",
       "      <td>99.56</td>\n",
       "      <td>99.56</td>\n",
       "    </tr>\n",
       "    <tr>\n",
       "      <th>5</th>\n",
       "      <td>SVM with Linear Kernel</td>\n",
       "      <td>94.97</td>\n",
       "      <td>94.92</td>\n",
       "      <td>94.97</td>\n",
       "      <td>94.93</td>\n",
       "    </tr>\n",
       "    <tr>\n",
       "      <th>6</th>\n",
       "      <td>SVM with Non-Linear Kernel</td>\n",
       "      <td>97.83</td>\n",
       "      <td>97.82</td>\n",
       "      <td>97.83</td>\n",
       "      <td>97.81</td>\n",
       "    </tr>\n",
       "    <tr>\n",
       "      <th>7</th>\n",
       "      <td>Deep Learning Model</td>\n",
       "      <td>98.32</td>\n",
       "      <td>98.36</td>\n",
       "      <td>98.32</td>\n",
       "      <td>98.33</td>\n",
       "    </tr>\n",
       "    <tr>\n",
       "      <th>8</th>\n",
       "      <td>Random Forest Using Correlation Matrix</td>\n",
       "      <td>98.72</td>\n",
       "      <td>98.74</td>\n",
       "      <td>98.72</td>\n",
       "      <td>98.72</td>\n",
       "    </tr>\n",
       "    <tr>\n",
       "      <th>9</th>\n",
       "      <td>Deep Learning Model using Correlation Matrix</td>\n",
       "      <td>97.63</td>\n",
       "      <td>97.63</td>\n",
       "      <td>97.63</td>\n",
       "      <td>97.62</td>\n",
       "    </tr>\n",
       "    <tr>\n",
       "      <th>10</th>\n",
       "      <td>Random Forest Using Bi-directional Elimination</td>\n",
       "      <td>99.70</td>\n",
       "      <td>99.71</td>\n",
       "      <td>99.70</td>\n",
       "      <td>99.71</td>\n",
       "    </tr>\n",
       "    <tr>\n",
       "      <th>11</th>\n",
       "      <td>Deep Learning Model using Bi-directional Elimi...</td>\n",
       "      <td>99.26</td>\n",
       "      <td>99.26</td>\n",
       "      <td>99.26</td>\n",
       "      <td>99.26</td>\n",
       "    </tr>\n",
       "  </tbody>\n",
       "</table>\n",
       "</div>"
      ],
      "text/plain": [
       "                                                Model  Accuracy  Precision  \\\n",
       "0                                Naive Baseline Model     67.08      65.73   \n",
       "1                                   Linear Classifier     93.98      93.64   \n",
       "2                                      KNN Classifier     98.32      98.33   \n",
       "3                            Decision Tree Classifier     97.48      97.49   \n",
       "4                            Random Forest Classifier     99.56      99.56   \n",
       "5                              SVM with Linear Kernel     94.97      94.92   \n",
       "6                          SVM with Non-Linear Kernel     97.83      97.82   \n",
       "7                                 Deep Learning Model     98.32      98.36   \n",
       "8              Random Forest Using Correlation Matrix     98.72      98.74   \n",
       "9        Deep Learning Model using Correlation Matrix     97.63      97.63   \n",
       "10     Random Forest Using Bi-directional Elimination     99.70      99.71   \n",
       "11  Deep Learning Model using Bi-directional Elimi...     99.26      99.26   \n",
       "\n",
       "    Recall  F1 Score  \n",
       "0    67.08     66.38  \n",
       "1    93.98     93.73  \n",
       "2    98.32     98.32  \n",
       "3    97.48     97.48  \n",
       "4    99.56     99.56  \n",
       "5    94.97     94.93  \n",
       "6    97.83     97.81  \n",
       "7    98.32     98.33  \n",
       "8    98.72     98.72  \n",
       "9    97.63     97.62  \n",
       "10   99.70     99.71  \n",
       "11   99.26     99.26  "
      ]
     },
     "execution_count": 57,
     "metadata": {},
     "output_type": "execute_result"
    }
   ],
   "source": [
    "# Calculating the evaluation metrics\n",
    "accuracy = accuracy_score(y_test_wo_light, y_pred_nn_with_BD)\n",
    "weighted_precision = precision_score(y_test_wo_light, y_pred_nn_with_BD, average='weighted')\n",
    "weighted_recall = recall_score(y_test_wo_light, y_pred_nn_with_BD, average='weighted')\n",
    "weighted_f1 = f1_score(y_test_wo_light, y_pred_nn_with_BD, average='weighted')\n",
    "\n",
    "# Creating an evaluation metrics dataframe for the model\n",
    "lr_results = pd.DataFrame([['Deep Learning Model using Bi-directional Elimination', \n",
    "                         round(accuracy*100,2), \n",
    "                         round(weighted_precision*100,2), \n",
    "                         round(weighted_recall*100,2), \n",
    "                         round(weighted_f1*100,2)\n",
    "                        ]],\n",
    "                       columns = ['Model', 'Accuracy', 'Precision', 'Recall', 'F1 Score'])\n",
    "\n",
    "# Appending the evaluation metrics into a dataframe\n",
    "results = results.append(lr_results, ignore_index = True)\n",
    "\n",
    "results"
   ]
  },
  {
   "cell_type": "code",
   "execution_count": null,
   "id": "8f031839",
   "metadata": {},
   "outputs": [],
   "source": []
  }
 ],
 "metadata": {
  "kernelspec": {
   "display_name": "Python 3 (ipykernel)",
   "language": "python",
   "name": "python3"
  },
  "language_info": {
   "codemirror_mode": {
    "name": "ipython",
    "version": 3
   },
   "file_extension": ".py",
   "mimetype": "text/x-python",
   "name": "python",
   "nbconvert_exporter": "python",
   "pygments_lexer": "ipython3",
   "version": "3.9.13"
  }
 },
 "nbformat": 4,
 "nbformat_minor": 5
}
