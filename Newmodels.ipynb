{
 "cells": [
  {
   "cell_type": "code",
   "execution_count": 1,
   "id": "d26f82e2",
   "metadata": {},
   "outputs": [],
   "source": [
    "import pandas as pd\n",
    "import numpy as np\n",
    "import matplotlib.pyplot as plt\n",
    "import seaborn as sns\n",
    "from sklearn.model_selection import train_test_split\n",
    "from sklearn.preprocessing import StandardScaler\n",
    "from sklearn.svm import SVC\n",
    "from sklearn.model_selection import RepeatedStratifiedKFold\n",
    "from sklearn.model_selection import GridSearchCV\n",
    "from sklearn.metrics import confusion_matrix, accuracy_score, classification_report\n",
    "from sklearn.metrics import accuracy_score, precision_score, recall_score, f1_score\n",
    "import pickle\n",
    "\n",
    "import warnings\n",
    "warnings.filterwarnings(\"ignore\")"
   ]
  },
  {
   "cell_type": "code",
   "execution_count": 2,
   "id": "16d28ba5",
   "metadata": {},
   "outputs": [],
   "source": [
    "df = pd.read_csv(\"./Group_7_data_cleaned.csv\")"
   ]
  },
  {
   "cell_type": "code",
   "execution_count": 3,
   "id": "64719a1f",
   "metadata": {},
   "outputs": [],
   "source": [
    "df.drop(columns=['Date','Time'], inplace=True)"
   ]
  },
  {
   "cell_type": "code",
   "execution_count": 4,
   "id": "1894040c",
   "metadata": {},
   "outputs": [
    {
     "data": {
      "text/html": [
       "<div>\n",
       "<style scoped>\n",
       "    .dataframe tbody tr th:only-of-type {\n",
       "        vertical-align: middle;\n",
       "    }\n",
       "\n",
       "    .dataframe tbody tr th {\n",
       "        vertical-align: top;\n",
       "    }\n",
       "\n",
       "    .dataframe thead th {\n",
       "        text-align: right;\n",
       "    }\n",
       "</style>\n",
       "<table border=\"1\" class=\"dataframe\">\n",
       "  <thead>\n",
       "    <tr style=\"text-align: right;\">\n",
       "      <th></th>\n",
       "      <th>S1_Temp</th>\n",
       "      <th>S2_Temp</th>\n",
       "      <th>S3_Temp</th>\n",
       "      <th>S4_Temp</th>\n",
       "      <th>S1_Light</th>\n",
       "      <th>S2_Light</th>\n",
       "      <th>S3_Light</th>\n",
       "      <th>S4_Light</th>\n",
       "      <th>S1_Sound</th>\n",
       "      <th>S2_Sound</th>\n",
       "      <th>S3_Sound</th>\n",
       "      <th>S4_Sound</th>\n",
       "      <th>S5_CO2</th>\n",
       "      <th>S5_CO2_Slope</th>\n",
       "      <th>S6_PIR</th>\n",
       "      <th>S7_PIR</th>\n",
       "      <th>Room_Occupancy_Count</th>\n",
       "    </tr>\n",
       "  </thead>\n",
       "  <tbody>\n",
       "    <tr>\n",
       "      <th>0</th>\n",
       "      <td>24.94</td>\n",
       "      <td>24.75</td>\n",
       "      <td>24.56</td>\n",
       "      <td>25.38</td>\n",
       "      <td>121</td>\n",
       "      <td>34</td>\n",
       "      <td>53</td>\n",
       "      <td>40</td>\n",
       "      <td>0.08</td>\n",
       "      <td>0.19</td>\n",
       "      <td>0.06</td>\n",
       "      <td>0.06</td>\n",
       "      <td>390</td>\n",
       "      <td>0.77</td>\n",
       "      <td>0</td>\n",
       "      <td>0</td>\n",
       "      <td>1</td>\n",
       "    </tr>\n",
       "    <tr>\n",
       "      <th>1</th>\n",
       "      <td>24.94</td>\n",
       "      <td>24.75</td>\n",
       "      <td>24.56</td>\n",
       "      <td>25.44</td>\n",
       "      <td>121</td>\n",
       "      <td>33</td>\n",
       "      <td>53</td>\n",
       "      <td>40</td>\n",
       "      <td>0.93</td>\n",
       "      <td>0.05</td>\n",
       "      <td>0.06</td>\n",
       "      <td>0.06</td>\n",
       "      <td>390</td>\n",
       "      <td>0.65</td>\n",
       "      <td>0</td>\n",
       "      <td>0</td>\n",
       "      <td>1</td>\n",
       "    </tr>\n",
       "    <tr>\n",
       "      <th>2</th>\n",
       "      <td>25.00</td>\n",
       "      <td>24.75</td>\n",
       "      <td>24.50</td>\n",
       "      <td>25.44</td>\n",
       "      <td>121</td>\n",
       "      <td>34</td>\n",
       "      <td>53</td>\n",
       "      <td>40</td>\n",
       "      <td>0.43</td>\n",
       "      <td>0.11</td>\n",
       "      <td>0.08</td>\n",
       "      <td>0.06</td>\n",
       "      <td>390</td>\n",
       "      <td>0.52</td>\n",
       "      <td>0</td>\n",
       "      <td>0</td>\n",
       "      <td>1</td>\n",
       "    </tr>\n",
       "    <tr>\n",
       "      <th>3</th>\n",
       "      <td>25.00</td>\n",
       "      <td>24.75</td>\n",
       "      <td>24.56</td>\n",
       "      <td>25.44</td>\n",
       "      <td>121</td>\n",
       "      <td>34</td>\n",
       "      <td>53</td>\n",
       "      <td>40</td>\n",
       "      <td>0.41</td>\n",
       "      <td>0.10</td>\n",
       "      <td>0.10</td>\n",
       "      <td>0.09</td>\n",
       "      <td>390</td>\n",
       "      <td>0.39</td>\n",
       "      <td>0</td>\n",
       "      <td>0</td>\n",
       "      <td>1</td>\n",
       "    </tr>\n",
       "    <tr>\n",
       "      <th>4</th>\n",
       "      <td>25.00</td>\n",
       "      <td>24.75</td>\n",
       "      <td>24.56</td>\n",
       "      <td>25.44</td>\n",
       "      <td>121</td>\n",
       "      <td>34</td>\n",
       "      <td>54</td>\n",
       "      <td>40</td>\n",
       "      <td>0.18</td>\n",
       "      <td>0.06</td>\n",
       "      <td>0.06</td>\n",
       "      <td>0.06</td>\n",
       "      <td>390</td>\n",
       "      <td>0.25</td>\n",
       "      <td>0</td>\n",
       "      <td>0</td>\n",
       "      <td>1</td>\n",
       "    </tr>\n",
       "  </tbody>\n",
       "</table>\n",
       "</div>"
      ],
      "text/plain": [
       "   S1_Temp  S2_Temp  S3_Temp  S4_Temp  S1_Light  S2_Light  S3_Light  S4_Light  \\\n",
       "0    24.94    24.75    24.56    25.38       121        34        53        40   \n",
       "1    24.94    24.75    24.56    25.44       121        33        53        40   \n",
       "2    25.00    24.75    24.50    25.44       121        34        53        40   \n",
       "3    25.00    24.75    24.56    25.44       121        34        53        40   \n",
       "4    25.00    24.75    24.56    25.44       121        34        54        40   \n",
       "\n",
       "   S1_Sound  S2_Sound  S3_Sound  S4_Sound  S5_CO2  S5_CO2_Slope  S6_PIR  \\\n",
       "0      0.08      0.19      0.06      0.06     390          0.77       0   \n",
       "1      0.93      0.05      0.06      0.06     390          0.65       0   \n",
       "2      0.43      0.11      0.08      0.06     390          0.52       0   \n",
       "3      0.41      0.10      0.10      0.09     390          0.39       0   \n",
       "4      0.18      0.06      0.06      0.06     390          0.25       0   \n",
       "\n",
       "   S7_PIR  Room_Occupancy_Count  \n",
       "0       0                     1  \n",
       "1       0                     1  \n",
       "2       0                     1  \n",
       "3       0                     1  \n",
       "4       0                     1  "
      ]
     },
     "execution_count": 4,
     "metadata": {},
     "output_type": "execute_result"
    }
   ],
   "source": [
    "df.head()"
   ]
  },
  {
   "cell_type": "code",
   "execution_count": 5,
   "id": "5c9e4039",
   "metadata": {},
   "outputs": [
    {
     "name": "stdout",
     "output_type": "stream",
     "text": [
      "<class 'pandas.core.frame.DataFrame'>\n",
      "RangeIndex: 10129 entries, 0 to 10128\n",
      "Data columns (total 17 columns):\n",
      " #   Column                Non-Null Count  Dtype  \n",
      "---  ------                --------------  -----  \n",
      " 0   S1_Temp               10129 non-null  float64\n",
      " 1   S2_Temp               10129 non-null  float64\n",
      " 2   S3_Temp               10129 non-null  float64\n",
      " 3   S4_Temp               10129 non-null  float64\n",
      " 4   S1_Light              10129 non-null  int64  \n",
      " 5   S2_Light              10129 non-null  int64  \n",
      " 6   S3_Light              10129 non-null  int64  \n",
      " 7   S4_Light              10129 non-null  int64  \n",
      " 8   S1_Sound              10129 non-null  float64\n",
      " 9   S2_Sound              10129 non-null  float64\n",
      " 10  S3_Sound              10129 non-null  float64\n",
      " 11  S4_Sound              10129 non-null  float64\n",
      " 12  S5_CO2                10129 non-null  int64  \n",
      " 13  S5_CO2_Slope          10129 non-null  float64\n",
      " 14  S6_PIR                10129 non-null  int64  \n",
      " 15  S7_PIR                10129 non-null  int64  \n",
      " 16  Room_Occupancy_Count  10129 non-null  int64  \n",
      "dtypes: float64(9), int64(8)\n",
      "memory usage: 1.3 MB\n"
     ]
    }
   ],
   "source": [
    "df.info()"
   ]
  },
  {
   "cell_type": "markdown",
   "id": "60977c41",
   "metadata": {},
   "source": [
    "## Estimating the Occupancy of the room after removing the light input variables as per problem statement"
   ]
  },
  {
   "cell_type": "code",
   "execution_count": 6,
   "id": "f61bdd21",
   "metadata": {},
   "outputs": [],
   "source": [
    "X = df.drop(['Room_Occupancy_Count'], axis=1)\n",
    "y = df[['Room_Occupancy_Count']]"
   ]
  },
  {
   "cell_type": "code",
   "execution_count": 7,
   "id": "dded704f",
   "metadata": {},
   "outputs": [],
   "source": [
    "df_wo_light = df.drop(df.filter(regex='Light').columns, axis=1)"
   ]
  },
  {
   "cell_type": "code",
   "execution_count": 8,
   "id": "27554a3c",
   "metadata": {},
   "outputs": [
    {
     "data": {
      "text/html": [
       "<div>\n",
       "<style scoped>\n",
       "    .dataframe tbody tr th:only-of-type {\n",
       "        vertical-align: middle;\n",
       "    }\n",
       "\n",
       "    .dataframe tbody tr th {\n",
       "        vertical-align: top;\n",
       "    }\n",
       "\n",
       "    .dataframe thead th {\n",
       "        text-align: right;\n",
       "    }\n",
       "</style>\n",
       "<table border=\"1\" class=\"dataframe\">\n",
       "  <thead>\n",
       "    <tr style=\"text-align: right;\">\n",
       "      <th></th>\n",
       "      <th>S1_Temp</th>\n",
       "      <th>S2_Temp</th>\n",
       "      <th>S3_Temp</th>\n",
       "      <th>S4_Temp</th>\n",
       "      <th>S1_Sound</th>\n",
       "      <th>S2_Sound</th>\n",
       "      <th>S3_Sound</th>\n",
       "      <th>S4_Sound</th>\n",
       "      <th>S5_CO2</th>\n",
       "      <th>S5_CO2_Slope</th>\n",
       "      <th>S6_PIR</th>\n",
       "      <th>S7_PIR</th>\n",
       "      <th>Room_Occupancy_Count</th>\n",
       "    </tr>\n",
       "  </thead>\n",
       "  <tbody>\n",
       "    <tr>\n",
       "      <th>0</th>\n",
       "      <td>24.94</td>\n",
       "      <td>24.75</td>\n",
       "      <td>24.56</td>\n",
       "      <td>25.38</td>\n",
       "      <td>0.08</td>\n",
       "      <td>0.19</td>\n",
       "      <td>0.06</td>\n",
       "      <td>0.06</td>\n",
       "      <td>390</td>\n",
       "      <td>0.77</td>\n",
       "      <td>0</td>\n",
       "      <td>0</td>\n",
       "      <td>1</td>\n",
       "    </tr>\n",
       "    <tr>\n",
       "      <th>1</th>\n",
       "      <td>24.94</td>\n",
       "      <td>24.75</td>\n",
       "      <td>24.56</td>\n",
       "      <td>25.44</td>\n",
       "      <td>0.93</td>\n",
       "      <td>0.05</td>\n",
       "      <td>0.06</td>\n",
       "      <td>0.06</td>\n",
       "      <td>390</td>\n",
       "      <td>0.65</td>\n",
       "      <td>0</td>\n",
       "      <td>0</td>\n",
       "      <td>1</td>\n",
       "    </tr>\n",
       "    <tr>\n",
       "      <th>2</th>\n",
       "      <td>25.00</td>\n",
       "      <td>24.75</td>\n",
       "      <td>24.50</td>\n",
       "      <td>25.44</td>\n",
       "      <td>0.43</td>\n",
       "      <td>0.11</td>\n",
       "      <td>0.08</td>\n",
       "      <td>0.06</td>\n",
       "      <td>390</td>\n",
       "      <td>0.52</td>\n",
       "      <td>0</td>\n",
       "      <td>0</td>\n",
       "      <td>1</td>\n",
       "    </tr>\n",
       "    <tr>\n",
       "      <th>3</th>\n",
       "      <td>25.00</td>\n",
       "      <td>24.75</td>\n",
       "      <td>24.56</td>\n",
       "      <td>25.44</td>\n",
       "      <td>0.41</td>\n",
       "      <td>0.10</td>\n",
       "      <td>0.10</td>\n",
       "      <td>0.09</td>\n",
       "      <td>390</td>\n",
       "      <td>0.39</td>\n",
       "      <td>0</td>\n",
       "      <td>0</td>\n",
       "      <td>1</td>\n",
       "    </tr>\n",
       "    <tr>\n",
       "      <th>4</th>\n",
       "      <td>25.00</td>\n",
       "      <td>24.75</td>\n",
       "      <td>24.56</td>\n",
       "      <td>25.44</td>\n",
       "      <td>0.18</td>\n",
       "      <td>0.06</td>\n",
       "      <td>0.06</td>\n",
       "      <td>0.06</td>\n",
       "      <td>390</td>\n",
       "      <td>0.25</td>\n",
       "      <td>0</td>\n",
       "      <td>0</td>\n",
       "      <td>1</td>\n",
       "    </tr>\n",
       "  </tbody>\n",
       "</table>\n",
       "</div>"
      ],
      "text/plain": [
       "   S1_Temp  S2_Temp  S3_Temp  S4_Temp  S1_Sound  S2_Sound  S3_Sound  S4_Sound  \\\n",
       "0    24.94    24.75    24.56    25.38      0.08      0.19      0.06      0.06   \n",
       "1    24.94    24.75    24.56    25.44      0.93      0.05      0.06      0.06   \n",
       "2    25.00    24.75    24.50    25.44      0.43      0.11      0.08      0.06   \n",
       "3    25.00    24.75    24.56    25.44      0.41      0.10      0.10      0.09   \n",
       "4    25.00    24.75    24.56    25.44      0.18      0.06      0.06      0.06   \n",
       "\n",
       "   S5_CO2  S5_CO2_Slope  S6_PIR  S7_PIR  Room_Occupancy_Count  \n",
       "0     390          0.77       0       0                     1  \n",
       "1     390          0.65       0       0                     1  \n",
       "2     390          0.52       0       0                     1  \n",
       "3     390          0.39       0       0                     1  \n",
       "4     390          0.25       0       0                     1  "
      ]
     },
     "execution_count": 8,
     "metadata": {},
     "output_type": "execute_result"
    }
   ],
   "source": [
    "df_wo_light.head()"
   ]
  },
  {
   "cell_type": "code",
   "execution_count": 9,
   "id": "1ba11dc0",
   "metadata": {},
   "outputs": [],
   "source": [
    "X_wo_light = df_wo_light.drop(['Room_Occupancy_Count'], axis=1)\n",
    "y_wo_light = df_wo_light[['Room_Occupancy_Count']]"
   ]
  },
  {
   "cell_type": "code",
   "execution_count": 10,
   "id": "070ecffa",
   "metadata": {},
   "outputs": [],
   "source": [
    "# Splitting the dataset into train and test\n",
    "X_train_wo_light, X_test_wo_light, y_train_wo_light, y_test_wo_light = train_test_split(X_wo_light, y_wo_light, test_size=0.2, random_state=42)"
   ]
  },
  {
   "cell_type": "code",
   "execution_count": 11,
   "id": "0f9b30e6",
   "metadata": {},
   "outputs": [],
   "source": [
    "# Scaling the dataset\n",
    "scaler = StandardScaler()\n",
    "X_train_scaled_wo_light = scaler.fit_transform(X_train_wo_light)\n",
    "X_test_scaled_wo_light = scaler.transform(X_test_wo_light)"
   ]
  },
  {
   "cell_type": "markdown",
   "id": "f952133a",
   "metadata": {},
   "source": [
    "## New Models"
   ]
  },
  {
   "cell_type": "markdown",
   "id": "79eccd93",
   "metadata": {},
   "source": [
    "### 1. SVM with Linear Kernel"
   ]
  },
  {
   "cell_type": "code",
   "execution_count": 12,
   "id": "44a313a8",
   "metadata": {},
   "outputs": [
    {
     "name": "stdout",
     "output_type": "stream",
     "text": [
      "Accuracy on train set:  0.9608786869060841\n",
      "Accuracy on test set:  0.9481737413622903\n",
      "Wall time: 459 ms\n"
     ]
    }
   ],
   "source": [
    "%%time\n",
    "\n",
    "model_class_wo_light_lk = SVC(kernel = 'linear')\n",
    "model_class_wo_light_lk.fit(X_train_scaled_wo_light, y_train_wo_light)\n",
    "\n",
    "print(\"Accuracy on train set: \", model_class_wo_light_lk.score(X_train_scaled_wo_light, y_train_wo_light))\n",
    "print(\"Accuracy on test set: \", model_class_wo_light_lk.score(X_test_scaled_wo_light, y_test_wo_light))"
   ]
  },
  {
   "cell_type": "markdown",
   "id": "e936f887",
   "metadata": {},
   "source": [
    "#### Hyperparameter Tuning using GridSearch"
   ]
  },
  {
   "cell_type": "code",
   "execution_count": 13,
   "id": "e3d2ea8b",
   "metadata": {},
   "outputs": [
    {
     "name": "stdout",
     "output_type": "stream",
     "text": [
      "Best: 0.960508 using {'C': 100, 'kernel': 'linear'}\n",
      "0.940022 (0.004215) with: {'C': 0.01, 'kernel': 'linear'}\n",
      "0.956148 (0.004137) with: {'C': 0.1, 'kernel': 'linear'}\n",
      "0.958616 (0.003541) with: {'C': 1, 'kernel': 'linear'}\n",
      "0.960508 (0.003630) with: {'C': 10, 'kernel': 'linear'}\n",
      "0.960508 (0.003931) with: {'C': 100, 'kernel': 'linear'}\n",
      "Wall time: 17.3 s\n"
     ]
    }
   ],
   "source": [
    "%%time\n",
    "\n",
    "# define grid search\n",
    "grid = {\n",
    "    \"C\": [0.01,0.1,1,10,100],\n",
    "    \"kernel\": ['linear']\n",
    "}\n",
    "\n",
    "\n",
    "cv = RepeatedStratifiedKFold(n_splits=5, n_repeats=3, random_state=42)\n",
    "\n",
    "grid_search_lk = GridSearchCV(estimator = model_class_wo_light_lk, param_grid=grid, n_jobs=-1, \n",
    "                           cv=cv, scoring='accuracy', error_score=0)\n",
    "\n",
    "#Results\n",
    "grid_result_lk = grid_search_lk.fit(X_train_scaled_wo_light, y_train_wo_light)\n",
    "\n",
    "# summarize results\n",
    "print(\"Best: %f using %s\" % (grid_result_lk.best_score_, grid_result_lk.best_params_))\n",
    "means = grid_result_lk.cv_results_['mean_test_score']\n",
    "stds = grid_result_lk.cv_results_['std_test_score']\n",
    "params = grid_result_lk.cv_results_['params']\n",
    "for mean, stdev, param in zip(means, stds, params):\n",
    "    print(\"%f (%f) with: %r\" % (mean, stdev, param))"
   ]
  },
  {
   "cell_type": "markdown",
   "id": "2b00d7a6",
   "metadata": {},
   "source": [
    "#### SVM with Linear Kernel Model with best hyperparameters"
   ]
  },
  {
   "cell_type": "code",
   "execution_count": 14,
   "id": "242b80c1",
   "metadata": {},
   "outputs": [
    {
     "name": "stdout",
     "output_type": "stream",
     "text": [
      "Accuracy on test set:  0.9496544916090819\n"
     ]
    }
   ],
   "source": [
    "model_class_wo_light_lk = SVC(kernel = grid_result_lk.best_params_['kernel'], \n",
    "                              C= grid_result_lk.best_params_['C'])\n",
    "model_class_wo_light_lk.fit(X_train_scaled_wo_light, y_train_wo_light)\n",
    "\n",
    "print(\"Accuracy on test set: \", model_class_wo_light_lk.score(X_test_scaled_wo_light, y_test_wo_light))"
   ]
  },
  {
   "cell_type": "code",
   "execution_count": 15,
   "id": "37061e71",
   "metadata": {},
   "outputs": [
    {
     "data": {
      "image/png": "[encoded data removed]",
      "text/plain": [
       "<Figure size 600x400 with 2 Axes>"
      ]
     },
     "metadata": {},
     "output_type": "display_data"
    }
   ],
   "source": [
    "y_predicted_lk = model_class_wo_light_lk.predict(X_test_scaled_wo_light)\n",
    "cm = confusion_matrix(y_test_wo_light, y_predicted_lk)\n",
    "plt.figure(figsize = (6,4))\n",
    "\n",
    "sns.heatmap(cm, \n",
    "            annot=True, \n",
    "            cmap=\"Spectral\",\n",
    "            fmt='g'\n",
    "           )\n",
    "plt.xlabel('Predicted', fontsize=10)\n",
    "plt.ylabel('Actual/Observed', fontsize=10);"
   ]
  },
  {
   "cell_type": "code",
   "execution_count": 16,
   "id": "dfcbd748",
   "metadata": {},
   "outputs": [
    {
     "name": "stdout",
     "output_type": "stream",
     "text": [
      "              precision    recall  f1-score   support\n",
      "\n",
      "           0       0.99      0.99      0.99      1619\n",
      "           1       0.89      0.80      0.84       103\n",
      "           2       0.78      0.76      0.77       164\n",
      "           3       0.78      0.80      0.79       140\n",
      "\n",
      "    accuracy                           0.95      2026\n",
      "   macro avg       0.86      0.84      0.85      2026\n",
      "weighted avg       0.95      0.95      0.95      2026\n",
      "\n"
     ]
    }
   ],
   "source": [
    "print(classification_report(y_test_wo_light, y_predicted_lk))"
   ]
  },
  {
   "cell_type": "code",
   "execution_count": 17,
   "id": "565c1eeb",
   "metadata": {},
   "outputs": [],
   "source": [
    "# Saving the model with pickle\n",
    "\n",
    "filename = 'svm_lk_classification_model.sav'\n",
    "pickle.dump(model_class_wo_light_lk, open(filename, 'wb'))"
   ]
  },
  {
   "cell_type": "code",
   "execution_count": 18,
   "id": "e68208c1",
   "metadata": {},
   "outputs": [
    {
     "data": {
      "text/html": [
       "<div>\n",
       "<style scoped>\n",
       "    .dataframe tbody tr th:only-of-type {\n",
       "        vertical-align: middle;\n",
       "    }\n",
       "\n",
       "    .dataframe tbody tr th {\n",
       "        vertical-align: top;\n",
       "    }\n",
       "\n",
       "    .dataframe thead th {\n",
       "        text-align: right;\n",
       "    }\n",
       "</style>\n",
       "<table border=\"1\" class=\"dataframe\">\n",
       "  <thead>\n",
       "    <tr style=\"text-align: right;\">\n",
       "      <th></th>\n",
       "      <th>Model</th>\n",
       "      <th>Accuracy</th>\n",
       "      <th>Precision</th>\n",
       "      <th>Recall</th>\n",
       "      <th>F1 Score</th>\n",
       "    </tr>\n",
       "  </thead>\n",
       "  <tbody>\n",
       "    <tr>\n",
       "      <th>0</th>\n",
       "      <td>SVM with Linear Kernel</td>\n",
       "      <td>94.97</td>\n",
       "      <td>94.92</td>\n",
       "      <td>94.97</td>\n",
       "      <td>94.93</td>\n",
       "    </tr>\n",
       "  </tbody>\n",
       "</table>\n",
       "</div>"
      ],
      "text/plain": [
       "                    Model  Accuracy  Precision  Recall  F1 Score\n",
       "0  SVM with Linear Kernel     94.97      94.92   94.97     94.93"
      ]
     },
     "execution_count": 18,
     "metadata": {},
     "output_type": "execute_result"
    }
   ],
   "source": [
    "# Calculating the evaluation metrics\n",
    "accuracy = accuracy_score(y_test_wo_light, y_predicted_lk)\n",
    "weighted_precision = precision_score(y_test_wo_light, y_predicted_lk, average='weighted')\n",
    "weighted_recall = recall_score(y_test_wo_light, y_predicted_lk, average='weighted')\n",
    "weighted_f1 = f1_score(y_test_wo_light, y_predicted_lk, average='weighted')\n",
    "\n",
    "# Creating an evaluation metrics dataframe for the model\n",
    "results = pd.DataFrame([['SVM with Linear Kernel', \n",
    "                         round(accuracy*100,2), \n",
    "                         round(weighted_precision*100,2), \n",
    "                         round(weighted_recall*100,2), \n",
    "                         round(weighted_f1*100,2)\n",
    "                        ]],\n",
    "                       columns = ['Model', 'Accuracy', 'Precision', 'Recall', 'F1 Score'])\n",
    "results"
   ]
  },
  {
   "cell_type": "markdown",
   "id": "c4000367",
   "metadata": {},
   "source": [
    "### 2. SVM with Non-linear Kernel"
   ]
  },
  {
   "cell_type": "code",
   "execution_count": 19,
   "id": "86d3e6a0",
   "metadata": {},
   "outputs": [
    {
     "name": "stdout",
     "output_type": "stream",
     "text": [
      "Accuracy on train set:  0.9809946933234605\n",
      "Accuracy on test set:  0.9674234945705824\n",
      "Wall time: 1.16 s\n"
     ]
    }
   ],
   "source": [
    "%%time\n",
    "\n",
    "model_class_wo_light_nlk = SVC(kernel = 'rbf')\n",
    "model_class_wo_light_nlk.fit(X_train_scaled_wo_light, y_train_wo_light)\n",
    "\n",
    "print(\"Accuracy on train set: \", model_class_wo_light_nlk.score(X_train_scaled_wo_light, y_train_wo_light))\n",
    "print(\"Accuracy on test set: \", model_class_wo_light_nlk.score(X_test_scaled_wo_light, y_test_wo_light))"
   ]
  },
  {
   "cell_type": "markdown",
   "id": "76a985e1",
   "metadata": {},
   "source": [
    "#### Hyperparameter Tuning using GridSearch"
   ]
  },
  {
   "cell_type": "code",
   "execution_count": 20,
   "id": "487b6f08",
   "metadata": {
    "scrolled": true
   },
   "outputs": [
    {
     "name": "stdout",
     "output_type": "stream",
     "text": [
      "Best: 0.977457 using {'C': 100, 'gamma': 0.01, 'kernel': 'rbf'}\n",
      "0.972932 (0.003350) with: {'C': 0.01, 'gamma': 1, 'kernel': 'poly'}\n",
      "0.815624 (0.000217) with: {'C': 0.01, 'gamma': 1, 'kernel': 'rbf'}\n",
      "0.926118 (0.003760) with: {'C': 0.01, 'gamma': 0.1, 'kernel': 'poly'}\n",
      "0.875684 (0.001919) with: {'C': 0.01, 'gamma': 0.1, 'kernel': 'rbf'}\n",
      "0.818915 (0.001228) with: {'C': 0.01, 'gamma': 0.01, 'kernel': 'poly'}\n",
      "0.859394 (0.003372) with: {'C': 0.01, 'gamma': 0.01, 'kernel': 'rbf'}\n",
      "0.815624 (0.000217) with: {'C': 0.01, 'gamma': 0.001, 'kernel': 'poly'}\n",
      "0.815624 (0.000217) with: {'C': 0.01, 'gamma': 0.001, 'kernel': 'rbf'}\n",
      "0.815624 (0.000217) with: {'C': 0.01, 'gamma': 0.0001, 'kernel': 'poly'}\n",
      "0.815624 (0.000217) with: {'C': 0.01, 'gamma': 0.0001, 'kernel': 'rbf'}\n",
      "0.973960 (0.003767) with: {'C': 0.1, 'gamma': 1, 'kernel': 'poly'}\n",
      "0.896623 (0.003571) with: {'C': 0.1, 'gamma': 1, 'kernel': 'rbf'}\n",
      "0.955366 (0.003461) with: {'C': 0.1, 'gamma': 0.1, 'kernel': 'poly'}\n",
      "0.952281 (0.004793) with: {'C': 0.1, 'gamma': 0.1, 'kernel': 'rbf'}\n",
      "0.846723 (0.002554) with: {'C': 0.1, 'gamma': 0.01, 'kernel': 'poly'}\n",
      "0.924884 (0.003185) with: {'C': 0.1, 'gamma': 0.01, 'kernel': 'rbf'}\n",
      "0.815624 (0.000217) with: {'C': 0.1, 'gamma': 0.001, 'kernel': 'poly'}\n",
      "0.862274 (0.004721) with: {'C': 0.1, 'gamma': 0.001, 'kernel': 'rbf'}\n",
      "0.815624 (0.000217) with: {'C': 0.1, 'gamma': 0.0001, 'kernel': 'poly'}\n",
      "0.815624 (0.000217) with: {'C': 0.1, 'gamma': 0.0001, 'kernel': 'rbf'}\n",
      "0.972891 (0.002641) with: {'C': 1, 'gamma': 1, 'kernel': 'poly'}\n",
      "0.960056 (0.003530) with: {'C': 1, 'gamma': 1, 'kernel': 'rbf'}\n",
      "0.965980 (0.003273) with: {'C': 1, 'gamma': 0.1, 'kernel': 'poly'}\n",
      "0.971492 (0.003189) with: {'C': 1, 'gamma': 0.1, 'kernel': 'rbf'}\n",
      "0.891646 (0.004655) with: {'C': 1, 'gamma': 0.01, 'kernel': 'poly'}\n",
      "0.954749 (0.003688) with: {'C': 1, 'gamma': 0.01, 'kernel': 'rbf'}\n",
      "0.815953 (0.000497) with: {'C': 1, 'gamma': 0.001, 'kernel': 'poly'}\n",
      "0.926200 (0.003013) with: {'C': 1, 'gamma': 0.001, 'kernel': 'rbf'}\n",
      "0.815624 (0.000217) with: {'C': 1, 'gamma': 0.0001, 'kernel': 'poly'}\n",
      "0.864002 (0.005126) with: {'C': 1, 'gamma': 0.0001, 'kernel': 'rbf'}\n",
      "0.972726 (0.002428) with: {'C': 10, 'gamma': 1, 'kernel': 'poly'}\n",
      "0.963594 (0.003072) with: {'C': 10, 'gamma': 1, 'kernel': 'rbf'}\n",
      "0.972932 (0.003350) with: {'C': 10, 'gamma': 0.1, 'kernel': 'poly'}\n",
      "0.977128 (0.002610) with: {'C': 10, 'gamma': 0.1, 'kernel': 'rbf'}\n",
      "0.926118 (0.003760) with: {'C': 10, 'gamma': 0.01, 'kernel': 'poly'}\n",
      "0.969641 (0.002639) with: {'C': 10, 'gamma': 0.01, 'kernel': 'rbf'}\n",
      "0.818915 (0.001228) with: {'C': 10, 'gamma': 0.001, 'kernel': 'poly'}\n",
      "0.949278 (0.003615) with: {'C': 10, 'gamma': 0.001, 'kernel': 'rbf'}\n",
      "0.815624 (0.000217) with: {'C': 10, 'gamma': 0.0001, 'kernel': 'poly'}\n",
      "0.926036 (0.003154) with: {'C': 10, 'gamma': 0.0001, 'kernel': 'rbf'}\n",
      "0.972150 (0.002393) with: {'C': 100, 'gamma': 1, 'kernel': 'poly'}\n",
      "0.963717 (0.003107) with: {'C': 100, 'gamma': 1, 'kernel': 'rbf'}\n",
      "0.973960 (0.003767) with: {'C': 100, 'gamma': 0.1, 'kernel': 'poly'}\n",
      "0.977334 (0.002233) with: {'C': 100, 'gamma': 0.1, 'kernel': 'rbf'}\n",
      "0.955366 (0.003461) with: {'C': 100, 'gamma': 0.01, 'kernel': 'poly'}\n",
      "0.977457 (0.002098) with: {'C': 100, 'gamma': 0.01, 'kernel': 'rbf'}\n",
      "0.846723 (0.002554) with: {'C': 100, 'gamma': 0.001, 'kernel': 'poly'}\n",
      "0.961866 (0.003927) with: {'C': 100, 'gamma': 0.001, 'kernel': 'rbf'}\n",
      "0.815624 (0.000217) with: {'C': 100, 'gamma': 0.0001, 'kernel': 'poly'}\n",
      "0.948908 (0.004066) with: {'C': 100, 'gamma': 0.0001, 'kernel': 'rbf'}\n",
      "Wall time: 1min 14s\n"
     ]
    }
   ],
   "source": [
    "%%time\n",
    "\n",
    "# define grid search\n",
    "grid = {\n",
    "    \"C\": [0.01,0.1,1,10,100],\n",
    "    \"gamma\": [1, 0.1, 0.01, 0.001, 0.0001],\n",
    "    \"kernel\": ['poly','rbf']\n",
    "}\n",
    "\n",
    "\n",
    "cv = RepeatedStratifiedKFold(n_splits=5, n_repeats=3, random_state=42)\n",
    "\n",
    "grid_search_nlk = GridSearchCV(estimator=model_class_wo_light_nlk, param_grid=grid, n_jobs=-1, \n",
    "                           cv=cv, scoring='accuracy', error_score=0)\n",
    "\n",
    "#Results\n",
    "grid_result_nlk = grid_search_nlk.fit(X_train_scaled_wo_light, y_train_wo_light)\n",
    "\n",
    "# summarize results\n",
    "print(\"Best: %f using %s\" % (grid_result_nlk.best_score_, grid_result_nlk.best_params_))\n",
    "means = grid_result_nlk.cv_results_['mean_test_score']\n",
    "stds = grid_result_nlk.cv_results_['std_test_score']\n",
    "params = grid_result_nlk.cv_results_['params']\n",
    "for mean, stdev, param in zip(means, stds, params):\n",
    "    print(\"%f (%f) with: %r\" % (mean, stdev, param))"
   ]
  },
  {
   "cell_type": "markdown",
   "id": "c9a45aac",
   "metadata": {},
   "source": [
    "#### SVM with Non-Linear Kernel Model with best hyperparameters"
   ]
  },
  {
   "cell_type": "code",
   "execution_count": 21,
   "id": "704374c4",
   "metadata": {},
   "outputs": [
    {
     "name": "stdout",
     "output_type": "stream",
     "text": [
      "Accuracy on test set:  0.9782823297137216\n"
     ]
    }
   ],
   "source": [
    "model_class_wo_light_nlk = SVC(kernel = grid_result_nlk.best_params_['kernel'], \n",
    "                               C = grid_result_nlk.best_params_['C'],\n",
    "                               gamma = grid_result_nlk.best_params_['gamma'],\n",
    "                              )\n",
    "model_class_wo_light_nlk.fit(X_train_scaled_wo_light, y_train_wo_light)\n",
    "\n",
    "print(\"Accuracy on test set: \", model_class_wo_light_nlk.score(X_test_scaled_wo_light, y_test_wo_light))"
   ]
  },
  {
   "cell_type": "code",
   "execution_count": 22,
   "id": "e63ac178",
   "metadata": {},
   "outputs": [
    {
     "data": {
      "image/png": "[encoded data removed]",
      "text/plain": [
       "<Figure size 600x400 with 2 Axes>"
      ]
     },
     "metadata": {},
     "output_type": "display_data"
    }
   ],
   "source": [
    "y_predicted_nlk = model_class_wo_light_nlk.predict(X_test_scaled_wo_light)\n",
    "cm = confusion_matrix(y_test_wo_light, y_predicted_nlk)\n",
    "plt.figure(figsize = (6,4))\n",
    "\n",
    "sns.heatmap(cm, \n",
    "            annot=True, \n",
    "            cmap=\"Spectral\",\n",
    "            fmt='g'\n",
    "           )\n",
    "plt.xlabel('Predicted', fontsize=10)\n",
    "plt.ylabel('Actual/Observed', fontsize=10);"
   ]
  },
  {
   "cell_type": "code",
   "execution_count": 23,
   "id": "c3358c2a",
   "metadata": {},
   "outputs": [
    {
     "name": "stdout",
     "output_type": "stream",
     "text": [
      "              precision    recall  f1-score   support\n",
      "\n",
      "           0       1.00      1.00      1.00      1619\n",
      "           1       0.92      0.94      0.93       103\n",
      "           2       0.89      0.90      0.89       164\n",
      "           3       0.93      0.87      0.90       140\n",
      "\n",
      "    accuracy                           0.98      2026\n",
      "   macro avg       0.93      0.93      0.93      2026\n",
      "weighted avg       0.98      0.98      0.98      2026\n",
      "\n"
     ]
    }
   ],
   "source": [
    "print(classification_report(y_test_wo_light, y_predicted_nlk))"
   ]
  },
  {
   "cell_type": "code",
   "execution_count": 24,
   "id": "1807c676",
   "metadata": {},
   "outputs": [],
   "source": [
    "# Saving the model with pickle\n",
    "filename = 'svm_nlk_classification_model.sav'\n",
    "pickle.dump(model_class_wo_light_nlk, open(filename, 'wb'))"
   ]
  },
  {
   "cell_type": "code",
   "execution_count": 25,
   "id": "018e3398",
   "metadata": {},
   "outputs": [
    {
     "data": {
      "text/html": [
       "<div>\n",
       "<style scoped>\n",
       "    .dataframe tbody tr th:only-of-type {\n",
       "        vertical-align: middle;\n",
       "    }\n",
       "\n",
       "    .dataframe tbody tr th {\n",
       "        vertical-align: top;\n",
       "    }\n",
       "\n",
       "    .dataframe thead th {\n",
       "        text-align: right;\n",
       "    }\n",
       "</style>\n",
       "<table border=\"1\" class=\"dataframe\">\n",
       "  <thead>\n",
       "    <tr style=\"text-align: right;\">\n",
       "      <th></th>\n",
       "      <th>Model</th>\n",
       "      <th>Accuracy</th>\n",
       "      <th>Precision</th>\n",
       "      <th>Recall</th>\n",
       "      <th>F1 Score</th>\n",
       "    </tr>\n",
       "  </thead>\n",
       "  <tbody>\n",
       "    <tr>\n",
       "      <th>0</th>\n",
       "      <td>SVM with Linear Kernel</td>\n",
       "      <td>94.97</td>\n",
       "      <td>94.92</td>\n",
       "      <td>94.97</td>\n",
       "      <td>94.93</td>\n",
       "    </tr>\n",
       "    <tr>\n",
       "      <th>1</th>\n",
       "      <td>SVM with Non-Linear Kernel</td>\n",
       "      <td>97.83</td>\n",
       "      <td>97.82</td>\n",
       "      <td>97.83</td>\n",
       "      <td>97.81</td>\n",
       "    </tr>\n",
       "  </tbody>\n",
       "</table>\n",
       "</div>"
      ],
      "text/plain": [
       "                        Model  Accuracy  Precision  Recall  F1 Score\n",
       "0      SVM with Linear Kernel     94.97      94.92   94.97     94.93\n",
       "1  SVM with Non-Linear Kernel     97.83      97.82   97.83     97.81"
      ]
     },
     "execution_count": 25,
     "metadata": {},
     "output_type": "execute_result"
    }
   ],
   "source": [
    "# Calculating the evaluation metrics\n",
    "accuracy = accuracy_score(y_test_wo_light, y_predicted_nlk)\n",
    "weighted_precision = precision_score(y_test_wo_light, y_predicted_nlk, average='weighted')\n",
    "weighted_recall = recall_score(y_test_wo_light, y_predicted_nlk, average='weighted')\n",
    "weighted_f1 = f1_score(y_test_wo_light, y_predicted_nlk, average='weighted')\n",
    "\n",
    "# Creating an evaluation metrics dataframe for the model\n",
    "lr_results = pd.DataFrame([['SVM with Non-Linear Kernel', \n",
    "                         round(accuracy*100,2), \n",
    "                         round(weighted_precision*100,2), \n",
    "                         round(weighted_recall*100,2), \n",
    "                         round(weighted_f1*100,2)\n",
    "                        ]],\n",
    "                       columns = ['Model', 'Accuracy', 'Precision', 'Recall', 'F1 Score'])\n",
    "\n",
    "# Appending the evaluation metrics into a dataframe\n",
    "results = results.append(lr_results, ignore_index = True)\n",
    "\n",
    "results"
   ]
  },
  {
   "cell_type": "markdown",
   "id": "95a5e8c9",
   "metadata": {},
   "source": [
    "### 3. Deep Learning Model"
   ]
  },
  {
   "cell_type": "code",
   "execution_count": 26,
   "id": "a2fd9e15",
   "metadata": {},
   "outputs": [],
   "source": [
    "from sklearn.neural_network import MLPClassifier"
   ]
  },
  {
   "cell_type": "code",
   "execution_count": 27,
   "id": "ce9def7e",
   "metadata": {},
   "outputs": [
    {
     "name": "stdout",
     "output_type": "stream",
     "text": [
      "Accuracy on train set:  0.9988893002591632\n",
      "Accuracy on test set:  0.9837117472852912\n",
      "Wall time: 6.76 s\n"
     ]
    }
   ],
   "source": [
    "%%time\n",
    "\n",
    "# Define the MLP classifier with 4 hidden layers of 50 neurons each\n",
    "model_class_wo_light_mlp = MLPClassifier(hidden_layer_sizes=(50, 50, 50, 50))\n",
    "model_class_wo_light_mlp.fit(X_train_scaled_wo_light, y_train_wo_light)\n",
    "\n",
    "print(\"Accuracy on train set: \", model_class_wo_light_mlp.score(X_train_scaled_wo_light, y_train_wo_light))\n",
    "print(\"Accuracy on test set: \", model_class_wo_light_mlp.score(X_test_scaled_wo_light, y_test_wo_light))"
   ]
  },
  {
   "cell_type": "markdown",
   "id": "886a3fe6",
   "metadata": {},
   "source": [
    "#### Hyperparameter Tuning using GridSearch"
   ]
  },
  {
   "cell_type": "code",
   "execution_count": 28,
   "id": "ccf91c63",
   "metadata": {},
   "outputs": [
    {
     "name": "stdout",
     "output_type": "stream",
     "text": [
      "Best: 0.984615 using {'hidden_layer_sizes': (100, 100), 'learning_rate': 'constant', 'solver': 'adam'}\n",
      "0.944423 (0.009139) with: {'hidden_layer_sizes': (10, 10), 'learning_rate': 'constant', 'solver': 'sgd'}\n",
      "0.974001 (0.004747) with: {'hidden_layer_sizes': (10, 10), 'learning_rate': 'constant', 'solver': 'adam'}\n",
      "0.940844 (0.010554) with: {'hidden_layer_sizes': (10, 10), 'learning_rate': 'adaptive', 'solver': 'sgd'}\n",
      "0.974125 (0.005385) with: {'hidden_layer_sizes': (10, 10), 'learning_rate': 'adaptive', 'solver': 'adam'}\n",
      "0.941833 (0.012410) with: {'hidden_layer_sizes': (10, 10, 10), 'learning_rate': 'constant', 'solver': 'sgd'}\n",
      "0.974084 (0.004386) with: {'hidden_layer_sizes': (10, 10, 10), 'learning_rate': 'constant', 'solver': 'adam'}\n",
      "0.943231 (0.009459) with: {'hidden_layer_sizes': (10, 10, 10), 'learning_rate': 'adaptive', 'solver': 'sgd'}\n",
      "0.975359 (0.005809) with: {'hidden_layer_sizes': (10, 10, 10), 'learning_rate': 'adaptive', 'solver': 'adam'}\n",
      "0.940558 (0.012074) with: {'hidden_layer_sizes': (10, 10, 10, 10), 'learning_rate': 'constant', 'solver': 'sgd'}\n",
      "0.973672 (0.004034) with: {'hidden_layer_sizes': (10, 10, 10, 10), 'learning_rate': 'constant', 'solver': 'adam'}\n",
      "0.939282 (0.009154) with: {'hidden_layer_sizes': (10, 10, 10, 10), 'learning_rate': 'adaptive', 'solver': 'sgd'}\n",
      "0.975441 (0.003573) with: {'hidden_layer_sizes': (10, 10, 10, 10), 'learning_rate': 'adaptive', 'solver': 'adam'}\n",
      "0.953104 (0.005140) with: {'hidden_layer_sizes': (20, 20), 'learning_rate': 'constant', 'solver': 'sgd'}\n",
      "0.981324 (0.002555) with: {'hidden_layer_sizes': (20, 20), 'learning_rate': 'constant', 'solver': 'adam'}\n",
      "0.953803 (0.003524) with: {'hidden_layer_sizes': (20, 20), 'learning_rate': 'adaptive', 'solver': 'sgd'}\n",
      "0.981078 (0.003557) with: {'hidden_layer_sizes': (20, 20), 'learning_rate': 'adaptive', 'solver': 'adam'}\n",
      "0.956765 (0.003219) with: {'hidden_layer_sizes': (20, 20, 20), 'learning_rate': 'constant', 'solver': 'sgd'}\n",
      "0.980995 (0.002759) with: {'hidden_layer_sizes': (20, 20, 20), 'learning_rate': 'constant', 'solver': 'adam'}\n",
      "0.956724 (0.004664) with: {'hidden_layer_sizes': (20, 20, 20), 'learning_rate': 'adaptive', 'solver': 'sgd'}\n",
      "0.981159 (0.003403) with: {'hidden_layer_sizes': (20, 20, 20), 'learning_rate': 'adaptive', 'solver': 'adam'}\n",
      "0.957136 (0.004289) with: {'hidden_layer_sizes': (20, 20, 20, 20), 'learning_rate': 'constant', 'solver': 'sgd'}\n",
      "0.981488 (0.003073) with: {'hidden_layer_sizes': (20, 20, 20, 20), 'learning_rate': 'constant', 'solver': 'adam'}\n",
      "0.958822 (0.004271) with: {'hidden_layer_sizes': (20, 20, 20, 20), 'learning_rate': 'adaptive', 'solver': 'sgd'}\n",
      "0.981200 (0.002830) with: {'hidden_layer_sizes': (20, 20, 20, 20), 'learning_rate': 'adaptive', 'solver': 'adam'}\n",
      "0.959933 (0.004458) with: {'hidden_layer_sizes': (50, 50), 'learning_rate': 'constant', 'solver': 'sgd'}\n",
      "0.984533 (0.001944) with: {'hidden_layer_sizes': (50, 50), 'learning_rate': 'constant', 'solver': 'adam'}\n",
      "0.960015 (0.004040) with: {'hidden_layer_sizes': (50, 50), 'learning_rate': 'adaptive', 'solver': 'sgd'}\n",
      "0.983709 (0.002341) with: {'hidden_layer_sizes': (50, 50), 'learning_rate': 'adaptive', 'solver': 'adam'}\n",
      "0.964663 (0.004041) with: {'hidden_layer_sizes': (50, 50, 50), 'learning_rate': 'constant', 'solver': 'sgd'}\n",
      "0.983627 (0.002231) with: {'hidden_layer_sizes': (50, 50, 50), 'learning_rate': 'constant', 'solver': 'adam'}\n",
      "0.964211 (0.003506) with: {'hidden_layer_sizes': (50, 50, 50), 'learning_rate': 'adaptive', 'solver': 'sgd'}\n",
      "0.982023 (0.002476) with: {'hidden_layer_sizes': (50, 50, 50), 'learning_rate': 'adaptive', 'solver': 'adam'}\n",
      "0.965980 (0.004350) with: {'hidden_layer_sizes': (50, 50, 50, 50), 'learning_rate': 'constant', 'solver': 'sgd'}\n",
      "0.981776 (0.002638) with: {'hidden_layer_sizes': (50, 50, 50, 50), 'learning_rate': 'constant', 'solver': 'adam'}\n",
      "0.966885 (0.003651) with: {'hidden_layer_sizes': (50, 50, 50, 50), 'learning_rate': 'adaptive', 'solver': 'sgd'}\n",
      "0.982516 (0.002340) with: {'hidden_layer_sizes': (50, 50, 50, 50), 'learning_rate': 'adaptive', 'solver': 'adam'}\n",
      "0.962401 (0.003700) with: {'hidden_layer_sizes': (100, 100), 'learning_rate': 'constant', 'solver': 'sgd'}\n",
      "0.984615 (0.002303) with: {'hidden_layer_sizes': (100, 100), 'learning_rate': 'constant', 'solver': 'adam'}\n",
      "0.962647 (0.004412) with: {'hidden_layer_sizes': (100, 100), 'learning_rate': 'adaptive', 'solver': 'sgd'}\n",
      "0.984409 (0.002942) with: {'hidden_layer_sizes': (100, 100), 'learning_rate': 'adaptive', 'solver': 'adam'}\n",
      "0.968242 (0.003547) with: {'hidden_layer_sizes': (100, 100, 100), 'learning_rate': 'constant', 'solver': 'sgd'}\n",
      "0.982722 (0.002742) with: {'hidden_layer_sizes': (100, 100, 100), 'learning_rate': 'constant', 'solver': 'adam'}\n",
      "0.967872 (0.003868) with: {'hidden_layer_sizes': (100, 100, 100), 'learning_rate': 'adaptive', 'solver': 'sgd'}\n",
      "0.982188 (0.002665) with: {'hidden_layer_sizes': (100, 100, 100), 'learning_rate': 'adaptive', 'solver': 'adam'}\n",
      "0.971039 (0.002700) with: {'hidden_layer_sizes': (100, 100, 100, 100), 'learning_rate': 'constant', 'solver': 'sgd'}\n",
      "0.982476 (0.003293) with: {'hidden_layer_sizes': (100, 100, 100, 100), 'learning_rate': 'constant', 'solver': 'adam'}\n",
      "0.971451 (0.002604) with: {'hidden_layer_sizes': (100, 100, 100, 100), 'learning_rate': 'adaptive', 'solver': 'sgd'}\n",
      "0.983175 (0.003485) with: {'hidden_layer_sizes': (100, 100, 100, 100), 'learning_rate': 'adaptive', 'solver': 'adam'}\n",
      "Wall time: 11min 38s\n"
     ]
    }
   ],
   "source": [
    "%%time\n",
    "\n",
    "# define grid search\n",
    "grid = {\n",
    "    \"hidden_layer_sizes\": [(10,10), (10,10,10), (10,10,10,10),\n",
    "                           (20,20), (20,20,20), (20,20,20,20),\n",
    "                           (50,50), (50,50,50), (50,50,50,50),\n",
    "                           (100,100), (100,100,100), (100,100,100,100)],\n",
    "    \"solver\": ['sgd', 'adam'],\n",
    "    \"learning_rate\": ['constant', 'adaptive']\n",
    "}\n",
    "\n",
    "\n",
    "cv = RepeatedStratifiedKFold(n_splits=5, n_repeats=3, random_state=42)\n",
    "\n",
    "grid_search_mlp = GridSearchCV(estimator=model_class_wo_light_mlp, param_grid=grid, n_jobs=-1, \n",
    "                           cv=cv, scoring='accuracy', error_score=0)\n",
    "\n",
    "#Results\n",
    "grid_result_mlp = grid_search_mlp.fit(X_train_scaled_wo_light, y_train_wo_light)\n",
    "\n",
    "# summarize results\n",
    "print(\"Best: %f using %s\" % (grid_result_mlp.best_score_, grid_result_mlp.best_params_))\n",
    "means = grid_result_mlp.cv_results_['mean_test_score']\n",
    "stds = grid_result_mlp.cv_results_['std_test_score']\n",
    "params = grid_result_mlp.cv_results_['params']\n",
    "for mean, stdev, param in zip(means, stds, params):\n",
    "    print(\"%f (%f) with: %r\" % (mean, stdev, param))"
   ]
  },
  {
   "cell_type": "markdown",
   "id": "2e4c1a75",
   "metadata": {},
   "source": [
    "#### Deep Learning Model with best hyperparameters"
   ]
  },
  {
   "cell_type": "code",
   "execution_count": 29,
   "id": "61649666",
   "metadata": {},
   "outputs": [
    {
     "name": "stdout",
     "output_type": "stream",
     "text": [
      "Accuracy on test set:  0.983218163869694\n"
     ]
    }
   ],
   "source": [
    "model_class_wo_light_mlp = MLPClassifier(hidden_layer_sizes = grid_result_mlp.best_params_['hidden_layer_sizes'], \n",
    "                                         solver = grid_result_mlp.best_params_['solver'],\n",
    "                                         learning_rate = grid_result_mlp.best_params_['learning_rate'],\n",
    "                              )\n",
    "model_class_wo_light_mlp.fit(X_train_scaled_wo_light, y_train_wo_light)\n",
    "\n",
    "print(\"Accuracy on test set: \", model_class_wo_light_mlp.score(X_test_scaled_wo_light, y_test_wo_light))"
   ]
  },
  {
   "cell_type": "code",
   "execution_count": 30,
   "id": "2c2d4211",
   "metadata": {},
   "outputs": [
    {
     "data": {
      "image/png": "[encoded data removed]",
      "text/plain": [
       "<Figure size 600x400 with 2 Axes>"
      ]
     },
     "metadata": {},
     "output_type": "display_data"
    }
   ],
   "source": [
    "y_pred_mlp = model_class_wo_light_mlp.predict(X_test_scaled_wo_light)\n",
    "cm = confusion_matrix(y_test_wo_light, y_pred_mlp)\n",
    "plt.figure(figsize = (6,4))\n",
    "\n",
    "sns.heatmap(cm, \n",
    "            annot=True, \n",
    "            cmap=\"Spectral\",\n",
    "            fmt='g'\n",
    "           )\n",
    "plt.xlabel('Predicted', fontsize=10)\n",
    "plt.ylabel('Actual/Observed', fontsize=10);"
   ]
  },
  {
   "cell_type": "code",
   "execution_count": 31,
   "id": "123514ee",
   "metadata": {},
   "outputs": [
    {
     "name": "stdout",
     "output_type": "stream",
     "text": [
      "              precision    recall  f1-score   support\n",
      "\n",
      "           0       1.00      1.00      1.00      1619\n",
      "           1       0.89      0.95      0.92       103\n",
      "           2       0.95      0.90      0.92       164\n",
      "           3       0.92      0.96      0.94       140\n",
      "\n",
      "    accuracy                           0.98      2026\n",
      "   macro avg       0.94      0.95      0.95      2026\n",
      "weighted avg       0.98      0.98      0.98      2026\n",
      "\n"
     ]
    }
   ],
   "source": [
    "print(classification_report(y_test_wo_light, y_pred_mlp))"
   ]
  },
  {
   "cell_type": "code",
   "execution_count": 32,
   "id": "4e16b5f5",
   "metadata": {},
   "outputs": [],
   "source": [
    "# Saving the model with pickle\n",
    "filename = 'mlp_classification_model.sav'\n",
    "pickle.dump(model_class_wo_light_mlp, open(filename, 'wb'))"
   ]
  },
  {
   "cell_type": "code",
   "execution_count": 33,
   "id": "3b77f7ea",
   "metadata": {},
   "outputs": [
    {
     "data": {
      "text/html": [
       "<div>\n",
       "<style scoped>\n",
       "    .dataframe tbody tr th:only-of-type {\n",
       "        vertical-align: middle;\n",
       "    }\n",
       "\n",
       "    .dataframe tbody tr th {\n",
       "        vertical-align: top;\n",
       "    }\n",
       "\n",
       "    .dataframe thead th {\n",
       "        text-align: right;\n",
       "    }\n",
       "</style>\n",
       "<table border=\"1\" class=\"dataframe\">\n",
       "  <thead>\n",
       "    <tr style=\"text-align: right;\">\n",
       "      <th></th>\n",
       "      <th>Model</th>\n",
       "      <th>Accuracy</th>\n",
       "      <th>Precision</th>\n",
       "      <th>Recall</th>\n",
       "      <th>F1 Score</th>\n",
       "    </tr>\n",
       "  </thead>\n",
       "  <tbody>\n",
       "    <tr>\n",
       "      <th>0</th>\n",
       "      <td>SVM with Linear Kernel</td>\n",
       "      <td>94.97</td>\n",
       "      <td>94.92</td>\n",
       "      <td>94.97</td>\n",
       "      <td>94.93</td>\n",
       "    </tr>\n",
       "    <tr>\n",
       "      <th>1</th>\n",
       "      <td>SVM with Non-Linear Kernel</td>\n",
       "      <td>97.83</td>\n",
       "      <td>97.82</td>\n",
       "      <td>97.83</td>\n",
       "      <td>97.81</td>\n",
       "    </tr>\n",
       "    <tr>\n",
       "      <th>2</th>\n",
       "      <td>Deep Learning Model</td>\n",
       "      <td>98.32</td>\n",
       "      <td>98.36</td>\n",
       "      <td>98.32</td>\n",
       "      <td>98.33</td>\n",
       "    </tr>\n",
       "  </tbody>\n",
       "</table>\n",
       "</div>"
      ],
      "text/plain": [
       "                        Model  Accuracy  Precision  Recall  F1 Score\n",
       "0      SVM with Linear Kernel     94.97      94.92   94.97     94.93\n",
       "1  SVM with Non-Linear Kernel     97.83      97.82   97.83     97.81\n",
       "2         Deep Learning Model     98.32      98.36   98.32     98.33"
      ]
     },
     "execution_count": 33,
     "metadata": {},
     "output_type": "execute_result"
    }
   ],
   "source": [
    "# Calculating the evaluation metrics\n",
    "accuracy = accuracy_score(y_test_wo_light, y_pred_mlp)\n",
    "weighted_precision = precision_score(y_test_wo_light, y_pred_mlp, average='weighted')\n",
    "weighted_recall = recall_score(y_test_wo_light, y_pred_mlp, average='weighted')\n",
    "weighted_f1 = f1_score(y_test_wo_light, y_pred_mlp, average='weighted')\n",
    "\n",
    "# Creating an evaluation metrics dataframe for the model\n",
    "lr_results = pd.DataFrame([['Deep Learning Model', \n",
    "                         round(accuracy*100,2), \n",
    "                         round(weighted_precision*100,2), \n",
    "                         round(weighted_recall*100,2), \n",
    "                         round(weighted_f1*100,2)\n",
    "                        ]],\n",
    "                       columns = ['Model', 'Accuracy', 'Precision', 'Recall', 'F1 Score'])\n",
    "\n",
    "# Appending the evaluation metrics into a dataframe\n",
    "results = results.append(lr_results, ignore_index = True)\n",
    "\n",
    "results"
   ]
  },
  {
   "cell_type": "code",
   "execution_count": null,
   "id": "6eb8690a",
   "metadata": {},
   "outputs": [],
   "source": []
  }
 ],
 "metadata": {
  "kernelspec": {
   "display_name": "Python 3 (ipykernel)",
   "language": "python",
   "name": "python3"
  },
  "language_info": {
   "codemirror_mode": {
    "name": "ipython",
    "version": 3
   },
   "file_extension": ".py",
   "mimetype": "text/x-python",
   "name": "python",
   "nbconvert_exporter": "python",
   "pygments_lexer": "ipython3",
   "version": "3.9.13"
  }
 },
 "nbformat": 4,
 "nbformat_minor": 5
}
