{
 "cells": [
  {
   "cell_type": "code",
   "execution_count": 1,
   "id": "18054728",
   "metadata": {},
   "outputs": [],
   "source": [
    "import pandas as pd\n",
    "import numpy as np\n",
    "import matplotlib.pyplot as plt\n",
    "import seaborn as sns\n",
    "\n",
    "from sklearn.model_selection import train_test_split\n",
    "from sklearn.preprocessing import StandardScaler\n",
    "\n",
    "from sklearn.linear_model import SGDClassifier\n",
    "from sklearn.neighbors import KNeighborsClassifier\n",
    "from sklearn.tree import DecisionTreeClassifier\n",
    "from sklearn.ensemble import RandomForestClassifier\n",
    "from sklearn.svm import SVC\n",
    "from sklearn.neural_network import MLPClassifier\n",
    "\n",
    "# importing voting classifier\n",
    "from sklearn.ensemble import VotingClassifier, StackingClassifier, BaggingClassifier\n",
    "from sklearn.metrics import confusion_matrix, accuracy_score, classification_report \n",
    "from sklearn.metrics import accuracy_score, precision_score, recall_score, f1_score\n",
    "\n",
    "import warnings\n",
    "warnings.filterwarnings(\"ignore\")"
   ]
  },
  {
   "cell_type": "code",
   "execution_count": 2,
   "id": "99de5b33",
   "metadata": {},
   "outputs": [],
   "source": [
    "df = pd.read_csv(\"./Group_7_data_cleaned.csv\")"
   ]
  },
  {
   "cell_type": "code",
   "execution_count": 3,
   "id": "2730b50c",
   "metadata": {},
   "outputs": [],
   "source": [
    "df.drop(columns=['Date','Time'], inplace=True)"
   ]
  },
  {
   "cell_type": "code",
   "execution_count": 4,
   "id": "8f8b71c9",
   "metadata": {},
   "outputs": [
    {
     "data": {
      "text/html": [
       "<div>\n",
       "<style scoped>\n",
       "    .dataframe tbody tr th:only-of-type {\n",
       "        vertical-align: middle;\n",
       "    }\n",
       "\n",
       "    .dataframe tbody tr th {\n",
       "        vertical-align: top;\n",
       "    }\n",
       "\n",
       "    .dataframe thead th {\n",
       "        text-align: right;\n",
       "    }\n",
       "</style>\n",
       "<table border=\"1\" class=\"dataframe\">\n",
       "  <thead>\n",
       "    <tr style=\"text-align: right;\">\n",
       "      <th></th>\n",
       "      <th>S1_Temp</th>\n",
       "      <th>S2_Temp</th>\n",
       "      <th>S3_Temp</th>\n",
       "      <th>S4_Temp</th>\n",
       "      <th>S1_Light</th>\n",
       "      <th>S2_Light</th>\n",
       "      <th>S3_Light</th>\n",
       "      <th>S4_Light</th>\n",
       "      <th>S1_Sound</th>\n",
       "      <th>S2_Sound</th>\n",
       "      <th>S3_Sound</th>\n",
       "      <th>S4_Sound</th>\n",
       "      <th>S5_CO2</th>\n",
       "      <th>S5_CO2_Slope</th>\n",
       "      <th>S6_PIR</th>\n",
       "      <th>S7_PIR</th>\n",
       "      <th>Room_Occupancy_Count</th>\n",
       "    </tr>\n",
       "  </thead>\n",
       "  <tbody>\n",
       "    <tr>\n",
       "      <th>0</th>\n",
       "      <td>24.94</td>\n",
       "      <td>24.75</td>\n",
       "      <td>24.56</td>\n",
       "      <td>25.38</td>\n",
       "      <td>121</td>\n",
       "      <td>34</td>\n",
       "      <td>53</td>\n",
       "      <td>40</td>\n",
       "      <td>0.08</td>\n",
       "      <td>0.19</td>\n",
       "      <td>0.06</td>\n",
       "      <td>0.06</td>\n",
       "      <td>390</td>\n",
       "      <td>0.77</td>\n",
       "      <td>0</td>\n",
       "      <td>0</td>\n",
       "      <td>1</td>\n",
       "    </tr>\n",
       "    <tr>\n",
       "      <th>1</th>\n",
       "      <td>24.94</td>\n",
       "      <td>24.75</td>\n",
       "      <td>24.56</td>\n",
       "      <td>25.44</td>\n",
       "      <td>121</td>\n",
       "      <td>33</td>\n",
       "      <td>53</td>\n",
       "      <td>40</td>\n",
       "      <td>0.93</td>\n",
       "      <td>0.05</td>\n",
       "      <td>0.06</td>\n",
       "      <td>0.06</td>\n",
       "      <td>390</td>\n",
       "      <td>0.65</td>\n",
       "      <td>0</td>\n",
       "      <td>0</td>\n",
       "      <td>1</td>\n",
       "    </tr>\n",
       "    <tr>\n",
       "      <th>2</th>\n",
       "      <td>25.00</td>\n",
       "      <td>24.75</td>\n",
       "      <td>24.50</td>\n",
       "      <td>25.44</td>\n",
       "      <td>121</td>\n",
       "      <td>34</td>\n",
       "      <td>53</td>\n",
       "      <td>40</td>\n",
       "      <td>0.43</td>\n",
       "      <td>0.11</td>\n",
       "      <td>0.08</td>\n",
       "      <td>0.06</td>\n",
       "      <td>390</td>\n",
       "      <td>0.52</td>\n",
       "      <td>0</td>\n",
       "      <td>0</td>\n",
       "      <td>1</td>\n",
       "    </tr>\n",
       "    <tr>\n",
       "      <th>3</th>\n",
       "      <td>25.00</td>\n",
       "      <td>24.75</td>\n",
       "      <td>24.56</td>\n",
       "      <td>25.44</td>\n",
       "      <td>121</td>\n",
       "      <td>34</td>\n",
       "      <td>53</td>\n",
       "      <td>40</td>\n",
       "      <td>0.41</td>\n",
       "      <td>0.10</td>\n",
       "      <td>0.10</td>\n",
       "      <td>0.09</td>\n",
       "      <td>390</td>\n",
       "      <td>0.39</td>\n",
       "      <td>0</td>\n",
       "      <td>0</td>\n",
       "      <td>1</td>\n",
       "    </tr>\n",
       "    <tr>\n",
       "      <th>4</th>\n",
       "      <td>25.00</td>\n",
       "      <td>24.75</td>\n",
       "      <td>24.56</td>\n",
       "      <td>25.44</td>\n",
       "      <td>121</td>\n",
       "      <td>34</td>\n",
       "      <td>54</td>\n",
       "      <td>40</td>\n",
       "      <td>0.18</td>\n",
       "      <td>0.06</td>\n",
       "      <td>0.06</td>\n",
       "      <td>0.06</td>\n",
       "      <td>390</td>\n",
       "      <td>0.25</td>\n",
       "      <td>0</td>\n",
       "      <td>0</td>\n",
       "      <td>1</td>\n",
       "    </tr>\n",
       "  </tbody>\n",
       "</table>\n",
       "</div>"
      ],
      "text/plain": [
       "   S1_Temp  S2_Temp  S3_Temp  S4_Temp  S1_Light  S2_Light  S3_Light  S4_Light  \\\n",
       "0    24.94    24.75    24.56    25.38       121        34        53        40   \n",
       "1    24.94    24.75    24.56    25.44       121        33        53        40   \n",
       "2    25.00    24.75    24.50    25.44       121        34        53        40   \n",
       "3    25.00    24.75    24.56    25.44       121        34        53        40   \n",
       "4    25.00    24.75    24.56    25.44       121        34        54        40   \n",
       "\n",
       "   S1_Sound  S2_Sound  S3_Sound  S4_Sound  S5_CO2  S5_CO2_Slope  S6_PIR  \\\n",
       "0      0.08      0.19      0.06      0.06     390          0.77       0   \n",
       "1      0.93      0.05      0.06      0.06     390          0.65       0   \n",
       "2      0.43      0.11      0.08      0.06     390          0.52       0   \n",
       "3      0.41      0.10      0.10      0.09     390          0.39       0   \n",
       "4      0.18      0.06      0.06      0.06     390          0.25       0   \n",
       "\n",
       "   S7_PIR  Room_Occupancy_Count  \n",
       "0       0                     1  \n",
       "1       0                     1  \n",
       "2       0                     1  \n",
       "3       0                     1  \n",
       "4       0                     1  "
      ]
     },
     "execution_count": 4,
     "metadata": {},
     "output_type": "execute_result"
    }
   ],
   "source": [
    "df.head()"
   ]
  },
  {
   "cell_type": "code",
   "execution_count": 5,
   "id": "5d434e50",
   "metadata": {},
   "outputs": [
    {
     "name": "stdout",
     "output_type": "stream",
     "text": [
      "<class 'pandas.core.frame.DataFrame'>\n",
      "RangeIndex: 10129 entries, 0 to 10128\n",
      "Data columns (total 17 columns):\n",
      " #   Column                Non-Null Count  Dtype  \n",
      "---  ------                --------------  -----  \n",
      " 0   S1_Temp               10129 non-null  float64\n",
      " 1   S2_Temp               10129 non-null  float64\n",
      " 2   S3_Temp               10129 non-null  float64\n",
      " 3   S4_Temp               10129 non-null  float64\n",
      " 4   S1_Light              10129 non-null  int64  \n",
      " 5   S2_Light              10129 non-null  int64  \n",
      " 6   S3_Light              10129 non-null  int64  \n",
      " 7   S4_Light              10129 non-null  int64  \n",
      " 8   S1_Sound              10129 non-null  float64\n",
      " 9   S2_Sound              10129 non-null  float64\n",
      " 10  S3_Sound              10129 non-null  float64\n",
      " 11  S4_Sound              10129 non-null  float64\n",
      " 12  S5_CO2                10129 non-null  int64  \n",
      " 13  S5_CO2_Slope          10129 non-null  float64\n",
      " 14  S6_PIR                10129 non-null  int64  \n",
      " 15  S7_PIR                10129 non-null  int64  \n",
      " 16  Room_Occupancy_Count  10129 non-null  int64  \n",
      "dtypes: float64(9), int64(8)\n",
      "memory usage: 1.3 MB\n"
     ]
    }
   ],
   "source": [
    "df.info()"
   ]
  },
  {
   "cell_type": "code",
   "execution_count": 6,
   "id": "e8b235fa",
   "metadata": {},
   "outputs": [],
   "source": [
    "df_wo_light = df.drop(df.filter(regex='Light').columns, axis=1)"
   ]
  },
  {
   "cell_type": "code",
   "execution_count": 7,
   "id": "f0ceab0d",
   "metadata": {},
   "outputs": [
    {
     "data": {
      "text/html": [
       "<div>\n",
       "<style scoped>\n",
       "    .dataframe tbody tr th:only-of-type {\n",
       "        vertical-align: middle;\n",
       "    }\n",
       "\n",
       "    .dataframe tbody tr th {\n",
       "        vertical-align: top;\n",
       "    }\n",
       "\n",
       "    .dataframe thead th {\n",
       "        text-align: right;\n",
       "    }\n",
       "</style>\n",
       "<table border=\"1\" class=\"dataframe\">\n",
       "  <thead>\n",
       "    <tr style=\"text-align: right;\">\n",
       "      <th></th>\n",
       "      <th>S1_Temp</th>\n",
       "      <th>S2_Temp</th>\n",
       "      <th>S3_Temp</th>\n",
       "      <th>S4_Temp</th>\n",
       "      <th>S1_Sound</th>\n",
       "      <th>S2_Sound</th>\n",
       "      <th>S3_Sound</th>\n",
       "      <th>S4_Sound</th>\n",
       "      <th>S5_CO2</th>\n",
       "      <th>S5_CO2_Slope</th>\n",
       "      <th>S6_PIR</th>\n",
       "      <th>S7_PIR</th>\n",
       "      <th>Room_Occupancy_Count</th>\n",
       "    </tr>\n",
       "  </thead>\n",
       "  <tbody>\n",
       "    <tr>\n",
       "      <th>0</th>\n",
       "      <td>24.94</td>\n",
       "      <td>24.75</td>\n",
       "      <td>24.56</td>\n",
       "      <td>25.38</td>\n",
       "      <td>0.08</td>\n",
       "      <td>0.19</td>\n",
       "      <td>0.06</td>\n",
       "      <td>0.06</td>\n",
       "      <td>390</td>\n",
       "      <td>0.77</td>\n",
       "      <td>0</td>\n",
       "      <td>0</td>\n",
       "      <td>1</td>\n",
       "    </tr>\n",
       "    <tr>\n",
       "      <th>1</th>\n",
       "      <td>24.94</td>\n",
       "      <td>24.75</td>\n",
       "      <td>24.56</td>\n",
       "      <td>25.44</td>\n",
       "      <td>0.93</td>\n",
       "      <td>0.05</td>\n",
       "      <td>0.06</td>\n",
       "      <td>0.06</td>\n",
       "      <td>390</td>\n",
       "      <td>0.65</td>\n",
       "      <td>0</td>\n",
       "      <td>0</td>\n",
       "      <td>1</td>\n",
       "    </tr>\n",
       "    <tr>\n",
       "      <th>2</th>\n",
       "      <td>25.00</td>\n",
       "      <td>24.75</td>\n",
       "      <td>24.50</td>\n",
       "      <td>25.44</td>\n",
       "      <td>0.43</td>\n",
       "      <td>0.11</td>\n",
       "      <td>0.08</td>\n",
       "      <td>0.06</td>\n",
       "      <td>390</td>\n",
       "      <td>0.52</td>\n",
       "      <td>0</td>\n",
       "      <td>0</td>\n",
       "      <td>1</td>\n",
       "    </tr>\n",
       "    <tr>\n",
       "      <th>3</th>\n",
       "      <td>25.00</td>\n",
       "      <td>24.75</td>\n",
       "      <td>24.56</td>\n",
       "      <td>25.44</td>\n",
       "      <td>0.41</td>\n",
       "      <td>0.10</td>\n",
       "      <td>0.10</td>\n",
       "      <td>0.09</td>\n",
       "      <td>390</td>\n",
       "      <td>0.39</td>\n",
       "      <td>0</td>\n",
       "      <td>0</td>\n",
       "      <td>1</td>\n",
       "    </tr>\n",
       "    <tr>\n",
       "      <th>4</th>\n",
       "      <td>25.00</td>\n",
       "      <td>24.75</td>\n",
       "      <td>24.56</td>\n",
       "      <td>25.44</td>\n",
       "      <td>0.18</td>\n",
       "      <td>0.06</td>\n",
       "      <td>0.06</td>\n",
       "      <td>0.06</td>\n",
       "      <td>390</td>\n",
       "      <td>0.25</td>\n",
       "      <td>0</td>\n",
       "      <td>0</td>\n",
       "      <td>1</td>\n",
       "    </tr>\n",
       "  </tbody>\n",
       "</table>\n",
       "</div>"
      ],
      "text/plain": [
       "   S1_Temp  S2_Temp  S3_Temp  S4_Temp  S1_Sound  S2_Sound  S3_Sound  S4_Sound  \\\n",
       "0    24.94    24.75    24.56    25.38      0.08      0.19      0.06      0.06   \n",
       "1    24.94    24.75    24.56    25.44      0.93      0.05      0.06      0.06   \n",
       "2    25.00    24.75    24.50    25.44      0.43      0.11      0.08      0.06   \n",
       "3    25.00    24.75    24.56    25.44      0.41      0.10      0.10      0.09   \n",
       "4    25.00    24.75    24.56    25.44      0.18      0.06      0.06      0.06   \n",
       "\n",
       "   S5_CO2  S5_CO2_Slope  S6_PIR  S7_PIR  Room_Occupancy_Count  \n",
       "0     390          0.77       0       0                     1  \n",
       "1     390          0.65       0       0                     1  \n",
       "2     390          0.52       0       0                     1  \n",
       "3     390          0.39       0       0                     1  \n",
       "4     390          0.25       0       0                     1  "
      ]
     },
     "execution_count": 7,
     "metadata": {},
     "output_type": "execute_result"
    }
   ],
   "source": [
    "df_wo_light.head()"
   ]
  },
  {
   "cell_type": "code",
   "execution_count": 8,
   "id": "e9c2c9f5",
   "metadata": {},
   "outputs": [],
   "source": [
    "X_wo_light = df_wo_light.drop(['Room_Occupancy_Count'], axis=1)\n",
    "y_wo_light = df_wo_light[['Room_Occupancy_Count']]"
   ]
  },
  {
   "cell_type": "code",
   "execution_count": 9,
   "id": "fb08a35a",
   "metadata": {},
   "outputs": [],
   "source": [
    "# Splitting the dataset into train and test\n",
    "X_train_wo_light, X_test_wo_light, y_train_wo_light, y_test_wo_light = train_test_split(X_wo_light, y_wo_light, test_size=0.2, random_state=42)"
   ]
  },
  {
   "cell_type": "code",
   "execution_count": 10,
   "id": "ed196a3e",
   "metadata": {},
   "outputs": [],
   "source": [
    "# Scaling the dataset\n",
    "scaler = StandardScaler()\n",
    "X_train_scaled_wo_light = scaler.fit_transform(X_train_wo_light)\n",
    "X_test_scaled_wo_light = scaler.transform(X_test_wo_light)"
   ]
  },
  {
   "cell_type": "markdown",
   "id": "3bf3c872",
   "metadata": {},
   "source": [
    "# Ensemble Learning"
   ]
  },
  {
   "cell_type": "markdown",
   "id": "d550b51f",
   "metadata": {},
   "source": [
    "The ensemble learning is combining multiple learning algorithms together for better performance than the\n",
    "individual learning model. The main idea is the principle of \"the wisdom of the crowd\".\n",
    "\n",
    "The ensemble models typically have better accuracy (lower error), and reduce both bias and variance."
   ]
  },
  {
   "cell_type": "markdown",
   "id": "92eee442",
   "metadata": {},
   "source": [
    "## 1. Voting Classifier"
   ]
  },
  {
   "cell_type": "markdown",
   "id": "d1649767",
   "metadata": {},
   "source": [
    "A majority voting model combines multiple models' predictions to make a final prediction. In classification, there are two approaches to getting the final prediction in classification:\n",
    "\n",
    "- __Hard Voting:-__ Summing the predictions of each class from all the models and predicting the class with the most votes.\n",
    "\n",
    "- __Soft Voting:-__ Summing the predicted probabilities for each class from all the models and predicting the class with the largest summed probability."
   ]
  },
  {
   "cell_type": "code",
   "execution_count": 11,
   "id": "fb5c669d",
   "metadata": {},
   "outputs": [],
   "source": [
    "# initializing all the model objects with default parameters\n",
    "model_1 = SGDClassifier(alpha=0.001, loss= 'log', penalty= 'none', random_state=42)\n",
    "model_2 = KNeighborsClassifier(n_neighbors= 4, p= 1, weights= 'distance')\n",
    "model_3 = DecisionTreeClassifier(criterion= 'entropy',max_depth= 12,max_leaf_nodes= 40,min_samples_leaf= 2,min_samples_split= 2)\n",
    "model_4 = RandomForestClassifier(bootstrap= 'False', max_depth= 40, max_features= 'log2', n_estimators= 200)\n",
    "model_5 = SVC(kernel = 'linear', C = 100)\n",
    "model_6 = SVC(kernel = 'rbf', C = 100, gamma = 0.01)\n",
    "model_7 = MLPClassifier(hidden_layer_sizes = (100, 100), learning_rate = 'constant', solver = 'adam')"
   ]
  },
  {
   "cell_type": "code",
   "execution_count": 12,
   "id": "312100f4",
   "metadata": {},
   "outputs": [],
   "source": [
    "# Making the final model using voting classifier\n",
    "final_model = VotingClassifier(\n",
    "    estimators=[('sgd', model_1), \n",
    "                ('knn', model_2), \n",
    "                ('dt', model_3),\n",
    "                ('rn', model_4),\n",
    "                ('svcl', model_5),\n",
    "                ('svcnl', model_6),\n",
    "                ('dl', model_7)], voting='hard')"
   ]
  },
  {
   "cell_type": "code",
   "execution_count": 13,
   "id": "fd618910",
   "metadata": {},
   "outputs": [
    {
     "data": {
      "text/html": [
       "<style>#sk-container-id-1 {color: black;background-color: white;}#sk-container-id-1 pre{padding: 0;}#sk-container-id-1 div.sk-toggleable {background-color: white;}#sk-container-id-1 label.sk-toggleable__label {cursor: pointer;display: block;width: 100%;margin-bottom: 0;padding: 0.3em;box-sizing: border-box;text-align: center;}#sk-container-id-1 label.sk-toggleable__label-arrow:before {content: \"▸\";float: left;margin-right: 0.25em;color: #696969;}#sk-container-id-1 label.sk-toggleable__label-arrow:hover:before {color: black;}#sk-container-id-1 div.sk-estimator:hover label.sk-toggleable__label-arrow:before {color: black;}#sk-container-id-1 div.sk-toggleable__content {max-height: 0;max-width: 0;overflow: hidden;text-align: left;background-color: #f0f8ff;}#sk-container-id-1 div.sk-toggleable__content pre {margin: 0.2em;color: black;border-radius: 0.25em;background-color: #f0f8ff;}#sk-container-id-1 input.sk-toggleable__control:checked~div.sk-toggleable__content {max-height: 200px;max-width: 100%;overflow: auto;}#sk-container-id-1 input.sk-toggleable__control:checked~label.sk-toggleable__label-arrow:before {content: \"▾\";}#sk-container-id-1 div.sk-estimator input.sk-toggleable__control:checked~label.sk-toggleable__label {background-color: #d4ebff;}#sk-container-id-1 div.sk-label input.sk-toggleable__control:checked~label.sk-toggleable__label {background-color: #d4ebff;}#sk-container-id-1 input.sk-hidden--visually {border: 0;clip: rect(1px 1px 1px 1px);clip: rect(1px, 1px, 1px, 1px);height: 1px;margin: -1px;overflow: hidden;padding: 0;position: absolute;width: 1px;}#sk-container-id-1 div.sk-estimator {font-family: monospace;background-color: #f0f8ff;border: 1px dotted black;border-radius: 0.25em;box-sizing: border-box;margin-bottom: 0.5em;}#sk-container-id-1 div.sk-estimator:hover {background-color: #d4ebff;}#sk-container-id-1 div.sk-parallel-item::after {content: \"\";width: 100%;border-bottom: 1px solid gray;flex-grow: 1;}#sk-container-id-1 div.sk-label:hover label.sk-toggleable__label {background-color: #d4ebff;}#sk-container-id-1 div.sk-serial::before {content: \"\";position: absolute;border-left: 1px solid gray;box-sizing: border-box;top: 0;bottom: 0;left: 50%;z-index: 0;}#sk-container-id-1 div.sk-serial {display: flex;flex-direction: column;align-items: center;background-color: white;padding-right: 0.2em;padding-left: 0.2em;position: relative;}#sk-container-id-1 div.sk-item {position: relative;z-index: 1;}#sk-container-id-1 div.sk-parallel {display: flex;align-items: stretch;justify-content: center;background-color: white;position: relative;}#sk-container-id-1 div.sk-item::before, #sk-container-id-1 div.sk-parallel-item::before {content: \"\";position: absolute;border-left: 1px solid gray;box-sizing: border-box;top: 0;bottom: 0;left: 50%;z-index: -1;}#sk-container-id-1 div.sk-parallel-item {display: flex;flex-direction: column;z-index: 1;position: relative;background-color: white;}#sk-container-id-1 div.sk-parallel-item:first-child::after {align-self: flex-end;width: 50%;}#sk-container-id-1 div.sk-parallel-item:last-child::after {align-self: flex-start;width: 50%;}#sk-container-id-1 div.sk-parallel-item:only-child::after {width: 0;}#sk-container-id-1 div.sk-dashed-wrapped {border: 1px dashed gray;margin: 0 0.4em 0.5em 0.4em;box-sizing: border-box;padding-bottom: 0.4em;background-color: white;}#sk-container-id-1 div.sk-label label {font-family: monospace;font-weight: bold;display: inline-block;line-height: 1.2em;}#sk-container-id-1 div.sk-label-container {text-align: center;}#sk-container-id-1 div.sk-container {/* jupyter's `normalize.less` sets `[hidden] { display: none; }` but bootstrap.min.css set `[hidden] { display: none !important; }` so we also need the `!important` here to be able to override the default hidden behavior on the sphinx rendered scikit-learn.org. See: https://github.com/scikit-learn/scikit-learn/issues/21755 */display: inline-block !important;position: relative;}#sk-container-id-1 div.sk-text-repr-fallback {display: none;}</style><div id=\"sk-container-id-1\" class=\"sk-top-container\"><div class=\"sk-text-repr-fallback\"><pre>VotingClassifier(estimators=[(&#x27;sgd&#x27;,\n",
       "                              SGDClassifier(alpha=0.001, loss=&#x27;log&#x27;,\n",
       "                                            penalty=&#x27;none&#x27;, random_state=42)),\n",
       "                             (&#x27;knn&#x27;,\n",
       "                              KNeighborsClassifier(n_neighbors=4, p=1,\n",
       "                                                   weights=&#x27;distance&#x27;)),\n",
       "                             (&#x27;dt&#x27;,\n",
       "                              DecisionTreeClassifier(criterion=&#x27;entropy&#x27;,\n",
       "                                                     max_depth=12,\n",
       "                                                     max_leaf_nodes=40,\n",
       "                                                     min_samples_leaf=2)),\n",
       "                             (&#x27;rn&#x27;,\n",
       "                              RandomForestClassifier(bootstrap=&#x27;False&#x27;,\n",
       "                                                     max_depth=40,\n",
       "                                                     max_features=&#x27;log2&#x27;,\n",
       "                                                     n_estimators=200)),\n",
       "                             (&#x27;svcl&#x27;, SVC(C=100, kernel=&#x27;linear&#x27;)),\n",
       "                             (&#x27;svcnl&#x27;, SVC(C=100, gamma=0.01)),\n",
       "                             (&#x27;dl&#x27;,\n",
       "                              MLPClassifier(hidden_layer_sizes=(100, 100)))])</pre><b>In a Jupyter environment, please rerun this cell to show the HTML representation or trust the notebook. <br />On GitHub, the HTML representation is unable to render, please try loading this page with nbviewer.org.</b></div><div class=\"sk-container\" hidden><div class=\"sk-item sk-dashed-wrapped\"><div class=\"sk-label-container\"><div class=\"sk-label sk-toggleable\"><input class=\"sk-toggleable__control sk-hidden--visually\" id=\"sk-estimator-id-1\" type=\"checkbox\" ><label for=\"sk-estimator-id-1\" class=\"sk-toggleable__label sk-toggleable__label-arrow\">VotingClassifier</label><div class=\"sk-toggleable__content\"><pre>VotingClassifier(estimators=[(&#x27;sgd&#x27;,\n",
       "                              SGDClassifier(alpha=0.001, loss=&#x27;log&#x27;,\n",
       "                                            penalty=&#x27;none&#x27;, random_state=42)),\n",
       "                             (&#x27;knn&#x27;,\n",
       "                              KNeighborsClassifier(n_neighbors=4, p=1,\n",
       "                                                   weights=&#x27;distance&#x27;)),\n",
       "                             (&#x27;dt&#x27;,\n",
       "                              DecisionTreeClassifier(criterion=&#x27;entropy&#x27;,\n",
       "                                                     max_depth=12,\n",
       "                                                     max_leaf_nodes=40,\n",
       "                                                     min_samples_leaf=2)),\n",
       "                             (&#x27;rn&#x27;,\n",
       "                              RandomForestClassifier(bootstrap=&#x27;False&#x27;,\n",
       "                                                     max_depth=40,\n",
       "                                                     max_features=&#x27;log2&#x27;,\n",
       "                                                     n_estimators=200)),\n",
       "                             (&#x27;svcl&#x27;, SVC(C=100, kernel=&#x27;linear&#x27;)),\n",
       "                             (&#x27;svcnl&#x27;, SVC(C=100, gamma=0.01)),\n",
       "                             (&#x27;dl&#x27;,\n",
       "                              MLPClassifier(hidden_layer_sizes=(100, 100)))])</pre></div></div></div><div class=\"sk-parallel\"><div class=\"sk-parallel-item\"><div class=\"sk-item\"><div class=\"sk-label-container\"><div class=\"sk-label sk-toggleable\"><label>sgd</label></div></div><div class=\"sk-serial\"><div class=\"sk-item\"><div class=\"sk-estimator sk-toggleable\"><input class=\"sk-toggleable__control sk-hidden--visually\" id=\"sk-estimator-id-2\" type=\"checkbox\" ><label for=\"sk-estimator-id-2\" class=\"sk-toggleable__label sk-toggleable__label-arrow\">SGDClassifier</label><div class=\"sk-toggleable__content\"><pre>SGDClassifier(alpha=0.001, loss=&#x27;log&#x27;, penalty=&#x27;none&#x27;, random_state=42)</pre></div></div></div></div></div></div><div class=\"sk-parallel-item\"><div class=\"sk-item\"><div class=\"sk-label-container\"><div class=\"sk-label sk-toggleable\"><label>knn</label></div></div><div class=\"sk-serial\"><div class=\"sk-item\"><div class=\"sk-estimator sk-toggleable\"><input class=\"sk-toggleable__control sk-hidden--visually\" id=\"sk-estimator-id-3\" type=\"checkbox\" ><label for=\"sk-estimator-id-3\" class=\"sk-toggleable__label sk-toggleable__label-arrow\">KNeighborsClassifier</label><div class=\"sk-toggleable__content\"><pre>KNeighborsClassifier(n_neighbors=4, p=1, weights=&#x27;distance&#x27;)</pre></div></div></div></div></div></div><div class=\"sk-parallel-item\"><div class=\"sk-item\"><div class=\"sk-label-container\"><div class=\"sk-label sk-toggleable\"><label>dt</label></div></div><div class=\"sk-serial\"><div class=\"sk-item\"><div class=\"sk-estimator sk-toggleable\"><input class=\"sk-toggleable__control sk-hidden--visually\" id=\"sk-estimator-id-4\" type=\"checkbox\" ><label for=\"sk-estimator-id-4\" class=\"sk-toggleable__label sk-toggleable__label-arrow\">DecisionTreeClassifier</label><div class=\"sk-toggleable__content\"><pre>DecisionTreeClassifier(criterion=&#x27;entropy&#x27;, max_depth=12, max_leaf_nodes=40,\n",
       "                       min_samples_leaf=2)</pre></div></div></div></div></div></div><div class=\"sk-parallel-item\"><div class=\"sk-item\"><div class=\"sk-label-container\"><div class=\"sk-label sk-toggleable\"><label>rn</label></div></div><div class=\"sk-serial\"><div class=\"sk-item\"><div class=\"sk-estimator sk-toggleable\"><input class=\"sk-toggleable__control sk-hidden--visually\" id=\"sk-estimator-id-5\" type=\"checkbox\" ><label for=\"sk-estimator-id-5\" class=\"sk-toggleable__label sk-toggleable__label-arrow\">RandomForestClassifier</label><div class=\"sk-toggleable__content\"><pre>RandomForestClassifier(bootstrap=&#x27;False&#x27;, max_depth=40, max_features=&#x27;log2&#x27;,\n",
       "                       n_estimators=200)</pre></div></div></div></div></div></div><div class=\"sk-parallel-item\"><div class=\"sk-item\"><div class=\"sk-label-container\"><div class=\"sk-label sk-toggleable\"><label>svcl</label></div></div><div class=\"sk-serial\"><div class=\"sk-item\"><div class=\"sk-estimator sk-toggleable\"><input class=\"sk-toggleable__control sk-hidden--visually\" id=\"sk-estimator-id-6\" type=\"checkbox\" ><label for=\"sk-estimator-id-6\" class=\"sk-toggleable__label sk-toggleable__label-arrow\">SVC</label><div class=\"sk-toggleable__content\"><pre>SVC(C=100, kernel=&#x27;linear&#x27;)</pre></div></div></div></div></div></div><div class=\"sk-parallel-item\"><div class=\"sk-item\"><div class=\"sk-label-container\"><div class=\"sk-label sk-toggleable\"><label>svcnl</label></div></div><div class=\"sk-serial\"><div class=\"sk-item\"><div class=\"sk-estimator sk-toggleable\"><input class=\"sk-toggleable__control sk-hidden--visually\" id=\"sk-estimator-id-7\" type=\"checkbox\" ><label for=\"sk-estimator-id-7\" class=\"sk-toggleable__label sk-toggleable__label-arrow\">SVC</label><div class=\"sk-toggleable__content\"><pre>SVC(C=100, gamma=0.01)</pre></div></div></div></div></div></div><div class=\"sk-parallel-item\"><div class=\"sk-item\"><div class=\"sk-label-container\"><div class=\"sk-label sk-toggleable\"><label>dl</label></div></div><div class=\"sk-serial\"><div class=\"sk-item\"><div class=\"sk-estimator sk-toggleable\"><input class=\"sk-toggleable__control sk-hidden--visually\" id=\"sk-estimator-id-8\" type=\"checkbox\" ><label for=\"sk-estimator-id-8\" class=\"sk-toggleable__label sk-toggleable__label-arrow\">MLPClassifier</label><div class=\"sk-toggleable__content\"><pre>MLPClassifier(hidden_layer_sizes=(100, 100))</pre></div></div></div></div></div></div></div></div></div></div>"
      ],
      "text/plain": [
       "VotingClassifier(estimators=[('sgd',\n",
       "                              SGDClassifier(alpha=0.001, loss='log',\n",
       "                                            penalty='none', random_state=42)),\n",
       "                             ('knn',\n",
       "                              KNeighborsClassifier(n_neighbors=4, p=1,\n",
       "                                                   weights='distance')),\n",
       "                             ('dt',\n",
       "                              DecisionTreeClassifier(criterion='entropy',\n",
       "                                                     max_depth=12,\n",
       "                                                     max_leaf_nodes=40,\n",
       "                                                     min_samples_leaf=2)),\n",
       "                             ('rn',\n",
       "                              RandomForestClassifier(bootstrap='False',\n",
       "                                                     max_depth=40,\n",
       "                                                     max_features='log2',\n",
       "                                                     n_estimators=200)),\n",
       "                             ('svcl', SVC(C=100, kernel='linear')),\n",
       "                             ('svcnl', SVC(C=100, gamma=0.01)),\n",
       "                             ('dl',\n",
       "                              MLPClassifier(hidden_layer_sizes=(100, 100)))])"
      ]
     },
     "execution_count": 13,
     "metadata": {},
     "output_type": "execute_result"
    }
   ],
   "source": [
    "# training all the model on the train dataset\n",
    "final_model.fit(X_train_scaled_wo_light, y_train_wo_light)"
   ]
  },
  {
   "cell_type": "code",
   "execution_count": 14,
   "id": "d264936e",
   "metadata": {},
   "outputs": [],
   "source": [
    "# predicting the output on the test dataset\n",
    "pred_final = final_model.predict(X_test_scaled_wo_light)"
   ]
  },
  {
   "cell_type": "code",
   "execution_count": 15,
   "id": "f9dca51e",
   "metadata": {},
   "outputs": [
    {
     "name": "stdout",
     "output_type": "stream",
     "text": [
      "Accuracy on train set:  0.9953103788720227\n",
      "Accuracy on test set:  0.9856860809476802\n"
     ]
    }
   ],
   "source": [
    "print(\"Accuracy on train set: \", final_model.score(X_train_scaled_wo_light, y_train_wo_light))\n",
    "print(\"Accuracy on test set: \", final_model.score(X_test_scaled_wo_light, y_test_wo_light))"
   ]
  },
  {
   "cell_type": "code",
   "execution_count": 16,
   "id": "604f29ad",
   "metadata": {},
   "outputs": [
    {
     "data": {
      "image/png": "[encoded data removed]",
      "text/plain": [
       "<Figure size 600x400 with 2 Axes>"
      ]
     },
     "metadata": {},
     "output_type": "display_data"
    }
   ],
   "source": [
    "cm = confusion_matrix(y_test_wo_light, pred_final)\n",
    "plt.figure(figsize = (6,4))\n",
    "\n",
    "sns.heatmap(cm, \n",
    "            annot=True, \n",
    "            cmap=\"Spectral\",\n",
    "            fmt='g'\n",
    "           )\n",
    "plt.xlabel('Predicted', fontsize=10)\n",
    "plt.ylabel('Actual/Observed', fontsize=10);"
   ]
  },
  {
   "cell_type": "code",
   "execution_count": 17,
   "id": "1ef0bb67",
   "metadata": {},
   "outputs": [
    {
     "name": "stdout",
     "output_type": "stream",
     "text": [
      "              precision    recall  f1-score   support\n",
      "\n",
      "           0       1.00      1.00      1.00      1619\n",
      "           1       0.94      0.95      0.95       103\n",
      "           2       0.96      0.92      0.94       164\n",
      "           3       0.93      0.95      0.94       140\n",
      "\n",
      "    accuracy                           0.99      2026\n",
      "   macro avg       0.96      0.95      0.96      2026\n",
      "weighted avg       0.99      0.99      0.99      2026\n",
      "\n"
     ]
    }
   ],
   "source": [
    "# Classification Report\n",
    "print(classification_report(y_test_wo_light, pred_final))"
   ]
  },
  {
   "cell_type": "code",
   "execution_count": 18,
   "id": "7a15f8f7",
   "metadata": {},
   "outputs": [
    {
     "data": {
      "text/html": [
       "<div>\n",
       "<style scoped>\n",
       "    .dataframe tbody tr th:only-of-type {\n",
       "        vertical-align: middle;\n",
       "    }\n",
       "\n",
       "    .dataframe tbody tr th {\n",
       "        vertical-align: top;\n",
       "    }\n",
       "\n",
       "    .dataframe thead th {\n",
       "        text-align: right;\n",
       "    }\n",
       "</style>\n",
       "<table border=\"1\" class=\"dataframe\">\n",
       "  <thead>\n",
       "    <tr style=\"text-align: right;\">\n",
       "      <th></th>\n",
       "      <th>Model</th>\n",
       "      <th>Accuracy</th>\n",
       "      <th>Precision</th>\n",
       "      <th>Recall</th>\n",
       "      <th>F1 Score</th>\n",
       "    </tr>\n",
       "  </thead>\n",
       "  <tbody>\n",
       "    <tr>\n",
       "      <th>0</th>\n",
       "      <td>Ensemble: Majority Voting</td>\n",
       "      <td>98.57</td>\n",
       "      <td>98.57</td>\n",
       "      <td>98.57</td>\n",
       "      <td>98.57</td>\n",
       "    </tr>\n",
       "  </tbody>\n",
       "</table>\n",
       "</div>"
      ],
      "text/plain": [
       "                       Model  Accuracy  Precision  Recall  F1 Score\n",
       "0  Ensemble: Majority Voting     98.57      98.57   98.57     98.57"
      ]
     },
     "execution_count": 18,
     "metadata": {},
     "output_type": "execute_result"
    }
   ],
   "source": [
    "# Calculating the evaluation metrics\n",
    "accuracy = accuracy_score(y_test_wo_light, pred_final)\n",
    "weighted_precision = precision_score(y_test_wo_light, pred_final, average='weighted')\n",
    "weighted_recall = recall_score(y_test_wo_light, pred_final, average='weighted')\n",
    "weighted_f1 = f1_score(y_test_wo_light, pred_final, average='weighted')\n",
    "\n",
    "# Creating an evaluation metrics dataframe for the model\n",
    "results = pd.DataFrame([['Ensemble: Majority Voting', \n",
    "                         round(accuracy*100,2), \n",
    "                         round(weighted_precision*100,2), \n",
    "                         round(weighted_recall*100,2), \n",
    "                         round(weighted_f1*100,2)\n",
    "                        ]],\n",
    "                       columns = ['Model', 'Accuracy', 'Precision', 'Recall', 'F1 Score'])\n",
    "results"
   ]
  },
  {
   "cell_type": "markdown",
   "id": "5b1973f0",
   "metadata": {},
   "source": [
    "## 2. Stacking"
   ]
  },
  {
   "cell_type": "markdown",
   "id": "dfa0d160",
   "metadata": {},
   "source": [
    "Stacking is an ensemble learning method that combines multiple heterogeneous learning models via a meta-estimator. The individual models are trained on the complete training dataset and the meta-estimator is fitted based on the outputs – meta-features – of the individual models in the ensemble.\n",
    "\n",
    "Diversity comes from different machine learning models used as ensemble members"
   ]
  },
  {
   "cell_type": "code",
   "execution_count": 19,
   "id": "404b1ff5",
   "metadata": {},
   "outputs": [],
   "source": [
    "# initializing all the model objects with default parameters\n",
    "model_1 = SGDClassifier(alpha=0.001, loss= 'log', penalty= 'none', random_state=42)\n",
    "model_2 = KNeighborsClassifier(n_neighbors= 4, p= 1, weights= 'distance')\n",
    "model_3 = DecisionTreeClassifier(criterion= 'entropy',max_depth= 12,max_leaf_nodes= 40,min_samples_leaf= 2,min_samples_split= 2)\n",
    "model_4 = RandomForestClassifier(bootstrap= 'False', max_depth= 40, max_features= 'log2', n_estimators= 200)\n",
    "model_5 = SVC(kernel = 'linear', C = 100)\n",
    "model_6 = SVC(kernel = 'rbf', C = 100, gamma = 0.01)\n",
    "model_7 = MLPClassifier(hidden_layer_sizes = (100, 100), learning_rate = 'constant', solver = 'adam')"
   ]
  },
  {
   "cell_type": "code",
   "execution_count": 20,
   "id": "f1e093b7",
   "metadata": {},
   "outputs": [],
   "source": [
    "# Making the final model using voting classifier\n",
    "final_model = StackingClassifier(\n",
    "    estimators=[('sgd', model_1), \n",
    "                ('knn', model_2), \n",
    "                ('dt', model_3),\n",
    "                ('rn', model_4),\n",
    "                ('svcl', model_5),\n",
    "                ('svcnl', model_6),\n",
    "                ('dl', model_7)],\n",
    "    final_estimator=RandomForestClassifier(),\n",
    "    cv=5,\n",
    "    passthrough=True\n",
    ")"
   ]
  },
  {
   "cell_type": "code",
   "execution_count": 21,
   "id": "99f8f803",
   "metadata": {},
   "outputs": [
    {
     "data": {
      "text/html": [
       "<style>#sk-container-id-2 {color: black;background-color: white;}#sk-container-id-2 pre{padding: 0;}#sk-container-id-2 div.sk-toggleable {background-color: white;}#sk-container-id-2 label.sk-toggleable__label {cursor: pointer;display: block;width: 100%;margin-bottom: 0;padding: 0.3em;box-sizing: border-box;text-align: center;}#sk-container-id-2 label.sk-toggleable__label-arrow:before {content: \"▸\";float: left;margin-right: 0.25em;color: #696969;}#sk-container-id-2 label.sk-toggleable__label-arrow:hover:before {color: black;}#sk-container-id-2 div.sk-estimator:hover label.sk-toggleable__label-arrow:before {color: black;}#sk-container-id-2 div.sk-toggleable__content {max-height: 0;max-width: 0;overflow: hidden;text-align: left;background-color: #f0f8ff;}#sk-container-id-2 div.sk-toggleable__content pre {margin: 0.2em;color: black;border-radius: 0.25em;background-color: #f0f8ff;}#sk-container-id-2 input.sk-toggleable__control:checked~div.sk-toggleable__content {max-height: 200px;max-width: 100%;overflow: auto;}#sk-container-id-2 input.sk-toggleable__control:checked~label.sk-toggleable__label-arrow:before {content: \"▾\";}#sk-container-id-2 div.sk-estimator input.sk-toggleable__control:checked~label.sk-toggleable__label {background-color: #d4ebff;}#sk-container-id-2 div.sk-label input.sk-toggleable__control:checked~label.sk-toggleable__label {background-color: #d4ebff;}#sk-container-id-2 input.sk-hidden--visually {border: 0;clip: rect(1px 1px 1px 1px);clip: rect(1px, 1px, 1px, 1px);height: 1px;margin: -1px;overflow: hidden;padding: 0;position: absolute;width: 1px;}#sk-container-id-2 div.sk-estimator {font-family: monospace;background-color: #f0f8ff;border: 1px dotted black;border-radius: 0.25em;box-sizing: border-box;margin-bottom: 0.5em;}#sk-container-id-2 div.sk-estimator:hover {background-color: #d4ebff;}#sk-container-id-2 div.sk-parallel-item::after {content: \"\";width: 100%;border-bottom: 1px solid gray;flex-grow: 1;}#sk-container-id-2 div.sk-label:hover label.sk-toggleable__label {background-color: #d4ebff;}#sk-container-id-2 div.sk-serial::before {content: \"\";position: absolute;border-left: 1px solid gray;box-sizing: border-box;top: 0;bottom: 0;left: 50%;z-index: 0;}#sk-container-id-2 div.sk-serial {display: flex;flex-direction: column;align-items: center;background-color: white;padding-right: 0.2em;padding-left: 0.2em;position: relative;}#sk-container-id-2 div.sk-item {position: relative;z-index: 1;}#sk-container-id-2 div.sk-parallel {display: flex;align-items: stretch;justify-content: center;background-color: white;position: relative;}#sk-container-id-2 div.sk-item::before, #sk-container-id-2 div.sk-parallel-item::before {content: \"\";position: absolute;border-left: 1px solid gray;box-sizing: border-box;top: 0;bottom: 0;left: 50%;z-index: -1;}#sk-container-id-2 div.sk-parallel-item {display: flex;flex-direction: column;z-index: 1;position: relative;background-color: white;}#sk-container-id-2 div.sk-parallel-item:first-child::after {align-self: flex-end;width: 50%;}#sk-container-id-2 div.sk-parallel-item:last-child::after {align-self: flex-start;width: 50%;}#sk-container-id-2 div.sk-parallel-item:only-child::after {width: 0;}#sk-container-id-2 div.sk-dashed-wrapped {border: 1px dashed gray;margin: 0 0.4em 0.5em 0.4em;box-sizing: border-box;padding-bottom: 0.4em;background-color: white;}#sk-container-id-2 div.sk-label label {font-family: monospace;font-weight: bold;display: inline-block;line-height: 1.2em;}#sk-container-id-2 div.sk-label-container {text-align: center;}#sk-container-id-2 div.sk-container {/* jupyter's `normalize.less` sets `[hidden] { display: none; }` but bootstrap.min.css set `[hidden] { display: none !important; }` so we also need the `!important` here to be able to override the default hidden behavior on the sphinx rendered scikit-learn.org. See: https://github.com/scikit-learn/scikit-learn/issues/21755 */display: inline-block !important;position: relative;}#sk-container-id-2 div.sk-text-repr-fallback {display: none;}</style><div id=\"sk-container-id-2\" class=\"sk-top-container\"><div class=\"sk-text-repr-fallback\"><pre>StackingClassifier(cv=5,\n",
       "                   estimators=[(&#x27;sgd&#x27;,\n",
       "                                SGDClassifier(alpha=0.001, loss=&#x27;log&#x27;,\n",
       "                                              penalty=&#x27;none&#x27;,\n",
       "                                              random_state=42)),\n",
       "                               (&#x27;knn&#x27;,\n",
       "                                KNeighborsClassifier(n_neighbors=4, p=1,\n",
       "                                                     weights=&#x27;distance&#x27;)),\n",
       "                               (&#x27;dt&#x27;,\n",
       "                                DecisionTreeClassifier(criterion=&#x27;entropy&#x27;,\n",
       "                                                       max_depth=12,\n",
       "                                                       max_leaf_nodes=40,\n",
       "                                                       min_samples_leaf=2)),\n",
       "                               (&#x27;rn&#x27;,\n",
       "                                RandomForestClassifier(bootstrap=&#x27;False&#x27;,\n",
       "                                                       max_depth=40,\n",
       "                                                       max_features=&#x27;log2&#x27;,\n",
       "                                                       n_estimators=200)),\n",
       "                               (&#x27;svcl&#x27;, SVC(C=100, kernel=&#x27;linear&#x27;)),\n",
       "                               (&#x27;svcnl&#x27;, SVC(C=100, gamma=0.01)),\n",
       "                               (&#x27;dl&#x27;,\n",
       "                                MLPClassifier(hidden_layer_sizes=(100, 100)))],\n",
       "                   final_estimator=RandomForestClassifier(), passthrough=True)</pre><b>In a Jupyter environment, please rerun this cell to show the HTML representation or trust the notebook. <br />On GitHub, the HTML representation is unable to render, please try loading this page with nbviewer.org.</b></div><div class=\"sk-container\" hidden><div class=\"sk-item sk-dashed-wrapped\"><div class=\"sk-label-container\"><div class=\"sk-label sk-toggleable\"><input class=\"sk-toggleable__control sk-hidden--visually\" id=\"sk-estimator-id-9\" type=\"checkbox\" ><label for=\"sk-estimator-id-9\" class=\"sk-toggleable__label sk-toggleable__label-arrow\">StackingClassifier</label><div class=\"sk-toggleable__content\"><pre>StackingClassifier(cv=5,\n",
       "                   estimators=[(&#x27;sgd&#x27;,\n",
       "                                SGDClassifier(alpha=0.001, loss=&#x27;log&#x27;,\n",
       "                                              penalty=&#x27;none&#x27;,\n",
       "                                              random_state=42)),\n",
       "                               (&#x27;knn&#x27;,\n",
       "                                KNeighborsClassifier(n_neighbors=4, p=1,\n",
       "                                                     weights=&#x27;distance&#x27;)),\n",
       "                               (&#x27;dt&#x27;,\n",
       "                                DecisionTreeClassifier(criterion=&#x27;entropy&#x27;,\n",
       "                                                       max_depth=12,\n",
       "                                                       max_leaf_nodes=40,\n",
       "                                                       min_samples_leaf=2)),\n",
       "                               (&#x27;rn&#x27;,\n",
       "                                RandomForestClassifier(bootstrap=&#x27;False&#x27;,\n",
       "                                                       max_depth=40,\n",
       "                                                       max_features=&#x27;log2&#x27;,\n",
       "                                                       n_estimators=200)),\n",
       "                               (&#x27;svcl&#x27;, SVC(C=100, kernel=&#x27;linear&#x27;)),\n",
       "                               (&#x27;svcnl&#x27;, SVC(C=100, gamma=0.01)),\n",
       "                               (&#x27;dl&#x27;,\n",
       "                                MLPClassifier(hidden_layer_sizes=(100, 100)))],\n",
       "                   final_estimator=RandomForestClassifier(), passthrough=True)</pre></div></div></div><div class=\"sk-serial\"><div class=\"sk-item\"><div class=\"sk-parallel\"><div class=\"sk-parallel-item\"><div class=\"sk-item\"><div class=\"sk-label-container\"><div class=\"sk-label sk-toggleable\"><label>sgd</label></div></div><div class=\"sk-serial\"><div class=\"sk-item\"><div class=\"sk-estimator sk-toggleable\"><input class=\"sk-toggleable__control sk-hidden--visually\" id=\"sk-estimator-id-10\" type=\"checkbox\" ><label for=\"sk-estimator-id-10\" class=\"sk-toggleable__label sk-toggleable__label-arrow\">SGDClassifier</label><div class=\"sk-toggleable__content\"><pre>SGDClassifier(alpha=0.001, loss=&#x27;log&#x27;, penalty=&#x27;none&#x27;, random_state=42)</pre></div></div></div></div></div></div><div class=\"sk-parallel-item\"><div class=\"sk-item\"><div class=\"sk-label-container\"><div class=\"sk-label sk-toggleable\"><label>knn</label></div></div><div class=\"sk-serial\"><div class=\"sk-item\"><div class=\"sk-estimator sk-toggleable\"><input class=\"sk-toggleable__control sk-hidden--visually\" id=\"sk-estimator-id-11\" type=\"checkbox\" ><label for=\"sk-estimator-id-11\" class=\"sk-toggleable__label sk-toggleable__label-arrow\">KNeighborsClassifier</label><div class=\"sk-toggleable__content\"><pre>KNeighborsClassifier(n_neighbors=4, p=1, weights=&#x27;distance&#x27;)</pre></div></div></div></div></div></div><div class=\"sk-parallel-item\"><div class=\"sk-item\"><div class=\"sk-label-container\"><div class=\"sk-label sk-toggleable\"><label>dt</label></div></div><div class=\"sk-serial\"><div class=\"sk-item\"><div class=\"sk-estimator sk-toggleable\"><input class=\"sk-toggleable__control sk-hidden--visually\" id=\"sk-estimator-id-12\" type=\"checkbox\" ><label for=\"sk-estimator-id-12\" class=\"sk-toggleable__label sk-toggleable__label-arrow\">DecisionTreeClassifier</label><div class=\"sk-toggleable__content\"><pre>DecisionTreeClassifier(criterion=&#x27;entropy&#x27;, max_depth=12, max_leaf_nodes=40,\n",
       "                       min_samples_leaf=2)</pre></div></div></div></div></div></div><div class=\"sk-parallel-item\"><div class=\"sk-item\"><div class=\"sk-label-container\"><div class=\"sk-label sk-toggleable\"><label>rn</label></div></div><div class=\"sk-serial\"><div class=\"sk-item\"><div class=\"sk-estimator sk-toggleable\"><input class=\"sk-toggleable__control sk-hidden--visually\" id=\"sk-estimator-id-13\" type=\"checkbox\" ><label for=\"sk-estimator-id-13\" class=\"sk-toggleable__label sk-toggleable__label-arrow\">RandomForestClassifier</label><div class=\"sk-toggleable__content\"><pre>RandomForestClassifier(bootstrap=&#x27;False&#x27;, max_depth=40, max_features=&#x27;log2&#x27;,\n",
       "                       n_estimators=200)</pre></div></div></div></div></div></div><div class=\"sk-parallel-item\"><div class=\"sk-item\"><div class=\"sk-label-container\"><div class=\"sk-label sk-toggleable\"><label>svcl</label></div></div><div class=\"sk-serial\"><div class=\"sk-item\"><div class=\"sk-estimator sk-toggleable\"><input class=\"sk-toggleable__control sk-hidden--visually\" id=\"sk-estimator-id-14\" type=\"checkbox\" ><label for=\"sk-estimator-id-14\" class=\"sk-toggleable__label sk-toggleable__label-arrow\">SVC</label><div class=\"sk-toggleable__content\"><pre>SVC(C=100, kernel=&#x27;linear&#x27;)</pre></div></div></div></div></div></div><div class=\"sk-parallel-item\"><div class=\"sk-item\"><div class=\"sk-label-container\"><div class=\"sk-label sk-toggleable\"><label>svcnl</label></div></div><div class=\"sk-serial\"><div class=\"sk-item\"><div class=\"sk-estimator sk-toggleable\"><input class=\"sk-toggleable__control sk-hidden--visually\" id=\"sk-estimator-id-15\" type=\"checkbox\" ><label for=\"sk-estimator-id-15\" class=\"sk-toggleable__label sk-toggleable__label-arrow\">SVC</label><div class=\"sk-toggleable__content\"><pre>SVC(C=100, gamma=0.01)</pre></div></div></div></div></div></div><div class=\"sk-parallel-item\"><div class=\"sk-item\"><div class=\"sk-label-container\"><div class=\"sk-label sk-toggleable\"><label>dl</label></div></div><div class=\"sk-serial\"><div class=\"sk-item\"><div class=\"sk-estimator sk-toggleable\"><input class=\"sk-toggleable__control sk-hidden--visually\" id=\"sk-estimator-id-16\" type=\"checkbox\" ><label for=\"sk-estimator-id-16\" class=\"sk-toggleable__label sk-toggleable__label-arrow\">MLPClassifier</label><div class=\"sk-toggleable__content\"><pre>MLPClassifier(hidden_layer_sizes=(100, 100))</pre></div></div></div></div></div></div></div></div><div class=\"sk-item\"><div class=\"sk-parallel\"><div class=\"sk-parallel-item\"><div class=\"sk-item\"><div class=\"sk-label-container\"><div class=\"sk-label sk-toggleable\"><label>final_estimator</label></div></div><div class=\"sk-serial\"><div class=\"sk-item\"><div class=\"sk-estimator sk-toggleable\"><input class=\"sk-toggleable__control sk-hidden--visually\" id=\"sk-estimator-id-17\" type=\"checkbox\" ><label for=\"sk-estimator-id-17\" class=\"sk-toggleable__label sk-toggleable__label-arrow\">RandomForestClassifier</label><div class=\"sk-toggleable__content\"><pre>RandomForestClassifier()</pre></div></div></div></div></div></div></div></div></div></div></div></div>"
      ],
      "text/plain": [
       "StackingClassifier(cv=5,\n",
       "                   estimators=[('sgd',\n",
       "                                SGDClassifier(alpha=0.001, loss='log',\n",
       "                                              penalty='none',\n",
       "                                              random_state=42)),\n",
       "                               ('knn',\n",
       "                                KNeighborsClassifier(n_neighbors=4, p=1,\n",
       "                                                     weights='distance')),\n",
       "                               ('dt',\n",
       "                                DecisionTreeClassifier(criterion='entropy',\n",
       "                                                       max_depth=12,\n",
       "                                                       max_leaf_nodes=40,\n",
       "                                                       min_samples_leaf=2)),\n",
       "                               ('rn',\n",
       "                                RandomForestClassifier(bootstrap='False',\n",
       "                                                       max_depth=40,\n",
       "                                                       max_features='log2',\n",
       "                                                       n_estimators=200)),\n",
       "                               ('svcl', SVC(C=100, kernel='linear')),\n",
       "                               ('svcnl', SVC(C=100, gamma=0.01)),\n",
       "                               ('dl',\n",
       "                                MLPClassifier(hidden_layer_sizes=(100, 100)))],\n",
       "                   final_estimator=RandomForestClassifier(), passthrough=True)"
      ]
     },
     "execution_count": 21,
     "metadata": {},
     "output_type": "execute_result"
    }
   ],
   "source": [
    "# training all the model on the train dataset\n",
    "final_model.fit(X_train_scaled_wo_light, y_train_wo_light)"
   ]
  },
  {
   "cell_type": "code",
   "execution_count": 22,
   "id": "ab84dcfb",
   "metadata": {},
   "outputs": [],
   "source": [
    "# predicting the output on the test dataset\n",
    "pred_final = final_model.predict(X_test_scaled_wo_light)"
   ]
  },
  {
   "cell_type": "code",
   "execution_count": 23,
   "id": "b63e933c",
   "metadata": {},
   "outputs": [
    {
     "name": "stdout",
     "output_type": "stream",
     "text": [
      "Accuracy on train set:  0.9998765889176848\n",
      "Accuracy on test set:  0.9945705824284304\n"
     ]
    }
   ],
   "source": [
    "print(\"Accuracy on train set: \", final_model.score(X_train_scaled_wo_light, y_train_wo_light))\n",
    "print(\"Accuracy on test set: \", final_model.score(X_test_scaled_wo_light, y_test_wo_light))"
   ]
  },
  {
   "cell_type": "code",
   "execution_count": 24,
   "id": "d6a44d2e",
   "metadata": {},
   "outputs": [
    {
     "data": {
      "image/png": "[encoded data removed]",
      "text/plain": [
       "<Figure size 600x400 with 2 Axes>"
      ]
     },
     "metadata": {},
     "output_type": "display_data"
    }
   ],
   "source": [
    "cm = confusion_matrix(y_test_wo_light, pred_final)\n",
    "plt.figure(figsize = (6,4))\n",
    "\n",
    "sns.heatmap(cm, \n",
    "            annot=True, \n",
    "            cmap=\"Spectral\",\n",
    "            fmt='g'\n",
    "           )\n",
    "plt.xlabel('Predicted', fontsize=10)\n",
    "plt.ylabel('Actual/Observed', fontsize=10);"
   ]
  },
  {
   "cell_type": "code",
   "execution_count": 25,
   "id": "a9497211",
   "metadata": {},
   "outputs": [
    {
     "name": "stdout",
     "output_type": "stream",
     "text": [
      "              precision    recall  f1-score   support\n",
      "\n",
      "           0       1.00      1.00      1.00      1619\n",
      "           1       1.00      0.98      0.99       103\n",
      "           2       0.98      0.99      0.98       164\n",
      "           3       0.96      0.98      0.97       140\n",
      "\n",
      "    accuracy                           0.99      2026\n",
      "   macro avg       0.98      0.99      0.99      2026\n",
      "weighted avg       0.99      0.99      0.99      2026\n",
      "\n"
     ]
    }
   ],
   "source": [
    "# Classification Report\n",
    "print(classification_report(y_test_wo_light, pred_final))"
   ]
  },
  {
   "cell_type": "code",
   "execution_count": 26,
   "id": "aee12d6a",
   "metadata": {},
   "outputs": [
    {
     "data": {
      "text/html": [
       "<div>\n",
       "<style scoped>\n",
       "    .dataframe tbody tr th:only-of-type {\n",
       "        vertical-align: middle;\n",
       "    }\n",
       "\n",
       "    .dataframe tbody tr th {\n",
       "        vertical-align: top;\n",
       "    }\n",
       "\n",
       "    .dataframe thead th {\n",
       "        text-align: right;\n",
       "    }\n",
       "</style>\n",
       "<table border=\"1\" class=\"dataframe\">\n",
       "  <thead>\n",
       "    <tr style=\"text-align: right;\">\n",
       "      <th></th>\n",
       "      <th>Model</th>\n",
       "      <th>Accuracy</th>\n",
       "      <th>Precision</th>\n",
       "      <th>Recall</th>\n",
       "      <th>F1 Score</th>\n",
       "    </tr>\n",
       "  </thead>\n",
       "  <tbody>\n",
       "    <tr>\n",
       "      <th>0</th>\n",
       "      <td>Ensemble: Majority Voting</td>\n",
       "      <td>98.57</td>\n",
       "      <td>98.57</td>\n",
       "      <td>98.57</td>\n",
       "      <td>98.57</td>\n",
       "    </tr>\n",
       "    <tr>\n",
       "      <th>1</th>\n",
       "      <td>Ensemble: Stacking</td>\n",
       "      <td>99.46</td>\n",
       "      <td>99.46</td>\n",
       "      <td>99.46</td>\n",
       "      <td>99.46</td>\n",
       "    </tr>\n",
       "  </tbody>\n",
       "</table>\n",
       "</div>"
      ],
      "text/plain": [
       "                       Model  Accuracy  Precision  Recall  F1 Score\n",
       "0  Ensemble: Majority Voting     98.57      98.57   98.57     98.57\n",
       "1         Ensemble: Stacking     99.46      99.46   99.46     99.46"
      ]
     },
     "execution_count": 26,
     "metadata": {},
     "output_type": "execute_result"
    }
   ],
   "source": [
    "# Calculating the evaluation metrics\n",
    "accuracy = accuracy_score(y_test_wo_light, pred_final)\n",
    "weighted_precision = precision_score(y_test_wo_light, pred_final, average='weighted')\n",
    "weighted_recall = recall_score(y_test_wo_light, pred_final, average='weighted')\n",
    "weighted_f1 = f1_score(y_test_wo_light, pred_final, average='weighted')\n",
    "\n",
    "# Creating an evaluation metrics dataframe for the model\n",
    "lr_results = pd.DataFrame([['Ensemble: Stacking', \n",
    "                         round(accuracy*100,2), \n",
    "                         round(weighted_precision*100,2), \n",
    "                         round(weighted_recall*100,2), \n",
    "                         round(weighted_f1*100,2)\n",
    "                        ]],\n",
    "                       columns = ['Model', 'Accuracy', 'Precision', 'Recall', 'F1 Score'])\n",
    "\n",
    "# Appending the evaluation metrics into a dataframe\n",
    "results = results.append(lr_results, ignore_index = True)\n",
    "\n",
    "results"
   ]
  }
 ],
 "metadata": {
  "kernelspec": {
   "display_name": "Python 3 (ipykernel)",
   "language": "python",
   "name": "python3"
  },
  "language_info": {
   "codemirror_mode": {
    "name": "ipython",
    "version": 3
   },
   "file_extension": ".py",
   "mimetype": "text/x-python",
   "name": "python",
   "nbconvert_exporter": "python",
   "pygments_lexer": "ipython3",
   "version": "3.9.13"
  }
 },
 "nbformat": 4,
 "nbformat_minor": 5
}
