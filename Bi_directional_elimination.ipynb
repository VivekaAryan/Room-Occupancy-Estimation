{
 "cells": [
  {
   "cell_type": "code",
   "execution_count": 1,
   "id": "276de16d",
   "metadata": {},
   "outputs": [],
   "source": [
    "#!pip install mlxtend"
   ]
  },
  {
   "cell_type": "code",
   "execution_count": 2,
   "id": "18054728",
   "metadata": {},
   "outputs": [],
   "source": [
    "import pandas as pd\n",
    "import numpy as np\n",
    "import matplotlib.pyplot as plt\n",
    "import seaborn as sns\n",
    "import pickle\n",
    "from sklearn.model_selection import train_test_split\n",
    "from sklearn.preprocessing import StandardScaler\n",
    "from mlxtend.feature_selection import SequentialFeatureSelector as SFS\n",
    "import statsmodels.api as sm\n",
    "from sklearn.linear_model import SGDClassifier\n",
    "from sklearn.ensemble import RandomForestClassifier\n",
    "from sklearn.neural_network import MLPClassifier\n",
    "from sklearn.metrics import confusion_matrix, classification_report \n",
    "from sklearn.metrics import accuracy_score, precision_score, recall_score, f1_score\n",
    "\n",
    "import warnings\n",
    "warnings.filterwarnings(\"ignore\")"
   ]
  },
  {
   "cell_type": "code",
   "execution_count": 3,
   "id": "99de5b33",
   "metadata": {},
   "outputs": [],
   "source": [
    "df = pd.read_csv(\"./Group_7_data_cleaned.csv\")"
   ]
  },
  {
   "cell_type": "code",
   "execution_count": 4,
   "id": "2730b50c",
   "metadata": {},
   "outputs": [],
   "source": [
    "df.drop(columns=['Date','Time'], inplace=True)"
   ]
  },
  {
   "cell_type": "code",
   "execution_count": 5,
   "id": "8f8b71c9",
   "metadata": {},
   "outputs": [
    {
     "data": {
      "text/html": [
       "<div>\n",
       "<style scoped>\n",
       "    .dataframe tbody tr th:only-of-type {\n",
       "        vertical-align: middle;\n",
       "    }\n",
       "\n",
       "    .dataframe tbody tr th {\n",
       "        vertical-align: top;\n",
       "    }\n",
       "\n",
       "    .dataframe thead th {\n",
       "        text-align: right;\n",
       "    }\n",
       "</style>\n",
       "<table border=\"1\" class=\"dataframe\">\n",
       "  <thead>\n",
       "    <tr style=\"text-align: right;\">\n",
       "      <th></th>\n",
       "      <th>S1_Temp</th>\n",
       "      <th>S2_Temp</th>\n",
       "      <th>S3_Temp</th>\n",
       "      <th>S4_Temp</th>\n",
       "      <th>S1_Light</th>\n",
       "      <th>S2_Light</th>\n",
       "      <th>S3_Light</th>\n",
       "      <th>S4_Light</th>\n",
       "      <th>S1_Sound</th>\n",
       "      <th>S2_Sound</th>\n",
       "      <th>S3_Sound</th>\n",
       "      <th>S4_Sound</th>\n",
       "      <th>S5_CO2</th>\n",
       "      <th>S5_CO2_Slope</th>\n",
       "      <th>S6_PIR</th>\n",
       "      <th>S7_PIR</th>\n",
       "      <th>Room_Occupancy_Count</th>\n",
       "    </tr>\n",
       "  </thead>\n",
       "  <tbody>\n",
       "    <tr>\n",
       "      <th>0</th>\n",
       "      <td>24.94</td>\n",
       "      <td>24.75</td>\n",
       "      <td>24.56</td>\n",
       "      <td>25.38</td>\n",
       "      <td>121</td>\n",
       "      <td>34</td>\n",
       "      <td>53</td>\n",
       "      <td>40</td>\n",
       "      <td>0.08</td>\n",
       "      <td>0.19</td>\n",
       "      <td>0.06</td>\n",
       "      <td>0.06</td>\n",
       "      <td>390</td>\n",
       "      <td>0.77</td>\n",
       "      <td>0</td>\n",
       "      <td>0</td>\n",
       "      <td>1</td>\n",
       "    </tr>\n",
       "    <tr>\n",
       "      <th>1</th>\n",
       "      <td>24.94</td>\n",
       "      <td>24.75</td>\n",
       "      <td>24.56</td>\n",
       "      <td>25.44</td>\n",
       "      <td>121</td>\n",
       "      <td>33</td>\n",
       "      <td>53</td>\n",
       "      <td>40</td>\n",
       "      <td>0.93</td>\n",
       "      <td>0.05</td>\n",
       "      <td>0.06</td>\n",
       "      <td>0.06</td>\n",
       "      <td>390</td>\n",
       "      <td>0.65</td>\n",
       "      <td>0</td>\n",
       "      <td>0</td>\n",
       "      <td>1</td>\n",
       "    </tr>\n",
       "    <tr>\n",
       "      <th>2</th>\n",
       "      <td>25.00</td>\n",
       "      <td>24.75</td>\n",
       "      <td>24.50</td>\n",
       "      <td>25.44</td>\n",
       "      <td>121</td>\n",
       "      <td>34</td>\n",
       "      <td>53</td>\n",
       "      <td>40</td>\n",
       "      <td>0.43</td>\n",
       "      <td>0.11</td>\n",
       "      <td>0.08</td>\n",
       "      <td>0.06</td>\n",
       "      <td>390</td>\n",
       "      <td>0.52</td>\n",
       "      <td>0</td>\n",
       "      <td>0</td>\n",
       "      <td>1</td>\n",
       "    </tr>\n",
       "    <tr>\n",
       "      <th>3</th>\n",
       "      <td>25.00</td>\n",
       "      <td>24.75</td>\n",
       "      <td>24.56</td>\n",
       "      <td>25.44</td>\n",
       "      <td>121</td>\n",
       "      <td>34</td>\n",
       "      <td>53</td>\n",
       "      <td>40</td>\n",
       "      <td>0.41</td>\n",
       "      <td>0.10</td>\n",
       "      <td>0.10</td>\n",
       "      <td>0.09</td>\n",
       "      <td>390</td>\n",
       "      <td>0.39</td>\n",
       "      <td>0</td>\n",
       "      <td>0</td>\n",
       "      <td>1</td>\n",
       "    </tr>\n",
       "    <tr>\n",
       "      <th>4</th>\n",
       "      <td>25.00</td>\n",
       "      <td>24.75</td>\n",
       "      <td>24.56</td>\n",
       "      <td>25.44</td>\n",
       "      <td>121</td>\n",
       "      <td>34</td>\n",
       "      <td>54</td>\n",
       "      <td>40</td>\n",
       "      <td>0.18</td>\n",
       "      <td>0.06</td>\n",
       "      <td>0.06</td>\n",
       "      <td>0.06</td>\n",
       "      <td>390</td>\n",
       "      <td>0.25</td>\n",
       "      <td>0</td>\n",
       "      <td>0</td>\n",
       "      <td>1</td>\n",
       "    </tr>\n",
       "  </tbody>\n",
       "</table>\n",
       "</div>"
      ],
      "text/plain": [
       "   S1_Temp  S2_Temp  S3_Temp  S4_Temp  S1_Light  S2_Light  S3_Light  S4_Light  \\\n",
       "0    24.94    24.75    24.56    25.38       121        34        53        40   \n",
       "1    24.94    24.75    24.56    25.44       121        33        53        40   \n",
       "2    25.00    24.75    24.50    25.44       121        34        53        40   \n",
       "3    25.00    24.75    24.56    25.44       121        34        53        40   \n",
       "4    25.00    24.75    24.56    25.44       121        34        54        40   \n",
       "\n",
       "   S1_Sound  S2_Sound  S3_Sound  S4_Sound  S5_CO2  S5_CO2_Slope  S6_PIR  \\\n",
       "0      0.08      0.19      0.06      0.06     390          0.77       0   \n",
       "1      0.93      0.05      0.06      0.06     390          0.65       0   \n",
       "2      0.43      0.11      0.08      0.06     390          0.52       0   \n",
       "3      0.41      0.10      0.10      0.09     390          0.39       0   \n",
       "4      0.18      0.06      0.06      0.06     390          0.25       0   \n",
       "\n",
       "   S7_PIR  Room_Occupancy_Count  \n",
       "0       0                     1  \n",
       "1       0                     1  \n",
       "2       0                     1  \n",
       "3       0                     1  \n",
       "4       0                     1  "
      ]
     },
     "execution_count": 5,
     "metadata": {},
     "output_type": "execute_result"
    }
   ],
   "source": [
    "df.head()"
   ]
  },
  {
   "cell_type": "code",
   "execution_count": 6,
   "id": "5d434e50",
   "metadata": {},
   "outputs": [
    {
     "name": "stdout",
     "output_type": "stream",
     "text": [
      "<class 'pandas.core.frame.DataFrame'>\n",
      "RangeIndex: 10129 entries, 0 to 10128\n",
      "Data columns (total 17 columns):\n",
      " #   Column                Non-Null Count  Dtype  \n",
      "---  ------                --------------  -----  \n",
      " 0   S1_Temp               10129 non-null  float64\n",
      " 1   S2_Temp               10129 non-null  float64\n",
      " 2   S3_Temp               10129 non-null  float64\n",
      " 3   S4_Temp               10129 non-null  float64\n",
      " 4   S1_Light              10129 non-null  int64  \n",
      " 5   S2_Light              10129 non-null  int64  \n",
      " 6   S3_Light              10129 non-null  int64  \n",
      " 7   S4_Light              10129 non-null  int64  \n",
      " 8   S1_Sound              10129 non-null  float64\n",
      " 9   S2_Sound              10129 non-null  float64\n",
      " 10  S3_Sound              10129 non-null  float64\n",
      " 11  S4_Sound              10129 non-null  float64\n",
      " 12  S5_CO2                10129 non-null  int64  \n",
      " 13  S5_CO2_Slope          10129 non-null  float64\n",
      " 14  S6_PIR                10129 non-null  int64  \n",
      " 15  S7_PIR                10129 non-null  int64  \n",
      " 16  Room_Occupancy_Count  10129 non-null  int64  \n",
      "dtypes: float64(9), int64(8)\n",
      "memory usage: 1.3 MB\n"
     ]
    }
   ],
   "source": [
    "df.info()"
   ]
  },
  {
   "cell_type": "code",
   "execution_count": 7,
   "id": "e8b235fa",
   "metadata": {},
   "outputs": [],
   "source": [
    "df_wo_light = df.drop(df.filter(regex='Light').columns, axis=1)"
   ]
  },
  {
   "cell_type": "code",
   "execution_count": 8,
   "id": "f0ceab0d",
   "metadata": {},
   "outputs": [
    {
     "data": {
      "text/html": [
       "<div>\n",
       "<style scoped>\n",
       "    .dataframe tbody tr th:only-of-type {\n",
       "        vertical-align: middle;\n",
       "    }\n",
       "\n",
       "    .dataframe tbody tr th {\n",
       "        vertical-align: top;\n",
       "    }\n",
       "\n",
       "    .dataframe thead th {\n",
       "        text-align: right;\n",
       "    }\n",
       "</style>\n",
       "<table border=\"1\" class=\"dataframe\">\n",
       "  <thead>\n",
       "    <tr style=\"text-align: right;\">\n",
       "      <th></th>\n",
       "      <th>S1_Temp</th>\n",
       "      <th>S2_Temp</th>\n",
       "      <th>S3_Temp</th>\n",
       "      <th>S4_Temp</th>\n",
       "      <th>S1_Sound</th>\n",
       "      <th>S2_Sound</th>\n",
       "      <th>S3_Sound</th>\n",
       "      <th>S4_Sound</th>\n",
       "      <th>S5_CO2</th>\n",
       "      <th>S5_CO2_Slope</th>\n",
       "      <th>S6_PIR</th>\n",
       "      <th>S7_PIR</th>\n",
       "      <th>Room_Occupancy_Count</th>\n",
       "    </tr>\n",
       "  </thead>\n",
       "  <tbody>\n",
       "    <tr>\n",
       "      <th>0</th>\n",
       "      <td>24.94</td>\n",
       "      <td>24.75</td>\n",
       "      <td>24.56</td>\n",
       "      <td>25.38</td>\n",
       "      <td>0.08</td>\n",
       "      <td>0.19</td>\n",
       "      <td>0.06</td>\n",
       "      <td>0.06</td>\n",
       "      <td>390</td>\n",
       "      <td>0.77</td>\n",
       "      <td>0</td>\n",
       "      <td>0</td>\n",
       "      <td>1</td>\n",
       "    </tr>\n",
       "    <tr>\n",
       "      <th>1</th>\n",
       "      <td>24.94</td>\n",
       "      <td>24.75</td>\n",
       "      <td>24.56</td>\n",
       "      <td>25.44</td>\n",
       "      <td>0.93</td>\n",
       "      <td>0.05</td>\n",
       "      <td>0.06</td>\n",
       "      <td>0.06</td>\n",
       "      <td>390</td>\n",
       "      <td>0.65</td>\n",
       "      <td>0</td>\n",
       "      <td>0</td>\n",
       "      <td>1</td>\n",
       "    </tr>\n",
       "    <tr>\n",
       "      <th>2</th>\n",
       "      <td>25.00</td>\n",
       "      <td>24.75</td>\n",
       "      <td>24.50</td>\n",
       "      <td>25.44</td>\n",
       "      <td>0.43</td>\n",
       "      <td>0.11</td>\n",
       "      <td>0.08</td>\n",
       "      <td>0.06</td>\n",
       "      <td>390</td>\n",
       "      <td>0.52</td>\n",
       "      <td>0</td>\n",
       "      <td>0</td>\n",
       "      <td>1</td>\n",
       "    </tr>\n",
       "    <tr>\n",
       "      <th>3</th>\n",
       "      <td>25.00</td>\n",
       "      <td>24.75</td>\n",
       "      <td>24.56</td>\n",
       "      <td>25.44</td>\n",
       "      <td>0.41</td>\n",
       "      <td>0.10</td>\n",
       "      <td>0.10</td>\n",
       "      <td>0.09</td>\n",
       "      <td>390</td>\n",
       "      <td>0.39</td>\n",
       "      <td>0</td>\n",
       "      <td>0</td>\n",
       "      <td>1</td>\n",
       "    </tr>\n",
       "    <tr>\n",
       "      <th>4</th>\n",
       "      <td>25.00</td>\n",
       "      <td>24.75</td>\n",
       "      <td>24.56</td>\n",
       "      <td>25.44</td>\n",
       "      <td>0.18</td>\n",
       "      <td>0.06</td>\n",
       "      <td>0.06</td>\n",
       "      <td>0.06</td>\n",
       "      <td>390</td>\n",
       "      <td>0.25</td>\n",
       "      <td>0</td>\n",
       "      <td>0</td>\n",
       "      <td>1</td>\n",
       "    </tr>\n",
       "  </tbody>\n",
       "</table>\n",
       "</div>"
      ],
      "text/plain": [
       "   S1_Temp  S2_Temp  S3_Temp  S4_Temp  S1_Sound  S2_Sound  S3_Sound  S4_Sound  \\\n",
       "0    24.94    24.75    24.56    25.38      0.08      0.19      0.06      0.06   \n",
       "1    24.94    24.75    24.56    25.44      0.93      0.05      0.06      0.06   \n",
       "2    25.00    24.75    24.50    25.44      0.43      0.11      0.08      0.06   \n",
       "3    25.00    24.75    24.56    25.44      0.41      0.10      0.10      0.09   \n",
       "4    25.00    24.75    24.56    25.44      0.18      0.06      0.06      0.06   \n",
       "\n",
       "   S5_CO2  S5_CO2_Slope  S6_PIR  S7_PIR  Room_Occupancy_Count  \n",
       "0     390          0.77       0       0                     1  \n",
       "1     390          0.65       0       0                     1  \n",
       "2     390          0.52       0       0                     1  \n",
       "3     390          0.39       0       0                     1  \n",
       "4     390          0.25       0       0                     1  "
      ]
     },
     "execution_count": 8,
     "metadata": {},
     "output_type": "execute_result"
    }
   ],
   "source": [
    "df_wo_light.head()"
   ]
  },
  {
   "cell_type": "code",
   "execution_count": 9,
   "id": "4bf1ae70",
   "metadata": {},
   "outputs": [],
   "source": [
    "X_wo_light = df_wo_light.drop(['Room_Occupancy_Count'], axis=1)\n",
    "y_wo_light = df_wo_light[['Room_Occupancy_Count']]"
   ]
  },
  {
   "cell_type": "code",
   "execution_count": 10,
   "id": "0fc9f602",
   "metadata": {},
   "outputs": [],
   "source": [
    "# Splitting the dataset into train and test\n",
    "X_train_wo_light, X_test_wo_light, y_train_wo_light, y_test_wo_light = train_test_split(X_wo_light, y_wo_light, test_size=0.2, random_state=42)"
   ]
  },
  {
   "cell_type": "markdown",
   "id": "ccba34dd",
   "metadata": {},
   "source": [
    "## Variable selection using a Bi-directional elimination as a wrapper method."
   ]
  },
  {
   "cell_type": "markdown",
   "id": "da0a0abc",
   "metadata": {},
   "source": [
    "Wrapper method: This is a method of variable selection that trains and evaluates a machine learning algorithm for different subsets of features and determines the most suitable subset of features that yields the highest performance. \n",
    "\n",
    "Here we use bi-directional elimination as a wrapper method on the \"Random Forest Classifier\". This wrapper method combines both forward selection and backward elimination methods. While adding a new feature, it checks the significance of already added features. If it finds any of the already selected features to be insignificant, it simply removes that particular feature through backward elimination."
   ]
  },
  {
   "cell_type": "code",
   "execution_count": 11,
   "id": "4624d77c",
   "metadata": {},
   "outputs": [
    {
     "data": {
      "text/plain": [
       "['S1_Temp',\n",
       " 'S2_Temp',\n",
       " 'S3_Temp',\n",
       " 'S4_Temp',\n",
       " 'S4_Sound',\n",
       " 'S5_CO2',\n",
       " 'S5_CO2_Slope',\n",
       " 'S6_PIR',\n",
       " 'S7_PIR']"
      ]
     },
     "execution_count": 11,
     "metadata": {},
     "output_type": "execute_result"
    }
   ],
   "source": [
    "# Sequential Forward Floating Selection(sffs)\n",
    "sffs = SFS(RandomForestClassifier(),\n",
    "           k_features = 9,\n",
    "           forward = True,\n",
    "           floating = True,\n",
    "           scoring = 'accuracy',\n",
    "           cv=5)\n",
    "sffs.fit(X_train_wo_light,y_train_wo_light)\n",
    "corr_features = list(sffs.k_feature_names_)\n",
    "corr_features"
   ]
  },
  {
   "cell_type": "code",
   "execution_count": 12,
   "id": "8076af01",
   "metadata": {},
   "outputs": [
    {
     "data": {
      "text/html": [
       "<div>\n",
       "<style scoped>\n",
       "    .dataframe tbody tr th:only-of-type {\n",
       "        vertical-align: middle;\n",
       "    }\n",
       "\n",
       "    .dataframe tbody tr th {\n",
       "        vertical-align: top;\n",
       "    }\n",
       "\n",
       "    .dataframe thead th {\n",
       "        text-align: right;\n",
       "    }\n",
       "</style>\n",
       "<table border=\"1\" class=\"dataframe\">\n",
       "  <thead>\n",
       "    <tr style=\"text-align: right;\">\n",
       "      <th></th>\n",
       "      <th>S1_Temp</th>\n",
       "      <th>S2_Temp</th>\n",
       "      <th>S3_Temp</th>\n",
       "      <th>S4_Temp</th>\n",
       "      <th>S4_Sound</th>\n",
       "      <th>S5_CO2</th>\n",
       "      <th>S5_CO2_Slope</th>\n",
       "      <th>S6_PIR</th>\n",
       "      <th>S7_PIR</th>\n",
       "    </tr>\n",
       "  </thead>\n",
       "  <tbody>\n",
       "    <tr>\n",
       "      <th>1937</th>\n",
       "      <td>25.19</td>\n",
       "      <td>25.19</td>\n",
       "      <td>24.63</td>\n",
       "      <td>25.56</td>\n",
       "      <td>0.05</td>\n",
       "      <td>360</td>\n",
       "      <td>0.00</td>\n",
       "      <td>0</td>\n",
       "      <td>0</td>\n",
       "    </tr>\n",
       "    <tr>\n",
       "      <th>4477</th>\n",
       "      <td>25.38</td>\n",
       "      <td>25.38</td>\n",
       "      <td>24.81</td>\n",
       "      <td>25.75</td>\n",
       "      <td>0.06</td>\n",
       "      <td>365</td>\n",
       "      <td>0.00</td>\n",
       "      <td>0</td>\n",
       "      <td>0</td>\n",
       "    </tr>\n",
       "    <tr>\n",
       "      <th>8550</th>\n",
       "      <td>25.56</td>\n",
       "      <td>25.63</td>\n",
       "      <td>25.31</td>\n",
       "      <td>25.69</td>\n",
       "      <td>0.08</td>\n",
       "      <td>530</td>\n",
       "      <td>-2.59</td>\n",
       "      <td>0</td>\n",
       "      <td>0</td>\n",
       "    </tr>\n",
       "    <tr>\n",
       "      <th>1346</th>\n",
       "      <td>25.50</td>\n",
       "      <td>25.50</td>\n",
       "      <td>25.06</td>\n",
       "      <td>25.88</td>\n",
       "      <td>0.06</td>\n",
       "      <td>390</td>\n",
       "      <td>-0.64</td>\n",
       "      <td>0</td>\n",
       "      <td>0</td>\n",
       "    </tr>\n",
       "    <tr>\n",
       "      <th>7296</th>\n",
       "      <td>25.38</td>\n",
       "      <td>25.38</td>\n",
       "      <td>24.88</td>\n",
       "      <td>25.75</td>\n",
       "      <td>0.10</td>\n",
       "      <td>355</td>\n",
       "      <td>0.00</td>\n",
       "      <td>0</td>\n",
       "      <td>0</td>\n",
       "    </tr>\n",
       "  </tbody>\n",
       "</table>\n",
       "</div>"
      ],
      "text/plain": [
       "      S1_Temp  S2_Temp  S3_Temp  S4_Temp  S4_Sound  S5_CO2  S5_CO2_Slope  \\\n",
       "1937    25.19    25.19    24.63    25.56      0.05     360          0.00   \n",
       "4477    25.38    25.38    24.81    25.75      0.06     365          0.00   \n",
       "8550    25.56    25.63    25.31    25.69      0.08     530         -2.59   \n",
       "1346    25.50    25.50    25.06    25.88      0.06     390         -0.64   \n",
       "7296    25.38    25.38    24.88    25.75      0.10     355          0.00   \n",
       "\n",
       "      S6_PIR  S7_PIR  \n",
       "1937       0       0  \n",
       "4477       0       0  \n",
       "8550       0       0  \n",
       "1346       0       0  \n",
       "7296       0       0  "
      ]
     },
     "execution_count": 12,
     "metadata": {},
     "output_type": "execute_result"
    }
   ],
   "source": [
    "X_train_wo_light_corr = X_train_wo_light[corr_features]\n",
    "X_train_wo_light_corr.head()"
   ]
  },
  {
   "cell_type": "code",
   "execution_count": 13,
   "id": "7e79ce19",
   "metadata": {},
   "outputs": [
    {
     "data": {
      "text/html": [
       "<div>\n",
       "<style scoped>\n",
       "    .dataframe tbody tr th:only-of-type {\n",
       "        vertical-align: middle;\n",
       "    }\n",
       "\n",
       "    .dataframe tbody tr th {\n",
       "        vertical-align: top;\n",
       "    }\n",
       "\n",
       "    .dataframe thead th {\n",
       "        text-align: right;\n",
       "    }\n",
       "</style>\n",
       "<table border=\"1\" class=\"dataframe\">\n",
       "  <thead>\n",
       "    <tr style=\"text-align: right;\">\n",
       "      <th></th>\n",
       "      <th>S1_Temp</th>\n",
       "      <th>S2_Temp</th>\n",
       "      <th>S3_Temp</th>\n",
       "      <th>S4_Temp</th>\n",
       "      <th>S4_Sound</th>\n",
       "      <th>S5_CO2</th>\n",
       "      <th>S5_CO2_Slope</th>\n",
       "      <th>S6_PIR</th>\n",
       "      <th>S7_PIR</th>\n",
       "    </tr>\n",
       "  </thead>\n",
       "  <tbody>\n",
       "    <tr>\n",
       "      <th>8855</th>\n",
       "      <td>25.31</td>\n",
       "      <td>25.31</td>\n",
       "      <td>25.00</td>\n",
       "      <td>25.44</td>\n",
       "      <td>0.08</td>\n",
       "      <td>360</td>\n",
       "      <td>0.00</td>\n",
       "      <td>0</td>\n",
       "      <td>0</td>\n",
       "    </tr>\n",
       "    <tr>\n",
       "      <th>532</th>\n",
       "      <td>26.06</td>\n",
       "      <td>25.81</td>\n",
       "      <td>25.69</td>\n",
       "      <td>26.31</td>\n",
       "      <td>0.07</td>\n",
       "      <td>590</td>\n",
       "      <td>0.75</td>\n",
       "      <td>0</td>\n",
       "      <td>0</td>\n",
       "    </tr>\n",
       "    <tr>\n",
       "      <th>1155</th>\n",
       "      <td>25.69</td>\n",
       "      <td>25.75</td>\n",
       "      <td>25.31</td>\n",
       "      <td>25.94</td>\n",
       "      <td>0.06</td>\n",
       "      <td>645</td>\n",
       "      <td>-2.21</td>\n",
       "      <td>0</td>\n",
       "      <td>0</td>\n",
       "    </tr>\n",
       "    <tr>\n",
       "      <th>7769</th>\n",
       "      <td>25.19</td>\n",
       "      <td>25.19</td>\n",
       "      <td>24.63</td>\n",
       "      <td>25.44</td>\n",
       "      <td>0.09</td>\n",
       "      <td>350</td>\n",
       "      <td>-0.09</td>\n",
       "      <td>0</td>\n",
       "      <td>0</td>\n",
       "    </tr>\n",
       "    <tr>\n",
       "      <th>4922</th>\n",
       "      <td>25.19</td>\n",
       "      <td>25.19</td>\n",
       "      <td>24.63</td>\n",
       "      <td>25.50</td>\n",
       "      <td>0.06</td>\n",
       "      <td>360</td>\n",
       "      <td>-0.02</td>\n",
       "      <td>0</td>\n",
       "      <td>0</td>\n",
       "    </tr>\n",
       "  </tbody>\n",
       "</table>\n",
       "</div>"
      ],
      "text/plain": [
       "      S1_Temp  S2_Temp  S3_Temp  S4_Temp  S4_Sound  S5_CO2  S5_CO2_Slope  \\\n",
       "8855    25.31    25.31    25.00    25.44      0.08     360          0.00   \n",
       "532     26.06    25.81    25.69    26.31      0.07     590          0.75   \n",
       "1155    25.69    25.75    25.31    25.94      0.06     645         -2.21   \n",
       "7769    25.19    25.19    24.63    25.44      0.09     350         -0.09   \n",
       "4922    25.19    25.19    24.63    25.50      0.06     360         -0.02   \n",
       "\n",
       "      S6_PIR  S7_PIR  \n",
       "8855       0       0  \n",
       "532        0       0  \n",
       "1155       0       0  \n",
       "7769       0       0  \n",
       "4922       0       0  "
      ]
     },
     "execution_count": 13,
     "metadata": {},
     "output_type": "execute_result"
    }
   ],
   "source": [
    "X_test_wo_light_corr = X_test_wo_light[corr_features]\n",
    "X_test_wo_light_corr.head()"
   ]
  },
  {
   "cell_type": "markdown",
   "id": "aede4642",
   "metadata": {},
   "source": [
    "## 1. Using the selected variabels on the best model from part 2 - Random Forest"
   ]
  },
  {
   "cell_type": "code",
   "execution_count": 14,
   "id": "161c4595",
   "metadata": {},
   "outputs": [
    {
     "name": "stdout",
     "output_type": "stream",
     "text": [
      "Accuracy on train set:  1.0\n",
      "Accuracy on test set:  0.9970384995064165\n"
     ]
    }
   ],
   "source": [
    "model_class_wo_light_rf = RandomForestClassifier(bootstrap= 'False', max_depth= 40, max_features= 'log2', n_estimators= 200)\n",
    "model_class_wo_light_rf.fit(X_train_wo_light_corr, y_train_wo_light)\n",
    "\n",
    "print(\"Accuracy on train set: \", model_class_wo_light_rf.score(X_train_wo_light_corr, y_train_wo_light))\n",
    "print(\"Accuracy on test set: \", model_class_wo_light_rf.score(X_test_wo_light_corr, y_test_wo_light))"
   ]
  },
  {
   "cell_type": "code",
   "execution_count": 15,
   "id": "120f73ee",
   "metadata": {},
   "outputs": [
    {
     "data": {
      "image/png": "[encoded data removed]",
      "text/plain": [
       "<Figure size 600x400 with 2 Axes>"
      ]
     },
     "metadata": {},
     "output_type": "display_data"
    }
   ],
   "source": [
    "y_predicted_rf_corr = model_class_wo_light_rf.predict(X_test_wo_light_corr)\n",
    "cm = confusion_matrix(y_test_wo_light, y_predicted_rf_corr)\n",
    "plt.figure(figsize = (6,4))\n",
    "\n",
    "sns.heatmap(cm, \n",
    "            annot=True, \n",
    "            cmap=\"Spectral\",\n",
    "            fmt='g'\n",
    "           )\n",
    "plt.xlabel('Predicted', fontsize=10)\n",
    "plt.ylabel('Actual/Observed', fontsize=10);"
   ]
  },
  {
   "cell_type": "code",
   "execution_count": 16,
   "id": "e81bf5f4",
   "metadata": {},
   "outputs": [
    {
     "name": "stdout",
     "output_type": "stream",
     "text": [
      "              precision    recall  f1-score   support\n",
      "\n",
      "           0       1.00      1.00      1.00      1619\n",
      "           1       1.00      1.00      1.00       103\n",
      "           2       0.99      0.99      0.99       164\n",
      "           3       0.97      0.99      0.98       140\n",
      "\n",
      "    accuracy                           1.00      2026\n",
      "   macro avg       0.99      1.00      0.99      2026\n",
      "weighted avg       1.00      1.00      1.00      2026\n",
      "\n"
     ]
    }
   ],
   "source": [
    "print(classification_report(y_test_wo_light, y_predicted_rf_corr))"
   ]
  },
  {
   "cell_type": "code",
   "execution_count": 17,
   "id": "8589446b",
   "metadata": {},
   "outputs": [
    {
     "data": {
      "text/html": [
       "<div>\n",
       "<style scoped>\n",
       "    .dataframe tbody tr th:only-of-type {\n",
       "        vertical-align: middle;\n",
       "    }\n",
       "\n",
       "    .dataframe tbody tr th {\n",
       "        vertical-align: top;\n",
       "    }\n",
       "\n",
       "    .dataframe thead th {\n",
       "        text-align: right;\n",
       "    }\n",
       "</style>\n",
       "<table border=\"1\" class=\"dataframe\">\n",
       "  <thead>\n",
       "    <tr style=\"text-align: right;\">\n",
       "      <th></th>\n",
       "      <th>Model</th>\n",
       "      <th>Accuracy</th>\n",
       "      <th>Precision</th>\n",
       "      <th>Recall</th>\n",
       "      <th>F1 Score</th>\n",
       "    </tr>\n",
       "  </thead>\n",
       "  <tbody>\n",
       "    <tr>\n",
       "      <th>0</th>\n",
       "      <td>Random Forest with Variable Selection</td>\n",
       "      <td>99.7</td>\n",
       "      <td>99.71</td>\n",
       "      <td>99.7</td>\n",
       "      <td>99.71</td>\n",
       "    </tr>\n",
       "  </tbody>\n",
       "</table>\n",
       "</div>"
      ],
      "text/plain": [
       "                                   Model  Accuracy  Precision  Recall  \\\n",
       "0  Random Forest with Variable Selection      99.7      99.71    99.7   \n",
       "\n",
       "   F1 Score  \n",
       "0     99.71  "
      ]
     },
     "execution_count": 17,
     "metadata": {},
     "output_type": "execute_result"
    }
   ],
   "source": [
    "# Calculating the evaluation metrics\n",
    "accuracy = accuracy_score(y_test_wo_light, y_predicted_rf_corr)\n",
    "weighted_precision = precision_score(y_test_wo_light, y_predicted_rf_corr, average='weighted')\n",
    "weighted_recall = recall_score(y_test_wo_light, y_predicted_rf_corr, average='weighted')\n",
    "weighted_f1 = f1_score(y_test_wo_light, y_predicted_rf_corr, average='weighted')\n",
    "\n",
    "# Creating an evaluation metrics dataframe for the model\n",
    "results = pd.DataFrame([['Random Forest using Bi-directional Elimination', \n",
    "                         round(accuracy*100,2), \n",
    "                         round(weighted_precision*100,2), \n",
    "                         round(weighted_recall*100,2), \n",
    "                         round(weighted_f1*100,2)\n",
    "                        ]],\n",
    "                       columns = ['Model', 'Accuracy', 'Precision', 'Recall', 'F1 Score'])\n",
    "results"
   ]
  },
  {
   "cell_type": "code",
   "execution_count": 18,
   "id": "defb9a47",
   "metadata": {},
   "outputs": [],
   "source": [
    "# Saving the model with pickle\n",
    "\n",
    "filename = 'rf_classification_model_with_BD.sav'\n",
    "pickle.dump(model_class_wo_light_rf, open(filename, 'wb'))"
   ]
  },
  {
   "cell_type": "markdown",
   "id": "b59486c0",
   "metadata": {},
   "source": [
    "## 2. Using the selected variabels on the best model from part 3 - Deep Learning"
   ]
  },
  {
   "cell_type": "code",
   "execution_count": 19,
   "id": "6034d64a",
   "metadata": {},
   "outputs": [],
   "source": [
    "# Scaling the dataset\n",
    "scaler = StandardScaler()\n",
    "X_train_scaled_wo_light_corr = scaler.fit_transform(X_train_wo_light_corr)\n",
    "X_test_scaled_wo_light_corr = scaler.transform(X_test_wo_light_corr)"
   ]
  },
  {
   "cell_type": "code",
   "execution_count": 20,
   "id": "e3219b0b",
   "metadata": {},
   "outputs": [
    {
     "name": "stdout",
     "output_type": "stream",
     "text": [
      "Accuracy on train set:  0.9974083672713809\n",
      "Accuracy on test set:  0.9925962487660415\n"
     ]
    }
   ],
   "source": [
    "model_class_wo_light_mlp = MLPClassifier(hidden_layer_sizes= (100, 100), learning_rate='constant', solver='adam')\n",
    "model_class_wo_light_mlp.fit(X_train_scaled_wo_light_corr, y_train_wo_light)\n",
    "\n",
    "print(\"Accuracy on train set: \", model_class_wo_light_mlp.score(X_train_scaled_wo_light_corr, y_train_wo_light))\n",
    "print(\"Accuracy on test set: \", model_class_wo_light_mlp.score(X_test_scaled_wo_light_corr, y_test_wo_light))"
   ]
  },
  {
   "cell_type": "code",
   "execution_count": 21,
   "id": "6fdb4402",
   "metadata": {},
   "outputs": [
    {
     "data": {
      "image/png": "[encoded data removed]",
      "text/plain": [
       "<Figure size 600x400 with 2 Axes>"
      ]
     },
     "metadata": {},
     "output_type": "display_data"
    }
   ],
   "source": [
    "y_predicted_mlp_corr = model_class_wo_light_mlp.predict(X_test_scaled_wo_light_corr)\n",
    "cm = confusion_matrix(y_test_wo_light, y_predicted_mlp_corr)\n",
    "plt.figure(figsize = (6,4))\n",
    "\n",
    "sns.heatmap(cm, \n",
    "            annot=True, \n",
    "            cmap=\"Spectral\",\n",
    "            fmt='g'\n",
    "           )\n",
    "plt.xlabel('Predicted', fontsize=10)\n",
    "plt.ylabel('Actual/Observed', fontsize=10);"
   ]
  },
  {
   "cell_type": "code",
   "execution_count": 22,
   "id": "ba59d40b",
   "metadata": {},
   "outputs": [
    {
     "name": "stdout",
     "output_type": "stream",
     "text": [
      "              precision    recall  f1-score   support\n",
      "\n",
      "           0       1.00      1.00      1.00      1619\n",
      "           1       0.95      0.98      0.97       103\n",
      "           2       0.97      0.95      0.96       164\n",
      "           3       0.98      0.99      0.98       140\n",
      "\n",
      "    accuracy                           0.99      2026\n",
      "   macro avg       0.97      0.98      0.98      2026\n",
      "weighted avg       0.99      0.99      0.99      2026\n",
      "\n"
     ]
    }
   ],
   "source": [
    "print(classification_report(y_test_wo_light, y_predicted_mlp_corr))"
   ]
  },
  {
   "cell_type": "code",
   "execution_count": 23,
   "id": "9a33076f",
   "metadata": {},
   "outputs": [],
   "source": [
    "# Saving the model with pickle\n",
    "filename = 'mlp_classification_model_with_BD.sav'\n",
    "pickle.dump(model_class_wo_light_mlp, open(filename, 'wb'))"
   ]
  },
  {
   "cell_type": "code",
   "execution_count": 24,
   "id": "ac6bf9a1",
   "metadata": {},
   "outputs": [
    {
     "data": {
      "text/html": [
       "<div>\n",
       "<style scoped>\n",
       "    .dataframe tbody tr th:only-of-type {\n",
       "        vertical-align: middle;\n",
       "    }\n",
       "\n",
       "    .dataframe tbody tr th {\n",
       "        vertical-align: top;\n",
       "    }\n",
       "\n",
       "    .dataframe thead th {\n",
       "        text-align: right;\n",
       "    }\n",
       "</style>\n",
       "<table border=\"1\" class=\"dataframe\">\n",
       "  <thead>\n",
       "    <tr style=\"text-align: right;\">\n",
       "      <th></th>\n",
       "      <th>Model</th>\n",
       "      <th>Accuracy</th>\n",
       "      <th>Precision</th>\n",
       "      <th>Recall</th>\n",
       "      <th>F1 Score</th>\n",
       "    </tr>\n",
       "  </thead>\n",
       "  <tbody>\n",
       "    <tr>\n",
       "      <th>0</th>\n",
       "      <td>Random Forest with Variable Selection</td>\n",
       "      <td>99.70</td>\n",
       "      <td>99.71</td>\n",
       "      <td>99.70</td>\n",
       "      <td>99.71</td>\n",
       "    </tr>\n",
       "    <tr>\n",
       "      <th>1</th>\n",
       "      <td>Deep Learning Model with Variable Selection</td>\n",
       "      <td>99.26</td>\n",
       "      <td>99.26</td>\n",
       "      <td>99.26</td>\n",
       "      <td>99.26</td>\n",
       "    </tr>\n",
       "  </tbody>\n",
       "</table>\n",
       "</div>"
      ],
      "text/plain": [
       "                                         Model  Accuracy  Precision  Recall  \\\n",
       "0        Random Forest with Variable Selection     99.70      99.71   99.70   \n",
       "1  Deep Learning Model with Variable Selection     99.26      99.26   99.26   \n",
       "\n",
       "   F1 Score  \n",
       "0     99.71  \n",
       "1     99.26  "
      ]
     },
     "execution_count": 24,
     "metadata": {},
     "output_type": "execute_result"
    }
   ],
   "source": [
    "# Calculating the evaluation metrics\n",
    "accuracy = accuracy_score(y_test_wo_light, y_predicted_mlp_corr)\n",
    "weighted_precision = precision_score(y_test_wo_light, y_predicted_mlp_corr, average='weighted')\n",
    "weighted_recall = recall_score(y_test_wo_light, y_predicted_mlp_corr, average='weighted')\n",
    "weighted_f1 = f1_score(y_test_wo_light, y_predicted_mlp_corr, average='weighted')\n",
    "\n",
    "# Creating an evaluation metrics dataframe for the model\n",
    "lr_results = pd.DataFrame([['Deep Learning Model using Bi-directional Elimination', \n",
    "                         round(accuracy*100,2), \n",
    "                         round(weighted_precision*100,2), \n",
    "                         round(weighted_recall*100,2), \n",
    "                         round(weighted_f1*100,2)\n",
    "                        ]],\n",
    "                       columns = ['Model', 'Accuracy', 'Precision', 'Recall', 'F1 Score'])\n",
    "\n",
    "# Appending the evaluation metrics into a dataframe\n",
    "results = results.append(lr_results, ignore_index = True)\n",
    "\n",
    "results"
   ]
  },
  {
   "cell_type": "code",
   "execution_count": null,
   "id": "a697a691",
   "metadata": {},
   "outputs": [],
   "source": []
  }
 ],
 "metadata": {
  "kernelspec": {
   "display_name": "Python 3 (ipykernel)",
   "language": "python",
   "name": "python3"
  },
  "language_info": {
   "codemirror_mode": {
    "name": "ipython",
    "version": 3
   },
   "file_extension": ".py",
   "mimetype": "text/x-python",
   "name": "python",
   "nbconvert_exporter": "python",
   "pygments_lexer": "ipython3",
   "version": "3.9.13"
  }
 },
 "nbformat": 4,
 "nbformat_minor": 5
}
