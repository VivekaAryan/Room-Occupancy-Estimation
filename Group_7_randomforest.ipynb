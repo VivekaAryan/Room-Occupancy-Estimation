{
 "cells": [
  {
   "cell_type": "code",
   "execution_count": 14,
   "id": "d26f82e2",
   "metadata": {},
   "outputs": [],
   "source": [
    "import pandas as pd\n",
    "import numpy as np\n",
    "import matplotlib.pyplot as plt\n",
    "import seaborn as sns\n",
    "from sklearn.model_selection import train_test_split\n",
    "from sklearn.preprocessing import StandardScaler\n",
    "from sklearn.ensemble import RandomForestClassifier\n",
    "from sklearn.model_selection import RepeatedStratifiedKFold\n",
    "from sklearn.model_selection import GridSearchCV\n",
    "from sklearn.metrics import confusion_matrix, accuracy_score, classification_report\n",
    "from sklearn.metrics import roc_auc_score  \n",
    "from sklearn.metrics import roc_curve,auc"
   ]
  },
  {
   "cell_type": "code",
   "execution_count": 2,
   "id": "16d28ba5",
   "metadata": {},
   "outputs": [],
   "source": [
    "df = pd.read_csv(\"./Group_7_data_cleaned.csv\")"
   ]
  },
  {
   "cell_type": "code",
   "execution_count": 3,
   "id": "64719a1f",
   "metadata": {},
   "outputs": [],
   "source": [
    "df.drop(columns=['Date','Time'], inplace=True)"
   ]
  },
  {
   "cell_type": "code",
   "execution_count": 4,
   "id": "1894040c",
   "metadata": {},
   "outputs": [
    {
     "data": {
      "text/html": [
       "<div>\n",
       "<style scoped>\n",
       "    .dataframe tbody tr th:only-of-type {\n",
       "        vertical-align: middle;\n",
       "    }\n",
       "\n",
       "    .dataframe tbody tr th {\n",
       "        vertical-align: top;\n",
       "    }\n",
       "\n",
       "    .dataframe thead th {\n",
       "        text-align: right;\n",
       "    }\n",
       "</style>\n",
       "<table border=\"1\" class=\"dataframe\">\n",
       "  <thead>\n",
       "    <tr style=\"text-align: right;\">\n",
       "      <th></th>\n",
       "      <th>S1_Temp</th>\n",
       "      <th>S2_Temp</th>\n",
       "      <th>S3_Temp</th>\n",
       "      <th>S4_Temp</th>\n",
       "      <th>S1_Light</th>\n",
       "      <th>S2_Light</th>\n",
       "      <th>S3_Light</th>\n",
       "      <th>S4_Light</th>\n",
       "      <th>S1_Sound</th>\n",
       "      <th>S2_Sound</th>\n",
       "      <th>S3_Sound</th>\n",
       "      <th>S4_Sound</th>\n",
       "      <th>S5_CO2</th>\n",
       "      <th>S5_CO2_Slope</th>\n",
       "      <th>S6_PIR</th>\n",
       "      <th>S7_PIR</th>\n",
       "      <th>Room_Occupancy_Count</th>\n",
       "    </tr>\n",
       "  </thead>\n",
       "  <tbody>\n",
       "    <tr>\n",
       "      <th>0</th>\n",
       "      <td>24.94</td>\n",
       "      <td>24.75</td>\n",
       "      <td>24.56</td>\n",
       "      <td>25.38</td>\n",
       "      <td>121</td>\n",
       "      <td>34</td>\n",
       "      <td>53</td>\n",
       "      <td>40</td>\n",
       "      <td>0.08</td>\n",
       "      <td>0.19</td>\n",
       "      <td>0.06</td>\n",
       "      <td>0.06</td>\n",
       "      <td>390</td>\n",
       "      <td>0.77</td>\n",
       "      <td>0</td>\n",
       "      <td>0</td>\n",
       "      <td>1</td>\n",
       "    </tr>\n",
       "    <tr>\n",
       "      <th>1</th>\n",
       "      <td>24.94</td>\n",
       "      <td>24.75</td>\n",
       "      <td>24.56</td>\n",
       "      <td>25.44</td>\n",
       "      <td>121</td>\n",
       "      <td>33</td>\n",
       "      <td>53</td>\n",
       "      <td>40</td>\n",
       "      <td>0.93</td>\n",
       "      <td>0.05</td>\n",
       "      <td>0.06</td>\n",
       "      <td>0.06</td>\n",
       "      <td>390</td>\n",
       "      <td>0.65</td>\n",
       "      <td>0</td>\n",
       "      <td>0</td>\n",
       "      <td>1</td>\n",
       "    </tr>\n",
       "    <tr>\n",
       "      <th>2</th>\n",
       "      <td>25.00</td>\n",
       "      <td>24.75</td>\n",
       "      <td>24.50</td>\n",
       "      <td>25.44</td>\n",
       "      <td>121</td>\n",
       "      <td>34</td>\n",
       "      <td>53</td>\n",
       "      <td>40</td>\n",
       "      <td>0.43</td>\n",
       "      <td>0.11</td>\n",
       "      <td>0.08</td>\n",
       "      <td>0.06</td>\n",
       "      <td>390</td>\n",
       "      <td>0.52</td>\n",
       "      <td>0</td>\n",
       "      <td>0</td>\n",
       "      <td>1</td>\n",
       "    </tr>\n",
       "    <tr>\n",
       "      <th>3</th>\n",
       "      <td>25.00</td>\n",
       "      <td>24.75</td>\n",
       "      <td>24.56</td>\n",
       "      <td>25.44</td>\n",
       "      <td>121</td>\n",
       "      <td>34</td>\n",
       "      <td>53</td>\n",
       "      <td>40</td>\n",
       "      <td>0.41</td>\n",
       "      <td>0.10</td>\n",
       "      <td>0.10</td>\n",
       "      <td>0.09</td>\n",
       "      <td>390</td>\n",
       "      <td>0.39</td>\n",
       "      <td>0</td>\n",
       "      <td>0</td>\n",
       "      <td>1</td>\n",
       "    </tr>\n",
       "    <tr>\n",
       "      <th>4</th>\n",
       "      <td>25.00</td>\n",
       "      <td>24.75</td>\n",
       "      <td>24.56</td>\n",
       "      <td>25.44</td>\n",
       "      <td>121</td>\n",
       "      <td>34</td>\n",
       "      <td>54</td>\n",
       "      <td>40</td>\n",
       "      <td>0.18</td>\n",
       "      <td>0.06</td>\n",
       "      <td>0.06</td>\n",
       "      <td>0.06</td>\n",
       "      <td>390</td>\n",
       "      <td>0.25</td>\n",
       "      <td>0</td>\n",
       "      <td>0</td>\n",
       "      <td>1</td>\n",
       "    </tr>\n",
       "  </tbody>\n",
       "</table>\n",
       "</div>"
      ],
      "text/plain": [
       "   S1_Temp  S2_Temp  S3_Temp  S4_Temp  S1_Light  S2_Light  S3_Light  S4_Light  \\\n",
       "0    24.94    24.75    24.56    25.38       121        34        53        40   \n",
       "1    24.94    24.75    24.56    25.44       121        33        53        40   \n",
       "2    25.00    24.75    24.50    25.44       121        34        53        40   \n",
       "3    25.00    24.75    24.56    25.44       121        34        53        40   \n",
       "4    25.00    24.75    24.56    25.44       121        34        54        40   \n",
       "\n",
       "   S1_Sound  S2_Sound  S3_Sound  S4_Sound  S5_CO2  S5_CO2_Slope  S6_PIR  \\\n",
       "0      0.08      0.19      0.06      0.06     390          0.77       0   \n",
       "1      0.93      0.05      0.06      0.06     390          0.65       0   \n",
       "2      0.43      0.11      0.08      0.06     390          0.52       0   \n",
       "3      0.41      0.10      0.10      0.09     390          0.39       0   \n",
       "4      0.18      0.06      0.06      0.06     390          0.25       0   \n",
       "\n",
       "   S7_PIR  Room_Occupancy_Count  \n",
       "0       0                     1  \n",
       "1       0                     1  \n",
       "2       0                     1  \n",
       "3       0                     1  \n",
       "4       0                     1  "
      ]
     },
     "execution_count": 4,
     "metadata": {},
     "output_type": "execute_result"
    }
   ],
   "source": [
    "df.head()"
   ]
  },
  {
   "cell_type": "code",
   "execution_count": 5,
   "id": "5c9e4039",
   "metadata": {},
   "outputs": [
    {
     "name": "stdout",
     "output_type": "stream",
     "text": [
      "<class 'pandas.core.frame.DataFrame'>\n",
      "RangeIndex: 10129 entries, 0 to 10128\n",
      "Data columns (total 17 columns):\n",
      " #   Column                Non-Null Count  Dtype  \n",
      "---  ------                --------------  -----  \n",
      " 0   S1_Temp               10129 non-null  float64\n",
      " 1   S2_Temp               10129 non-null  float64\n",
      " 2   S3_Temp               10129 non-null  float64\n",
      " 3   S4_Temp               10129 non-null  float64\n",
      " 4   S1_Light              10129 non-null  int64  \n",
      " 5   S2_Light              10129 non-null  int64  \n",
      " 6   S3_Light              10129 non-null  int64  \n",
      " 7   S4_Light              10129 non-null  int64  \n",
      " 8   S1_Sound              10129 non-null  float64\n",
      " 9   S2_Sound              10129 non-null  float64\n",
      " 10  S3_Sound              10129 non-null  float64\n",
      " 11  S4_Sound              10129 non-null  float64\n",
      " 12  S5_CO2                10129 non-null  int64  \n",
      " 13  S5_CO2_Slope          10129 non-null  float64\n",
      " 14  S6_PIR                10129 non-null  int64  \n",
      " 15  S7_PIR                10129 non-null  int64  \n",
      " 16  Room_Occupancy_Count  10129 non-null  int64  \n",
      "dtypes: float64(9), int64(8)\n",
      "memory usage: 1.3 MB\n"
     ]
    }
   ],
   "source": [
    "df.info()"
   ]
  },
  {
   "cell_type": "markdown",
   "id": "168508f7",
   "metadata": {},
   "source": [
    "## Estimating the Occupancy of the room after removing the light input variables as per problem statement"
   ]
  },
  {
   "cell_type": "code",
   "execution_count": 6,
   "id": "dded704f",
   "metadata": {},
   "outputs": [],
   "source": [
    "df_wo_light = df.drop(df.filter(regex='Light').columns, axis=1)"
   ]
  },
  {
   "cell_type": "code",
   "execution_count": 7,
   "id": "27554a3c",
   "metadata": {},
   "outputs": [
    {
     "data": {
      "text/html": [
       "<div>\n",
       "<style scoped>\n",
       "    .dataframe tbody tr th:only-of-type {\n",
       "        vertical-align: middle;\n",
       "    }\n",
       "\n",
       "    .dataframe tbody tr th {\n",
       "        vertical-align: top;\n",
       "    }\n",
       "\n",
       "    .dataframe thead th {\n",
       "        text-align: right;\n",
       "    }\n",
       "</style>\n",
       "<table border=\"1\" class=\"dataframe\">\n",
       "  <thead>\n",
       "    <tr style=\"text-align: right;\">\n",
       "      <th></th>\n",
       "      <th>S1_Temp</th>\n",
       "      <th>S2_Temp</th>\n",
       "      <th>S3_Temp</th>\n",
       "      <th>S4_Temp</th>\n",
       "      <th>S1_Sound</th>\n",
       "      <th>S2_Sound</th>\n",
       "      <th>S3_Sound</th>\n",
       "      <th>S4_Sound</th>\n",
       "      <th>S5_CO2</th>\n",
       "      <th>S5_CO2_Slope</th>\n",
       "      <th>S6_PIR</th>\n",
       "      <th>S7_PIR</th>\n",
       "      <th>Room_Occupancy_Count</th>\n",
       "    </tr>\n",
       "  </thead>\n",
       "  <tbody>\n",
       "    <tr>\n",
       "      <th>0</th>\n",
       "      <td>24.94</td>\n",
       "      <td>24.75</td>\n",
       "      <td>24.56</td>\n",
       "      <td>25.38</td>\n",
       "      <td>0.08</td>\n",
       "      <td>0.19</td>\n",
       "      <td>0.06</td>\n",
       "      <td>0.06</td>\n",
       "      <td>390</td>\n",
       "      <td>0.77</td>\n",
       "      <td>0</td>\n",
       "      <td>0</td>\n",
       "      <td>1</td>\n",
       "    </tr>\n",
       "    <tr>\n",
       "      <th>1</th>\n",
       "      <td>24.94</td>\n",
       "      <td>24.75</td>\n",
       "      <td>24.56</td>\n",
       "      <td>25.44</td>\n",
       "      <td>0.93</td>\n",
       "      <td>0.05</td>\n",
       "      <td>0.06</td>\n",
       "      <td>0.06</td>\n",
       "      <td>390</td>\n",
       "      <td>0.65</td>\n",
       "      <td>0</td>\n",
       "      <td>0</td>\n",
       "      <td>1</td>\n",
       "    </tr>\n",
       "    <tr>\n",
       "      <th>2</th>\n",
       "      <td>25.00</td>\n",
       "      <td>24.75</td>\n",
       "      <td>24.50</td>\n",
       "      <td>25.44</td>\n",
       "      <td>0.43</td>\n",
       "      <td>0.11</td>\n",
       "      <td>0.08</td>\n",
       "      <td>0.06</td>\n",
       "      <td>390</td>\n",
       "      <td>0.52</td>\n",
       "      <td>0</td>\n",
       "      <td>0</td>\n",
       "      <td>1</td>\n",
       "    </tr>\n",
       "    <tr>\n",
       "      <th>3</th>\n",
       "      <td>25.00</td>\n",
       "      <td>24.75</td>\n",
       "      <td>24.56</td>\n",
       "      <td>25.44</td>\n",
       "      <td>0.41</td>\n",
       "      <td>0.10</td>\n",
       "      <td>0.10</td>\n",
       "      <td>0.09</td>\n",
       "      <td>390</td>\n",
       "      <td>0.39</td>\n",
       "      <td>0</td>\n",
       "      <td>0</td>\n",
       "      <td>1</td>\n",
       "    </tr>\n",
       "    <tr>\n",
       "      <th>4</th>\n",
       "      <td>25.00</td>\n",
       "      <td>24.75</td>\n",
       "      <td>24.56</td>\n",
       "      <td>25.44</td>\n",
       "      <td>0.18</td>\n",
       "      <td>0.06</td>\n",
       "      <td>0.06</td>\n",
       "      <td>0.06</td>\n",
       "      <td>390</td>\n",
       "      <td>0.25</td>\n",
       "      <td>0</td>\n",
       "      <td>0</td>\n",
       "      <td>1</td>\n",
       "    </tr>\n",
       "  </tbody>\n",
       "</table>\n",
       "</div>"
      ],
      "text/plain": [
       "   S1_Temp  S2_Temp  S3_Temp  S4_Temp  S1_Sound  S2_Sound  S3_Sound  S4_Sound  \\\n",
       "0    24.94    24.75    24.56    25.38      0.08      0.19      0.06      0.06   \n",
       "1    24.94    24.75    24.56    25.44      0.93      0.05      0.06      0.06   \n",
       "2    25.00    24.75    24.50    25.44      0.43      0.11      0.08      0.06   \n",
       "3    25.00    24.75    24.56    25.44      0.41      0.10      0.10      0.09   \n",
       "4    25.00    24.75    24.56    25.44      0.18      0.06      0.06      0.06   \n",
       "\n",
       "   S5_CO2  S5_CO2_Slope  S6_PIR  S7_PIR  Room_Occupancy_Count  \n",
       "0     390          0.77       0       0                     1  \n",
       "1     390          0.65       0       0                     1  \n",
       "2     390          0.52       0       0                     1  \n",
       "3     390          0.39       0       0                     1  \n",
       "4     390          0.25       0       0                     1  "
      ]
     },
     "execution_count": 7,
     "metadata": {},
     "output_type": "execute_result"
    }
   ],
   "source": [
    "df_wo_light.head()"
   ]
  },
  {
   "cell_type": "code",
   "execution_count": 8,
   "id": "1ba11dc0",
   "metadata": {},
   "outputs": [],
   "source": [
    "X_wo_light = df_wo_light.drop(['Room_Occupancy_Count'], axis=1)\n",
    "y_wo_light = df_wo_light[['Room_Occupancy_Count']]"
   ]
  },
  {
   "cell_type": "code",
   "execution_count": 9,
   "id": "070ecffa",
   "metadata": {},
   "outputs": [],
   "source": [
    "# Splitting the dataset into train and test\n",
    "X_train_wo_light, X_test_wo_light, y_train_wo_light, y_test_wo_light = train_test_split(X_wo_light, y_wo_light, test_size=0.2, random_state=42)"
   ]
  },
  {
   "cell_type": "code",
   "execution_count": 10,
   "id": "44a313a8",
   "metadata": {},
   "outputs": [
    {
     "name": "stderr",
     "output_type": "stream",
     "text": [
      "C:\\Users\\aryan\\AppData\\Local\\Temp\\ipykernel_9428\\401118668.py:2: DataConversionWarning: A column-vector y was passed when a 1d array was expected. Please change the shape of y to (n_samples,), for example using ravel().\n",
      "  model_classs_wo_light.fit(X_train_wo_light, y_train_wo_light)\n"
     ]
    },
    {
     "name": "stdout",
     "output_type": "stream",
     "text": [
      "Accuracy on train set:  1.0\n",
      "Accuracy on test set:  0.9955577492596249\n"
     ]
    }
   ],
   "source": [
    "model_classs_wo_light = RandomForestClassifier()\n",
    "model_classs_wo_light.fit(X_train_wo_light, y_train_wo_light)\n",
    "\n",
    "print(\"Accuracy on train set: \", model_classs_wo_light.score(X_train_wo_light, y_train_wo_light))\n",
    "print(\"Accuracy on test set: \", model_classs_wo_light.score(X_test_wo_light, y_test_wo_light))"
   ]
  },
  {
   "cell_type": "markdown",
   "id": "1f19d065",
   "metadata": {},
   "source": [
    "### Hyperparameter Tuning using GridSearch"
   ]
  },
  {
   "cell_type": "code",
   "execution_count": 11,
   "id": "780ebe32",
   "metadata": {},
   "outputs": [
    {
     "name": "stdout",
     "output_type": "stream",
     "text": [
      "Fitting 15 folds for each of 100 candidates, totalling 1500 fits\n"
     ]
    },
    {
     "name": "stderr",
     "output_type": "stream",
     "text": [
      "C:\\Users\\aryan\\anaconda3\\lib\\site-packages\\sklearn\\model_selection\\_search.py:926: DataConversionWarning: A column-vector y was passed when a 1d array was expected. Please change the shape of y to (n_samples,), for example using ravel().\n",
      "  self.best_estimator_.fit(X, y, **fit_params)\n"
     ]
    },
    {
     "name": "stdout",
     "output_type": "stream",
     "text": [
      "Best: 0.982067 using {'bootstrap': 'False', 'max_depth': 40, 'max_features': 'log2', 'n_estimators': 200}\n",
      "0.979928 (0.006234) with: {'bootstrap': 'True', 'max_depth': 10, 'max_features': 'sqrt', 'n_estimators': 100}\n",
      "0.979105 (0.006039) with: {'bootstrap': 'True', 'max_depth': 10, 'max_features': 'sqrt', 'n_estimators': 200}\n",
      "0.980256 (0.005702) with: {'bootstrap': 'True', 'max_depth': 10, 'max_features': 'sqrt', 'n_estimators': 300}\n",
      "0.980585 (0.005970) with: {'bootstrap': 'True', 'max_depth': 10, 'max_features': 'sqrt', 'n_estimators': 400}\n",
      "0.979929 (0.006611) with: {'bootstrap': 'True', 'max_depth': 10, 'max_features': 'sqrt', 'n_estimators': 500}\n",
      "0.979269 (0.007029) with: {'bootstrap': 'True', 'max_depth': 10, 'max_features': 'log2', 'n_estimators': 100}\n",
      "0.981080 (0.005527) with: {'bootstrap': 'True', 'max_depth': 10, 'max_features': 'log2', 'n_estimators': 200}\n",
      "0.978613 (0.006720) with: {'bootstrap': 'True', 'max_depth': 10, 'max_features': 'log2', 'n_estimators': 300}\n",
      "0.980093 (0.006076) with: {'bootstrap': 'True', 'max_depth': 10, 'max_features': 'log2', 'n_estimators': 400}\n",
      "0.980914 (0.005944) with: {'bootstrap': 'True', 'max_depth': 10, 'max_features': 'log2', 'n_estimators': 500}\n",
      "0.979929 (0.005469) with: {'bootstrap': 'True', 'max_depth': 20, 'max_features': 'sqrt', 'n_estimators': 100}\n",
      "0.981078 (0.006420) with: {'bootstrap': 'True', 'max_depth': 20, 'max_features': 'sqrt', 'n_estimators': 200}\n",
      "0.979764 (0.005991) with: {'bootstrap': 'True', 'max_depth': 20, 'max_features': 'sqrt', 'n_estimators': 300}\n",
      "0.981243 (0.005687) with: {'bootstrap': 'True', 'max_depth': 20, 'max_features': 'sqrt', 'n_estimators': 400}\n",
      "0.981573 (0.005008) with: {'bootstrap': 'True', 'max_depth': 20, 'max_features': 'sqrt', 'n_estimators': 500}\n",
      "0.979928 (0.005900) with: {'bootstrap': 'True', 'max_depth': 20, 'max_features': 'log2', 'n_estimators': 100}\n",
      "0.980421 (0.005802) with: {'bootstrap': 'True', 'max_depth': 20, 'max_features': 'log2', 'n_estimators': 200}\n",
      "0.980092 (0.005736) with: {'bootstrap': 'True', 'max_depth': 20, 'max_features': 'log2', 'n_estimators': 300}\n",
      "0.980257 (0.006044) with: {'bootstrap': 'True', 'max_depth': 20, 'max_features': 'log2', 'n_estimators': 400}\n",
      "0.981574 (0.005320) with: {'bootstrap': 'True', 'max_depth': 20, 'max_features': 'log2', 'n_estimators': 500}\n",
      "0.979433 (0.007192) with: {'bootstrap': 'True', 'max_depth': 30, 'max_features': 'sqrt', 'n_estimators': 100}\n",
      "0.980422 (0.006340) with: {'bootstrap': 'True', 'max_depth': 30, 'max_features': 'sqrt', 'n_estimators': 200}\n",
      "0.979764 (0.006057) with: {'bootstrap': 'True', 'max_depth': 30, 'max_features': 'sqrt', 'n_estimators': 300}\n",
      "0.981738 (0.005962) with: {'bootstrap': 'True', 'max_depth': 30, 'max_features': 'sqrt', 'n_estimators': 400}\n",
      "0.981409 (0.005759) with: {'bootstrap': 'True', 'max_depth': 30, 'max_features': 'sqrt', 'n_estimators': 500}\n",
      "0.979929 (0.005083) with: {'bootstrap': 'True', 'max_depth': 30, 'max_features': 'log2', 'n_estimators': 100}\n",
      "0.981080 (0.006600) with: {'bootstrap': 'True', 'max_depth': 30, 'max_features': 'log2', 'n_estimators': 200}\n",
      "0.980093 (0.006141) with: {'bootstrap': 'True', 'max_depth': 30, 'max_features': 'log2', 'n_estimators': 300}\n",
      "0.979435 (0.005226) with: {'bootstrap': 'True', 'max_depth': 30, 'max_features': 'log2', 'n_estimators': 400}\n",
      "0.981409 (0.005004) with: {'bootstrap': 'True', 'max_depth': 30, 'max_features': 'log2', 'n_estimators': 500}\n",
      "0.979270 (0.004835) with: {'bootstrap': 'True', 'max_depth': 40, 'max_features': 'sqrt', 'n_estimators': 100}\n",
      "0.978776 (0.006165) with: {'bootstrap': 'True', 'max_depth': 40, 'max_features': 'sqrt', 'n_estimators': 200}\n",
      "0.980422 (0.006588) with: {'bootstrap': 'True', 'max_depth': 40, 'max_features': 'sqrt', 'n_estimators': 300}\n",
      "0.979764 (0.006633) with: {'bootstrap': 'True', 'max_depth': 40, 'max_features': 'sqrt', 'n_estimators': 400}\n",
      "0.980422 (0.006710) with: {'bootstrap': 'True', 'max_depth': 40, 'max_features': 'sqrt', 'n_estimators': 500}\n",
      "0.980422 (0.006338) with: {'bootstrap': 'True', 'max_depth': 40, 'max_features': 'log2', 'n_estimators': 100}\n",
      "0.981081 (0.005601) with: {'bootstrap': 'True', 'max_depth': 40, 'max_features': 'log2', 'n_estimators': 200}\n",
      "0.979599 (0.005938) with: {'bootstrap': 'True', 'max_depth': 40, 'max_features': 'log2', 'n_estimators': 300}\n",
      "0.981244 (0.006607) with: {'bootstrap': 'True', 'max_depth': 40, 'max_features': 'log2', 'n_estimators': 400}\n",
      "0.980585 (0.006303) with: {'bootstrap': 'True', 'max_depth': 40, 'max_features': 'log2', 'n_estimators': 500}\n",
      "0.979105 (0.005399) with: {'bootstrap': 'True', 'max_depth': 50, 'max_features': 'sqrt', 'n_estimators': 100}\n",
      "0.979764 (0.005714) with: {'bootstrap': 'True', 'max_depth': 50, 'max_features': 'sqrt', 'n_estimators': 200}\n",
      "0.979105 (0.006914) with: {'bootstrap': 'True', 'max_depth': 50, 'max_features': 'sqrt', 'n_estimators': 300}\n",
      "0.980915 (0.005290) with: {'bootstrap': 'True', 'max_depth': 50, 'max_features': 'sqrt', 'n_estimators': 400}\n",
      "0.980751 (0.005268) with: {'bootstrap': 'True', 'max_depth': 50, 'max_features': 'sqrt', 'n_estimators': 500}\n",
      "0.979929 (0.006101) with: {'bootstrap': 'True', 'max_depth': 50, 'max_features': 'log2', 'n_estimators': 100}\n",
      "0.980257 (0.005978) with: {'bootstrap': 'True', 'max_depth': 50, 'max_features': 'log2', 'n_estimators': 200}\n",
      "0.979434 (0.005458) with: {'bootstrap': 'True', 'max_depth': 50, 'max_features': 'log2', 'n_estimators': 300}\n",
      "0.980915 (0.005289) with: {'bootstrap': 'True', 'max_depth': 50, 'max_features': 'log2', 'n_estimators': 400}\n",
      "0.980750 (0.006256) with: {'bootstrap': 'True', 'max_depth': 50, 'max_features': 'log2', 'n_estimators': 500}\n",
      "0.979270 (0.006295) with: {'bootstrap': 'False', 'max_depth': 10, 'max_features': 'sqrt', 'n_estimators': 100}\n",
      "0.980751 (0.005191) with: {'bootstrap': 'False', 'max_depth': 10, 'max_features': 'sqrt', 'n_estimators': 200}\n",
      "0.981080 (0.005302) with: {'bootstrap': 'False', 'max_depth': 10, 'max_features': 'sqrt', 'n_estimators': 300}\n",
      "0.979929 (0.005759) with: {'bootstrap': 'False', 'max_depth': 10, 'max_features': 'sqrt', 'n_estimators': 400}\n",
      "0.979764 (0.006386) with: {'bootstrap': 'False', 'max_depth': 10, 'max_features': 'sqrt', 'n_estimators': 500}\n",
      "0.978448 (0.006525) with: {'bootstrap': 'False', 'max_depth': 10, 'max_features': 'log2', 'n_estimators': 100}\n",
      "0.979764 (0.005784) with: {'bootstrap': 'False', 'max_depth': 10, 'max_features': 'log2', 'n_estimators': 200}\n",
      "0.980915 (0.007236) with: {'bootstrap': 'False', 'max_depth': 10, 'max_features': 'log2', 'n_estimators': 300}\n",
      "0.979928 (0.006361) with: {'bootstrap': 'False', 'max_depth': 10, 'max_features': 'log2', 'n_estimators': 400}\n",
      "0.980421 (0.005662) with: {'bootstrap': 'False', 'max_depth': 10, 'max_features': 'log2', 'n_estimators': 500}\n",
      "0.978776 (0.007027) with: {'bootstrap': 'False', 'max_depth': 20, 'max_features': 'sqrt', 'n_estimators': 100}\n",
      "0.980421 (0.004638) with: {'bootstrap': 'False', 'max_depth': 20, 'max_features': 'sqrt', 'n_estimators': 200}\n",
      "0.979271 (0.006024) with: {'bootstrap': 'False', 'max_depth': 20, 'max_features': 'sqrt', 'n_estimators': 300}\n",
      "0.980091 (0.005522) with: {'bootstrap': 'False', 'max_depth': 20, 'max_features': 'sqrt', 'n_estimators': 400}\n",
      "0.980750 (0.005573) with: {'bootstrap': 'False', 'max_depth': 20, 'max_features': 'sqrt', 'n_estimators': 500}\n",
      "0.980093 (0.005871) with: {'bootstrap': 'False', 'max_depth': 20, 'max_features': 'log2', 'n_estimators': 100}\n",
      "0.981079 (0.005461) with: {'bootstrap': 'False', 'max_depth': 20, 'max_features': 'log2', 'n_estimators': 200}\n",
      "0.980915 (0.007068) with: {'bootstrap': 'False', 'max_depth': 20, 'max_features': 'log2', 'n_estimators': 300}\n",
      "0.979928 (0.005760) with: {'bootstrap': 'False', 'max_depth': 20, 'max_features': 'log2', 'n_estimators': 400}\n",
      "0.981079 (0.005957) with: {'bootstrap': 'False', 'max_depth': 20, 'max_features': 'log2', 'n_estimators': 500}\n",
      "0.979930 (0.006162) with: {'bootstrap': 'False', 'max_depth': 30, 'max_features': 'sqrt', 'n_estimators': 100}\n",
      "0.979270 (0.005894) with: {'bootstrap': 'False', 'max_depth': 30, 'max_features': 'sqrt', 'n_estimators': 200}\n",
      "0.980257 (0.007096) with: {'bootstrap': 'False', 'max_depth': 30, 'max_features': 'sqrt', 'n_estimators': 300}\n",
      "0.981574 (0.006036) with: {'bootstrap': 'False', 'max_depth': 30, 'max_features': 'sqrt', 'n_estimators': 400}\n",
      "0.980258 (0.005622) with: {'bootstrap': 'False', 'max_depth': 30, 'max_features': 'sqrt', 'n_estimators': 500}\n",
      "0.980422 (0.004635) with: {'bootstrap': 'False', 'max_depth': 30, 'max_features': 'log2', 'n_estimators': 100}\n",
      "0.979599 (0.006144) with: {'bootstrap': 'False', 'max_depth': 30, 'max_features': 'log2', 'n_estimators': 200}\n",
      "0.980257 (0.005406) with: {'bootstrap': 'False', 'max_depth': 30, 'max_features': 'log2', 'n_estimators': 300}\n",
      "0.980257 (0.006176) with: {'bootstrap': 'False', 'max_depth': 30, 'max_features': 'log2', 'n_estimators': 400}\n",
      "0.979599 (0.006007) with: {'bootstrap': 'False', 'max_depth': 30, 'max_features': 'log2', 'n_estimators': 500}\n",
      "0.978776 (0.005755) with: {'bootstrap': 'False', 'max_depth': 40, 'max_features': 'sqrt', 'n_estimators': 100}\n",
      "0.980092 (0.006835) with: {'bootstrap': 'False', 'max_depth': 40, 'max_features': 'sqrt', 'n_estimators': 200}\n",
      "0.980751 (0.006191) with: {'bootstrap': 'False', 'max_depth': 40, 'max_features': 'sqrt', 'n_estimators': 300}\n",
      "0.981737 (0.005002) with: {'bootstrap': 'False', 'max_depth': 40, 'max_features': 'sqrt', 'n_estimators': 400}\n",
      "0.981244 (0.005964) with: {'bootstrap': 'False', 'max_depth': 40, 'max_features': 'sqrt', 'n_estimators': 500}\n",
      "0.979600 (0.005801) with: {'bootstrap': 'False', 'max_depth': 40, 'max_features': 'log2', 'n_estimators': 100}\n",
      "0.982067 (0.005734) with: {'bootstrap': 'False', 'max_depth': 40, 'max_features': 'log2', 'n_estimators': 200}\n",
      "0.980421 (0.005733) with: {'bootstrap': 'False', 'max_depth': 40, 'max_features': 'log2', 'n_estimators': 300}\n",
      "0.979763 (0.007052) with: {'bootstrap': 'False', 'max_depth': 40, 'max_features': 'log2', 'n_estimators': 400}\n",
      "0.981244 (0.005826) with: {'bootstrap': 'False', 'max_depth': 40, 'max_features': 'log2', 'n_estimators': 500}\n",
      "0.978611 (0.006906) with: {'bootstrap': 'False', 'max_depth': 50, 'max_features': 'sqrt', 'n_estimators': 100}\n",
      "0.979434 (0.007135) with: {'bootstrap': 'False', 'max_depth': 50, 'max_features': 'sqrt', 'n_estimators': 200}\n",
      "0.980751 (0.005991) with: {'bootstrap': 'False', 'max_depth': 50, 'max_features': 'sqrt', 'n_estimators': 300}\n",
      "0.981573 (0.006490) with: {'bootstrap': 'False', 'max_depth': 50, 'max_features': 'sqrt', 'n_estimators': 400}\n",
      "0.979764 (0.007331) with: {'bootstrap': 'False', 'max_depth': 50, 'max_features': 'sqrt', 'n_estimators': 500}\n",
      "0.979928 (0.006102) with: {'bootstrap': 'False', 'max_depth': 50, 'max_features': 'log2', 'n_estimators': 100}\n",
      "0.979928 (0.005087) with: {'bootstrap': 'False', 'max_depth': 50, 'max_features': 'log2', 'n_estimators': 200}\n",
      "0.980585 (0.007373) with: {'bootstrap': 'False', 'max_depth': 50, 'max_features': 'log2', 'n_estimators': 300}\n",
      "0.980915 (0.005366) with: {'bootstrap': 'False', 'max_depth': 50, 'max_features': 'log2', 'n_estimators': 400}\n",
      "0.981080 (0.005229) with: {'bootstrap': 'False', 'max_depth': 50, 'max_features': 'log2', 'n_estimators': 500}\n",
      "Wall time: 2min 19s\n"
     ]
    }
   ],
   "source": [
    "%%time\n",
    "\n",
    "# define grid search\n",
    "grid = {\n",
    "    \"bootstrap\" : ['True', 'False'],\n",
    "    \"max_features\" : ['sqrt', 'log2'],\n",
    "    \"max_depth\": [10,20,30,40,50],\n",
    "    \"n_estimators\": [100,200,300,400,500]\n",
    "}\n",
    "\n",
    "cv = RepeatedStratifiedKFold(n_splits=5, n_repeats=3, random_state=1)\n",
    "grid_search = GridSearchCV(estimator=model_classs_wo_light, \n",
    "                           param_grid = grid, \n",
    "                           n_jobs = -1, \n",
    "                           cv = cv, \n",
    "                           scoring = 'accuracy',\n",
    "                           error_score = 0,\n",
    "                           verbose = 1\n",
    "                          )\n",
    "\n",
    "grid_result = grid_search.fit(X_test_wo_light, y_test_wo_light)\n",
    "\n",
    "# Summarize Results\n",
    "print(\"Best: %f using %s\" % (grid_result.best_score_, grid_result.best_params_))\n",
    "means = grid_result.cv_results_['mean_test_score']\n",
    "stds = grid_result.cv_results_['std_test_score']\n",
    "params = grid_result.cv_results_['params']\n",
    "for mean, stdev, param in zip(means, stds, params):\n",
    "    print(\"%f (%f) with: %r\" % (mean, stdev, param))"
   ]
  },
  {
   "cell_type": "markdown",
   "id": "b9465004",
   "metadata": {},
   "source": [
    "### Random Forest Classifier Model with best hyperparameters"
   ]
  },
  {
   "cell_type": "code",
   "execution_count": 12,
   "id": "5385011a",
   "metadata": {},
   "outputs": [
    {
     "name": "stderr",
     "output_type": "stream",
     "text": [
      "C:\\Users\\aryan\\AppData\\Local\\Temp\\ipykernel_9428\\1623402484.py:2: DataConversionWarning: A column-vector y was passed when a 1d array was expected. Please change the shape of y to (n_samples,), for example using ravel().\n",
      "  model_classs_wo_light.fit(X_train_wo_light, y_train_wo_light)\n"
     ]
    },
    {
     "name": "stdout",
     "output_type": "stream",
     "text": [
      "Accuracy on test set:  0.9955577492596249\n"
     ]
    }
   ],
   "source": [
    "model_classs_wo_light = RandomForestClassifier(bootstrap= 'False', max_depth= 40, max_features= 'log2', n_estimators= 200)\n",
    "model_classs_wo_light.fit(X_train_wo_light, y_train_wo_light)\n",
    "\n",
    "print(\"Accuracy on test set: \", model_classs_wo_light.score(X_test_wo_light, y_test_wo_light))"
   ]
  },
  {
   "cell_type": "code",
   "execution_count": 15,
   "id": "9cb1b8ee",
   "metadata": {},
   "outputs": [
    {
     "data": {
      "image/png": "[encoded data removed]",
      "text/plain": [
       "<Figure size 600x400 with 2 Axes>"
      ]
     },
     "metadata": {},
     "output_type": "display_data"
    }
   ],
   "source": [
    "y_predicted = model_classs_wo_light.predict(X_test_wo_light)\n",
    "cm = confusion_matrix(y_test_wo_light, y_predicted)\n",
    "plt.figure(figsize = (6,4))\n",
    "\n",
    "sns.heatmap(cm, \n",
    "            annot=True, \n",
    "            cmap=\"Spectral\",\n",
    "            fmt='g'\n",
    "           )\n",
    "plt.xlabel('Predicted', fontsize=10)\n",
    "plt.ylabel('Actual/Observed', fontsize=10);"
   ]
  },
  {
   "cell_type": "code",
   "execution_count": 16,
   "id": "a13cce44",
   "metadata": {},
   "outputs": [
    {
     "name": "stdout",
     "output_type": "stream",
     "text": [
      "              precision    recall  f1-score   support\n",
      "\n",
      "           0       1.00      1.00      1.00      1619\n",
      "           1       1.00      0.98      0.99       103\n",
      "           2       0.98      1.00      0.99       164\n",
      "           3       0.98      0.98      0.98       140\n",
      "\n",
      "    accuracy                           1.00      2026\n",
      "   macro avg       0.99      0.99      0.99      2026\n",
      "weighted avg       1.00      1.00      1.00      2026\n",
      "\n"
     ]
    }
   ],
   "source": [
    "print(classification_report(y_test_wo_light, y_predicted))"
   ]
  },
  {
   "cell_type": "code",
   "execution_count": 17,
   "id": "a314cc67",
   "metadata": {},
   "outputs": [],
   "source": [
    "# Saving the model with pickle\n",
    "import pickle\n",
    "filename = 'rf_classification_model.sav'\n",
    "pickle.dump(model_classs_wo_light, open(filename, 'wb'))"
   ]
  },
  {
   "cell_type": "code",
   "execution_count": null,
   "id": "01d1b02d",
   "metadata": {},
   "outputs": [],
   "source": []
  }
 ],
 "metadata": {
  "kernelspec": {
   "display_name": "Python 3 (ipykernel)",
   "language": "python",
   "name": "python3"
  },
  "language_info": {
   "codemirror_mode": {
    "name": "ipython",
    "version": 3
   },
   "file_extension": ".py",
   "mimetype": "text/x-python",
   "name": "python",
   "nbconvert_exporter": "python",
   "pygments_lexer": "ipython3",
   "version": "3.9.13"
  }
 },
 "nbformat": 4,
 "nbformat_minor": 5
}
