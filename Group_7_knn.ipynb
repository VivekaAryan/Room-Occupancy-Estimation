{
 "cells": [
  {
   "cell_type": "code",
   "execution_count": 1,
   "id": "d26f82e2",
   "metadata": {},
   "outputs": [],
   "source": [
    "import pandas as pd\n",
    "import numpy as np\n",
    "import matplotlib.pyplot as plt\n",
    "import seaborn as sns\n",
    "from sklearn.model_selection import train_test_split\n",
    "from sklearn.preprocessing import StandardScaler\n",
    "from sklearn.neighbors import KNeighborsClassifier\n",
    "from sklearn.model_selection import RepeatedStratifiedKFold\n",
    "from sklearn.model_selection import GridSearchCV\n",
    "from sklearn.metrics import confusion_matrix, accuracy_score, classification_report\n",
    "from sklearn.metrics import roc_auc_score  \n",
    "from sklearn.metrics import roc_curve,auc "
   ]
  },
  {
   "cell_type": "code",
   "execution_count": 2,
   "id": "16d28ba5",
   "metadata": {},
   "outputs": [],
   "source": [
    "df = pd.read_csv(\"./Group_7_data_cleaned.csv\")"
   ]
  },
  {
   "cell_type": "code",
   "execution_count": 3,
   "id": "64719a1f",
   "metadata": {},
   "outputs": [],
   "source": [
    "df.drop(columns=['Date','Time'], inplace=True)"
   ]
  },
  {
   "cell_type": "code",
   "execution_count": 4,
   "id": "1894040c",
   "metadata": {},
   "outputs": [
    {
     "data": {
      "text/html": [
       "<div>\n",
       "<style scoped>\n",
       "    .dataframe tbody tr th:only-of-type {\n",
       "        vertical-align: middle;\n",
       "    }\n",
       "\n",
       "    .dataframe tbody tr th {\n",
       "        vertical-align: top;\n",
       "    }\n",
       "\n",
       "    .dataframe thead th {\n",
       "        text-align: right;\n",
       "    }\n",
       "</style>\n",
       "<table border=\"1\" class=\"dataframe\">\n",
       "  <thead>\n",
       "    <tr style=\"text-align: right;\">\n",
       "      <th></th>\n",
       "      <th>S1_Temp</th>\n",
       "      <th>S2_Temp</th>\n",
       "      <th>S3_Temp</th>\n",
       "      <th>S4_Temp</th>\n",
       "      <th>S1_Light</th>\n",
       "      <th>S2_Light</th>\n",
       "      <th>S3_Light</th>\n",
       "      <th>S4_Light</th>\n",
       "      <th>S1_Sound</th>\n",
       "      <th>S2_Sound</th>\n",
       "      <th>S3_Sound</th>\n",
       "      <th>S4_Sound</th>\n",
       "      <th>S5_CO2</th>\n",
       "      <th>S5_CO2_Slope</th>\n",
       "      <th>S6_PIR</th>\n",
       "      <th>S7_PIR</th>\n",
       "      <th>Room_Occupancy_Count</th>\n",
       "    </tr>\n",
       "  </thead>\n",
       "  <tbody>\n",
       "    <tr>\n",
       "      <th>0</th>\n",
       "      <td>24.94</td>\n",
       "      <td>24.75</td>\n",
       "      <td>24.56</td>\n",
       "      <td>25.38</td>\n",
       "      <td>121</td>\n",
       "      <td>34</td>\n",
       "      <td>53</td>\n",
       "      <td>40</td>\n",
       "      <td>0.08</td>\n",
       "      <td>0.19</td>\n",
       "      <td>0.06</td>\n",
       "      <td>0.06</td>\n",
       "      <td>390</td>\n",
       "      <td>0.77</td>\n",
       "      <td>0</td>\n",
       "      <td>0</td>\n",
       "      <td>1</td>\n",
       "    </tr>\n",
       "    <tr>\n",
       "      <th>1</th>\n",
       "      <td>24.94</td>\n",
       "      <td>24.75</td>\n",
       "      <td>24.56</td>\n",
       "      <td>25.44</td>\n",
       "      <td>121</td>\n",
       "      <td>33</td>\n",
       "      <td>53</td>\n",
       "      <td>40</td>\n",
       "      <td>0.93</td>\n",
       "      <td>0.05</td>\n",
       "      <td>0.06</td>\n",
       "      <td>0.06</td>\n",
       "      <td>390</td>\n",
       "      <td>0.65</td>\n",
       "      <td>0</td>\n",
       "      <td>0</td>\n",
       "      <td>1</td>\n",
       "    </tr>\n",
       "    <tr>\n",
       "      <th>2</th>\n",
       "      <td>25.00</td>\n",
       "      <td>24.75</td>\n",
       "      <td>24.50</td>\n",
       "      <td>25.44</td>\n",
       "      <td>121</td>\n",
       "      <td>34</td>\n",
       "      <td>53</td>\n",
       "      <td>40</td>\n",
       "      <td>0.43</td>\n",
       "      <td>0.11</td>\n",
       "      <td>0.08</td>\n",
       "      <td>0.06</td>\n",
       "      <td>390</td>\n",
       "      <td>0.52</td>\n",
       "      <td>0</td>\n",
       "      <td>0</td>\n",
       "      <td>1</td>\n",
       "    </tr>\n",
       "    <tr>\n",
       "      <th>3</th>\n",
       "      <td>25.00</td>\n",
       "      <td>24.75</td>\n",
       "      <td>24.56</td>\n",
       "      <td>25.44</td>\n",
       "      <td>121</td>\n",
       "      <td>34</td>\n",
       "      <td>53</td>\n",
       "      <td>40</td>\n",
       "      <td>0.41</td>\n",
       "      <td>0.10</td>\n",
       "      <td>0.10</td>\n",
       "      <td>0.09</td>\n",
       "      <td>390</td>\n",
       "      <td>0.39</td>\n",
       "      <td>0</td>\n",
       "      <td>0</td>\n",
       "      <td>1</td>\n",
       "    </tr>\n",
       "    <tr>\n",
       "      <th>4</th>\n",
       "      <td>25.00</td>\n",
       "      <td>24.75</td>\n",
       "      <td>24.56</td>\n",
       "      <td>25.44</td>\n",
       "      <td>121</td>\n",
       "      <td>34</td>\n",
       "      <td>54</td>\n",
       "      <td>40</td>\n",
       "      <td>0.18</td>\n",
       "      <td>0.06</td>\n",
       "      <td>0.06</td>\n",
       "      <td>0.06</td>\n",
       "      <td>390</td>\n",
       "      <td>0.25</td>\n",
       "      <td>0</td>\n",
       "      <td>0</td>\n",
       "      <td>1</td>\n",
       "    </tr>\n",
       "  </tbody>\n",
       "</table>\n",
       "</div>"
      ],
      "text/plain": [
       "   S1_Temp  S2_Temp  S3_Temp  S4_Temp  S1_Light  S2_Light  S3_Light  S4_Light  \\\n",
       "0    24.94    24.75    24.56    25.38       121        34        53        40   \n",
       "1    24.94    24.75    24.56    25.44       121        33        53        40   \n",
       "2    25.00    24.75    24.50    25.44       121        34        53        40   \n",
       "3    25.00    24.75    24.56    25.44       121        34        53        40   \n",
       "4    25.00    24.75    24.56    25.44       121        34        54        40   \n",
       "\n",
       "   S1_Sound  S2_Sound  S3_Sound  S4_Sound  S5_CO2  S5_CO2_Slope  S6_PIR  \\\n",
       "0      0.08      0.19      0.06      0.06     390          0.77       0   \n",
       "1      0.93      0.05      0.06      0.06     390          0.65       0   \n",
       "2      0.43      0.11      0.08      0.06     390          0.52       0   \n",
       "3      0.41      0.10      0.10      0.09     390          0.39       0   \n",
       "4      0.18      0.06      0.06      0.06     390          0.25       0   \n",
       "\n",
       "   S7_PIR  Room_Occupancy_Count  \n",
       "0       0                     1  \n",
       "1       0                     1  \n",
       "2       0                     1  \n",
       "3       0                     1  \n",
       "4       0                     1  "
      ]
     },
     "execution_count": 4,
     "metadata": {},
     "output_type": "execute_result"
    }
   ],
   "source": [
    "df.head()"
   ]
  },
  {
   "cell_type": "code",
   "execution_count": 5,
   "id": "5c9e4039",
   "metadata": {},
   "outputs": [
    {
     "name": "stdout",
     "output_type": "stream",
     "text": [
      "<class 'pandas.core.frame.DataFrame'>\n",
      "RangeIndex: 10129 entries, 0 to 10128\n",
      "Data columns (total 17 columns):\n",
      " #   Column                Non-Null Count  Dtype  \n",
      "---  ------                --------------  -----  \n",
      " 0   S1_Temp               10129 non-null  float64\n",
      " 1   S2_Temp               10129 non-null  float64\n",
      " 2   S3_Temp               10129 non-null  float64\n",
      " 3   S4_Temp               10129 non-null  float64\n",
      " 4   S1_Light              10129 non-null  int64  \n",
      " 5   S2_Light              10129 non-null  int64  \n",
      " 6   S3_Light              10129 non-null  int64  \n",
      " 7   S4_Light              10129 non-null  int64  \n",
      " 8   S1_Sound              10129 non-null  float64\n",
      " 9   S2_Sound              10129 non-null  float64\n",
      " 10  S3_Sound              10129 non-null  float64\n",
      " 11  S4_Sound              10129 non-null  float64\n",
      " 12  S5_CO2                10129 non-null  int64  \n",
      " 13  S5_CO2_Slope          10129 non-null  float64\n",
      " 14  S6_PIR                10129 non-null  int64  \n",
      " 15  S7_PIR                10129 non-null  int64  \n",
      " 16  Room_Occupancy_Count  10129 non-null  int64  \n",
      "dtypes: float64(9), int64(8)\n",
      "memory usage: 1.3 MB\n"
     ]
    }
   ],
   "source": [
    "df.info()"
   ]
  },
  {
   "cell_type": "code",
   "execution_count": 6,
   "id": "f61bdd21",
   "metadata": {},
   "outputs": [],
   "source": [
    "X = df.drop(['Room_Occupancy_Count'], axis=1)\n",
    "y = df[['Room_Occupancy_Count']]"
   ]
  },
  {
   "cell_type": "code",
   "execution_count": 7,
   "id": "6cc1bb4c",
   "metadata": {},
   "outputs": [],
   "source": [
    "# Splitting the dataset into train and test\n",
    "X_train, X_test, y_train, y_test = train_test_split(X, y, test_size=0.2, random_state=42)"
   ]
  },
  {
   "cell_type": "code",
   "execution_count": 8,
   "id": "817cc686",
   "metadata": {},
   "outputs": [],
   "source": [
    "# Scaling the dataset\n",
    "scaler = StandardScaler()\n",
    "X_train_scaled = scaler.fit_transform(X_train)\n",
    "X_test_scaled = scaler.transform(X_test)"
   ]
  },
  {
   "cell_type": "code",
   "execution_count": 9,
   "id": "eee83559",
   "metadata": {},
   "outputs": [
    {
     "name": "stderr",
     "output_type": "stream",
     "text": [
      "C:\\Users\\aryan\\anaconda3\\lib\\site-packages\\sklearn\\neighbors\\_classification.py:198: DataConversionWarning: A column-vector y was passed when a 1d array was expected. Please change the shape of y to (n_samples,), for example using ravel().\n",
      "  return self._fit(X, y)\n",
      "C:\\Users\\aryan\\anaconda3\\lib\\site-packages\\sklearn\\neighbors\\_classification.py:228: FutureWarning: Unlike other reduction functions (e.g. `skew`, `kurtosis`), the default behavior of `mode` typically preserves the axis it acts along. In SciPy 1.11.0, this behavior will change: the default value of `keepdims` will become False, the `axis` over which the statistic is taken will be eliminated, and the value None will no longer be accepted. Set `keepdims` to True or False to avoid this warning.\n",
      "  mode, _ = stats.mode(_y[neigh_ind, k], axis=1)\n"
     ]
    },
    {
     "name": "stdout",
     "output_type": "stream",
     "text": [
      "Accuracy on train set:  0.994816734542762\n",
      "Accuracy on test set:  0.9901283316880553\n"
     ]
    },
    {
     "name": "stderr",
     "output_type": "stream",
     "text": [
      "C:\\Users\\aryan\\anaconda3\\lib\\site-packages\\sklearn\\neighbors\\_classification.py:228: FutureWarning: Unlike other reduction functions (e.g. `skew`, `kurtosis`), the default behavior of `mode` typically preserves the axis it acts along. In SciPy 1.11.0, this behavior will change: the default value of `keepdims` will become False, the `axis` over which the statistic is taken will be eliminated, and the value None will no longer be accepted. Set `keepdims` to True or False to avoid this warning.\n",
      "  mode, _ = stats.mode(_y[neigh_ind, k], axis=1)\n"
     ]
    }
   ],
   "source": [
    "model_classifier = KNeighborsClassifier()\n",
    "model_classifier.fit(X_train_scaled, y_train)\n",
    "\n",
    "print(\"Accuracy on train set: \", model_classifier.score(X_train_scaled, y_train))\n",
    "print(\"Accuracy on test set: \", model_classifier.score(X_test_scaled, y_test))"
   ]
  },
  {
   "cell_type": "markdown",
   "id": "227059dc",
   "metadata": {},
   "source": [
    "## Estimating the Occupancy of the room after removing the light input variables as per problem statement"
   ]
  },
  {
   "cell_type": "code",
   "execution_count": 10,
   "id": "dded704f",
   "metadata": {},
   "outputs": [],
   "source": [
    "df_wo_light = df.drop(df.filter(regex='Light').columns, axis=1)"
   ]
  },
  {
   "cell_type": "code",
   "execution_count": 11,
   "id": "a496edbf",
   "metadata": {},
   "outputs": [
    {
     "data": {
      "text/html": [
       "<div>\n",
       "<style scoped>\n",
       "    .dataframe tbody tr th:only-of-type {\n",
       "        vertical-align: middle;\n",
       "    }\n",
       "\n",
       "    .dataframe tbody tr th {\n",
       "        vertical-align: top;\n",
       "    }\n",
       "\n",
       "    .dataframe thead th {\n",
       "        text-align: right;\n",
       "    }\n",
       "</style>\n",
       "<table border=\"1\" class=\"dataframe\">\n",
       "  <thead>\n",
       "    <tr style=\"text-align: right;\">\n",
       "      <th></th>\n",
       "      <th>S1_Temp</th>\n",
       "      <th>S2_Temp</th>\n",
       "      <th>S3_Temp</th>\n",
       "      <th>S4_Temp</th>\n",
       "      <th>S1_Sound</th>\n",
       "      <th>S2_Sound</th>\n",
       "      <th>S3_Sound</th>\n",
       "      <th>S4_Sound</th>\n",
       "      <th>S5_CO2</th>\n",
       "      <th>S5_CO2_Slope</th>\n",
       "      <th>S6_PIR</th>\n",
       "      <th>S7_PIR</th>\n",
       "      <th>Room_Occupancy_Count</th>\n",
       "    </tr>\n",
       "  </thead>\n",
       "  <tbody>\n",
       "    <tr>\n",
       "      <th>0</th>\n",
       "      <td>24.94</td>\n",
       "      <td>24.75</td>\n",
       "      <td>24.56</td>\n",
       "      <td>25.38</td>\n",
       "      <td>0.08</td>\n",
       "      <td>0.19</td>\n",
       "      <td>0.06</td>\n",
       "      <td>0.06</td>\n",
       "      <td>390</td>\n",
       "      <td>0.77</td>\n",
       "      <td>0</td>\n",
       "      <td>0</td>\n",
       "      <td>1</td>\n",
       "    </tr>\n",
       "    <tr>\n",
       "      <th>1</th>\n",
       "      <td>24.94</td>\n",
       "      <td>24.75</td>\n",
       "      <td>24.56</td>\n",
       "      <td>25.44</td>\n",
       "      <td>0.93</td>\n",
       "      <td>0.05</td>\n",
       "      <td>0.06</td>\n",
       "      <td>0.06</td>\n",
       "      <td>390</td>\n",
       "      <td>0.65</td>\n",
       "      <td>0</td>\n",
       "      <td>0</td>\n",
       "      <td>1</td>\n",
       "    </tr>\n",
       "    <tr>\n",
       "      <th>2</th>\n",
       "      <td>25.00</td>\n",
       "      <td>24.75</td>\n",
       "      <td>24.50</td>\n",
       "      <td>25.44</td>\n",
       "      <td>0.43</td>\n",
       "      <td>0.11</td>\n",
       "      <td>0.08</td>\n",
       "      <td>0.06</td>\n",
       "      <td>390</td>\n",
       "      <td>0.52</td>\n",
       "      <td>0</td>\n",
       "      <td>0</td>\n",
       "      <td>1</td>\n",
       "    </tr>\n",
       "    <tr>\n",
       "      <th>3</th>\n",
       "      <td>25.00</td>\n",
       "      <td>24.75</td>\n",
       "      <td>24.56</td>\n",
       "      <td>25.44</td>\n",
       "      <td>0.41</td>\n",
       "      <td>0.10</td>\n",
       "      <td>0.10</td>\n",
       "      <td>0.09</td>\n",
       "      <td>390</td>\n",
       "      <td>0.39</td>\n",
       "      <td>0</td>\n",
       "      <td>0</td>\n",
       "      <td>1</td>\n",
       "    </tr>\n",
       "    <tr>\n",
       "      <th>4</th>\n",
       "      <td>25.00</td>\n",
       "      <td>24.75</td>\n",
       "      <td>24.56</td>\n",
       "      <td>25.44</td>\n",
       "      <td>0.18</td>\n",
       "      <td>0.06</td>\n",
       "      <td>0.06</td>\n",
       "      <td>0.06</td>\n",
       "      <td>390</td>\n",
       "      <td>0.25</td>\n",
       "      <td>0</td>\n",
       "      <td>0</td>\n",
       "      <td>1</td>\n",
       "    </tr>\n",
       "  </tbody>\n",
       "</table>\n",
       "</div>"
      ],
      "text/plain": [
       "   S1_Temp  S2_Temp  S3_Temp  S4_Temp  S1_Sound  S2_Sound  S3_Sound  S4_Sound  \\\n",
       "0    24.94    24.75    24.56    25.38      0.08      0.19      0.06      0.06   \n",
       "1    24.94    24.75    24.56    25.44      0.93      0.05      0.06      0.06   \n",
       "2    25.00    24.75    24.50    25.44      0.43      0.11      0.08      0.06   \n",
       "3    25.00    24.75    24.56    25.44      0.41      0.10      0.10      0.09   \n",
       "4    25.00    24.75    24.56    25.44      0.18      0.06      0.06      0.06   \n",
       "\n",
       "   S5_CO2  S5_CO2_Slope  S6_PIR  S7_PIR  Room_Occupancy_Count  \n",
       "0     390          0.77       0       0                     1  \n",
       "1     390          0.65       0       0                     1  \n",
       "2     390          0.52       0       0                     1  \n",
       "3     390          0.39       0       0                     1  \n",
       "4     390          0.25       0       0                     1  "
      ]
     },
     "execution_count": 11,
     "metadata": {},
     "output_type": "execute_result"
    }
   ],
   "source": [
    "df_wo_light.head()"
   ]
  },
  {
   "cell_type": "code",
   "execution_count": 12,
   "id": "d911a3f0",
   "metadata": {},
   "outputs": [],
   "source": [
    "X_wo_light = df_wo_light.drop(['Room_Occupancy_Count'], axis=1)\n",
    "y_wo_light = df_wo_light[['Room_Occupancy_Count']]"
   ]
  },
  {
   "cell_type": "code",
   "execution_count": 13,
   "id": "a6e9e2cd",
   "metadata": {},
   "outputs": [],
   "source": [
    "# Splitting the dataset into train and test\n",
    "X_train_wo_light, X_test_wo_light, y_train_wo_light, y_test_wo_light = train_test_split(X_wo_light, y_wo_light, test_size=0.2, random_state=42)"
   ]
  },
  {
   "cell_type": "code",
   "execution_count": 14,
   "id": "a8c0d124",
   "metadata": {},
   "outputs": [],
   "source": [
    "# Scaling the dataset\n",
    "scaler = StandardScaler()\n",
    "X_train_scaled_wo_light = scaler.fit_transform(X_train_wo_light)\n",
    "X_test_scaled_wo_light = scaler.transform(X_test_wo_light)"
   ]
  },
  {
   "cell_type": "code",
   "execution_count": 15,
   "id": "b65569ef",
   "metadata": {},
   "outputs": [
    {
     "name": "stderr",
     "output_type": "stream",
     "text": [
      "C:\\Users\\aryan\\anaconda3\\lib\\site-packages\\sklearn\\neighbors\\_classification.py:198: DataConversionWarning: A column-vector y was passed when a 1d array was expected. Please change the shape of y to (n_samples,), for example using ravel().\n",
      "  return self._fit(X, y)\n",
      "C:\\Users\\aryan\\anaconda3\\lib\\site-packages\\sklearn\\neighbors\\_classification.py:228: FutureWarning: Unlike other reduction functions (e.g. `skew`, `kurtosis`), the default behavior of `mode` typically preserves the axis it acts along. In SciPy 1.11.0, this behavior will change: the default value of `keepdims` will become False, the `axis` over which the statistic is taken will be eliminated, and the value None will no longer be accepted. Set `keepdims` to True or False to avoid this warning.\n",
      "  mode, _ = stats.mode(_y[neigh_ind, k], axis=1)\n"
     ]
    },
    {
     "name": "stdout",
     "output_type": "stream",
     "text": [
      "Accuracy on train set:  0.9791435270887325\n",
      "Accuracy on test set:  0.9659427443237907\n"
     ]
    },
    {
     "name": "stderr",
     "output_type": "stream",
     "text": [
      "C:\\Users\\aryan\\anaconda3\\lib\\site-packages\\sklearn\\neighbors\\_classification.py:228: FutureWarning: Unlike other reduction functions (e.g. `skew`, `kurtosis`), the default behavior of `mode` typically preserves the axis it acts along. In SciPy 1.11.0, this behavior will change: the default value of `keepdims` will become False, the `axis` over which the statistic is taken will be eliminated, and the value None will no longer be accepted. Set `keepdims` to True or False to avoid this warning.\n",
      "  mode, _ = stats.mode(_y[neigh_ind, k], axis=1)\n"
     ]
    }
   ],
   "source": [
    "model_classs_wo_light = KNeighborsClassifier(n_neighbors=7)\n",
    "model_classs_wo_light.fit(X_train_scaled_wo_light, y_train_wo_light)\n",
    "\n",
    "print(\"Accuracy on train set: \", model_classs_wo_light.score(X_train_scaled_wo_light, y_train_wo_light))\n",
    "print(\"Accuracy on test set: \", model_classs_wo_light.score(X_test_scaled_wo_light, y_test_wo_light))"
   ]
  },
  {
   "cell_type": "markdown",
   "id": "eeba4e87",
   "metadata": {},
   "source": [
    "### Hyperparameter Tuning using GridSearch"
   ]
  },
  {
   "cell_type": "code",
   "execution_count": 16,
   "id": "f712b5d1",
   "metadata": {
    "scrolled": true
   },
   "outputs": [
    {
     "name": "stdout",
     "output_type": "stream",
     "text": [
      "Fitting 15 folds for each of 76 candidates, totalling 1140 fits\n",
      "Best: 0.981653 using {'n_neighbors': 4, 'p': 1, 'weights': 'distance'}\n",
      "0.980131 (0.002973) with: {'n_neighbors': 1, 'p': 1, 'weights': 'uniform'}\n",
      "0.980131 (0.002973) with: {'n_neighbors': 1, 'p': 1, 'weights': 'distance'}\n",
      "0.973508 (0.003622) with: {'n_neighbors': 1, 'p': 2, 'weights': 'uniform'}\n",
      "0.973508 (0.003622) with: {'n_neighbors': 1, 'p': 2, 'weights': 'distance'}\n",
      "0.975318 (0.003555) with: {'n_neighbors': 2, 'p': 1, 'weights': 'uniform'}\n",
      "0.980131 (0.002973) with: {'n_neighbors': 2, 'p': 1, 'weights': 'distance'}\n",
      "0.967214 (0.003122) with: {'n_neighbors': 2, 'p': 2, 'weights': 'uniform'}\n",
      "0.973508 (0.003622) with: {'n_neighbors': 2, 'p': 2, 'weights': 'distance'}\n",
      "0.980748 (0.003218) with: {'n_neighbors': 3, 'p': 1, 'weights': 'uniform'}\n",
      "0.981324 (0.002888) with: {'n_neighbors': 3, 'p': 1, 'weights': 'distance'}\n",
      "0.972973 (0.003584) with: {'n_neighbors': 3, 'p': 2, 'weights': 'uniform'}\n",
      "0.974002 (0.002995) with: {'n_neighbors': 3, 'p': 2, 'weights': 'distance'}\n",
      "0.976223 (0.004048) with: {'n_neighbors': 4, 'p': 1, 'weights': 'uniform'}\n",
      "0.981653 (0.002966) with: {'n_neighbors': 4, 'p': 1, 'weights': 'distance'}\n",
      "0.969024 (0.003857) with: {'n_neighbors': 4, 'p': 2, 'weights': 'uniform'}\n",
      "0.974125 (0.003820) with: {'n_neighbors': 4, 'p': 2, 'weights': 'distance'}\n",
      "0.977663 (0.003563) with: {'n_neighbors': 5, 'p': 1, 'weights': 'uniform'}\n",
      "0.980090 (0.002853) with: {'n_neighbors': 5, 'p': 1, 'weights': 'distance'}\n",
      "0.970011 (0.002883) with: {'n_neighbors': 5, 'p': 2, 'weights': 'uniform'}\n",
      "0.972726 (0.002861) with: {'n_neighbors': 5, 'p': 2, 'weights': 'distance'}\n",
      "0.974248 (0.003238) with: {'n_neighbors': 6, 'p': 1, 'weights': 'uniform'}\n",
      "0.980337 (0.002158) with: {'n_neighbors': 6, 'p': 1, 'weights': 'distance'}\n",
      "0.967337 (0.002862) with: {'n_neighbors': 6, 'p': 2, 'weights': 'uniform'}\n",
      "0.972726 (0.003557) with: {'n_neighbors': 6, 'p': 2, 'weights': 'distance'}\n",
      "0.976140 (0.002901) with: {'n_neighbors': 7, 'p': 1, 'weights': 'uniform'}\n",
      "0.979390 (0.002597) with: {'n_neighbors': 7, 'p': 1, 'weights': 'distance'}\n",
      "0.966432 (0.003490) with: {'n_neighbors': 7, 'p': 2, 'weights': 'uniform'}\n",
      "0.970834 (0.002680) with: {'n_neighbors': 7, 'p': 2, 'weights': 'distance'}\n",
      "0.972808 (0.003247) with: {'n_neighbors': 8, 'p': 1, 'weights': 'uniform'}\n",
      "0.979185 (0.002453) with: {'n_neighbors': 8, 'p': 1, 'weights': 'distance'}\n",
      "0.964828 (0.003586) with: {'n_neighbors': 8, 'p': 2, 'weights': 'uniform'}\n",
      "0.971245 (0.002664) with: {'n_neighbors': 8, 'p': 2, 'weights': 'distance'}\n",
      "0.973302 (0.003517) with: {'n_neighbors': 9, 'p': 1, 'weights': 'uniform'}\n",
      "0.977663 (0.002668) with: {'n_neighbors': 9, 'p': 1, 'weights': 'distance'}\n",
      "0.963964 (0.004120) with: {'n_neighbors': 9, 'p': 2, 'weights': 'uniform'}\n",
      "0.969230 (0.003272) with: {'n_neighbors': 9, 'p': 2, 'weights': 'distance'}\n",
      "0.971081 (0.003257) with: {'n_neighbors': 10, 'p': 1, 'weights': 'uniform'}\n",
      "0.978115 (0.002751) with: {'n_neighbors': 10, 'p': 1, 'weights': 'distance'}\n",
      "0.962688 (0.004008) with: {'n_neighbors': 10, 'p': 2, 'weights': 'uniform'}\n",
      "0.969229 (0.004193) with: {'n_neighbors': 10, 'p': 2, 'weights': 'distance'}\n",
      "0.971903 (0.004043) with: {'n_neighbors': 11, 'p': 1, 'weights': 'uniform'}\n",
      "0.977251 (0.003289) with: {'n_neighbors': 11, 'p': 1, 'weights': 'distance'}\n",
      "0.962606 (0.004810) with: {'n_neighbors': 11, 'p': 2, 'weights': 'uniform'}\n",
      "0.968242 (0.003884) with: {'n_neighbors': 11, 'p': 2, 'weights': 'distance'}\n",
      "0.970093 (0.003548) with: {'n_neighbors': 12, 'p': 1, 'weights': 'uniform'}\n",
      "0.976428 (0.003229) with: {'n_neighbors': 12, 'p': 1, 'weights': 'distance'}\n",
      "0.961084 (0.004651) with: {'n_neighbors': 12, 'p': 2, 'weights': 'uniform'}\n",
      "0.968077 (0.004202) with: {'n_neighbors': 12, 'p': 2, 'weights': 'distance'}\n",
      "0.970052 (0.003837) with: {'n_neighbors': 13, 'p': 1, 'weights': 'uniform'}\n",
      "0.975811 (0.003719) with: {'n_neighbors': 13, 'p': 1, 'weights': 'distance'}\n",
      "0.960631 (0.004563) with: {'n_neighbors': 13, 'p': 2, 'weights': 'uniform'}\n",
      "0.966802 (0.004256) with: {'n_neighbors': 13, 'p': 2, 'weights': 'distance'}\n",
      "0.968324 (0.003961) with: {'n_neighbors': 14, 'p': 1, 'weights': 'uniform'}\n",
      "0.975441 (0.003536) with: {'n_neighbors': 14, 'p': 1, 'weights': 'distance'}\n",
      "0.959768 (0.003445) with: {'n_neighbors': 14, 'p': 2, 'weights': 'uniform'}\n",
      "0.966802 (0.004023) with: {'n_neighbors': 14, 'p': 2, 'weights': 'distance'}\n",
      "0.968571 (0.004056) with: {'n_neighbors': 15, 'p': 1, 'weights': 'uniform'}\n",
      "0.974700 (0.003872) with: {'n_neighbors': 15, 'p': 1, 'weights': 'distance'}\n",
      "0.959109 (0.004319) with: {'n_neighbors': 15, 'p': 2, 'weights': 'uniform'}\n",
      "0.965897 (0.004062) with: {'n_neighbors': 15, 'p': 2, 'weights': 'distance'}\n",
      "0.967584 (0.004019) with: {'n_neighbors': 16, 'p': 1, 'weights': 'uniform'}\n",
      "0.974330 (0.003889) with: {'n_neighbors': 16, 'p': 1, 'weights': 'distance'}\n",
      "0.958245 (0.003919) with: {'n_neighbors': 16, 'p': 2, 'weights': 'uniform'}\n",
      "0.965033 (0.004684) with: {'n_neighbors': 16, 'p': 2, 'weights': 'distance'}\n",
      "0.967419 (0.003600) with: {'n_neighbors': 17, 'p': 1, 'weights': 'uniform'}\n",
      "0.974001 (0.004173) with: {'n_neighbors': 17, 'p': 1, 'weights': 'distance'}\n",
      "0.958369 (0.004125) with: {'n_neighbors': 17, 'p': 2, 'weights': 'uniform'}\n",
      "0.964334 (0.004678) with: {'n_neighbors': 17, 'p': 2, 'weights': 'distance'}\n",
      "0.966144 (0.004305) with: {'n_neighbors': 18, 'p': 1, 'weights': 'uniform'}\n",
      "0.973343 (0.003982) with: {'n_neighbors': 18, 'p': 1, 'weights': 'distance'}\n",
      "0.957217 (0.003943) with: {'n_neighbors': 18, 'p': 2, 'weights': 'uniform'}\n",
      "0.964128 (0.004140) with: {'n_neighbors': 18, 'p': 2, 'weights': 'distance'}\n",
      "0.965897 (0.004304) with: {'n_neighbors': 19, 'p': 1, 'weights': 'uniform'}\n",
      "0.972808 (0.004140) with: {'n_neighbors': 19, 'p': 1, 'weights': 'distance'}\n",
      "0.955942 (0.003478) with: {'n_neighbors': 19, 'p': 2, 'weights': 'uniform'}\n",
      "0.963840 (0.004127) with: {'n_neighbors': 19, 'p': 2, 'weights': 'distance'}\n",
      "Wall time: 36.7 s\n"
     ]
    },
    {
     "name": "stderr",
     "output_type": "stream",
     "text": [
      "C:\\Users\\aryan\\anaconda3\\lib\\site-packages\\sklearn\\neighbors\\_classification.py:198: DataConversionWarning: A column-vector y was passed when a 1d array was expected. Please change the shape of y to (n_samples,), for example using ravel().\n",
      "  return self._fit(X, y)\n"
     ]
    }
   ],
   "source": [
    "%%time\n",
    "\n",
    "# define grid search\n",
    "grid = {\n",
    "    \"n_neighbors\" : range(1, 20),\n",
    "    \"weights\" : ['uniform', 'distance'],\n",
    "    \"p\" : [1,2]\n",
    "}\n",
    "\n",
    "cv = RepeatedStratifiedKFold(n_splits=5, n_repeats=3, random_state=1)\n",
    "\n",
    "grid_search = GridSearchCV(estimator=model_classs_wo_light, \n",
    "                           param_grid = grid, \n",
    "                           n_jobs = -1, \n",
    "                           cv = cv, \n",
    "                           scoring = 'accuracy',\n",
    "                           error_score = 0,\n",
    "                           verbose = 1\n",
    "                          )\n",
    "\n",
    "grid_result = grid_search.fit(X_train_scaled_wo_light, y_train_wo_light)\n",
    "\n",
    "# Summarize Results\n",
    "print(\"Best: %f using %s\" % (grid_result.best_score_, grid_result.best_params_))\n",
    "means = grid_result.cv_results_['mean_test_score']\n",
    "stds = grid_result.cv_results_['std_test_score']\n",
    "params = grid_result.cv_results_['params']\n",
    "for mean, stdev, param in zip(means, stds, params):\n",
    "    print(\"%f (%f) with: %r\" % (mean, stdev, param))"
   ]
  },
  {
   "cell_type": "markdown",
   "id": "524613c8",
   "metadata": {},
   "source": [
    "### KNN Model with best hyperparameters"
   ]
  },
  {
   "cell_type": "code",
   "execution_count": 17,
   "id": "a47effcf",
   "metadata": {},
   "outputs": [
    {
     "name": "stdout",
     "output_type": "stream",
     "text": [
      "Accuracy on test set:  0.983218163869694\n"
     ]
    },
    {
     "name": "stderr",
     "output_type": "stream",
     "text": [
      "C:\\Users\\aryan\\anaconda3\\lib\\site-packages\\sklearn\\neighbors\\_classification.py:198: DataConversionWarning: A column-vector y was passed when a 1d array was expected. Please change the shape of y to (n_samples,), for example using ravel().\n",
      "  return self._fit(X, y)\n"
     ]
    }
   ],
   "source": [
    "model_classs_wo_light = KNeighborsClassifier(n_neighbors= 4, p= 1, weights= 'distance')\n",
    "model_classs_wo_light.fit(X_train_scaled_wo_light, y_train_wo_light)\n",
    "\n",
    "print(\"Accuracy on test set: \", model_classs_wo_light.score(X_test_scaled_wo_light, y_test_wo_light))"
   ]
  },
  {
   "cell_type": "code",
   "execution_count": 18,
   "id": "39518949",
   "metadata": {},
   "outputs": [
    {
     "data": {
      "image/png": "[encoded data removed]",
      "text/plain": [
       "<Figure size 600x400 with 2 Axes>"
      ]
     },
     "metadata": {},
     "output_type": "display_data"
    }
   ],
   "source": [
    "y_predicted = model_classs_wo_light.predict(X_test_scaled_wo_light)\n",
    "cm = confusion_matrix(y_test_wo_light, y_predicted)\n",
    "plt.figure(figsize = (6,4))\n",
    "\n",
    "sns.heatmap(cm, \n",
    "            annot=True, \n",
    "            cmap=\"Spectral\",\n",
    "            fmt='g'\n",
    "           )\n",
    "plt.xlabel('Predicted', fontsize=10)\n",
    "plt.ylabel('Actual/Observed', fontsize=10);"
   ]
  },
  {
   "cell_type": "code",
   "execution_count": 19,
   "id": "17e65e2d",
   "metadata": {},
   "outputs": [
    {
     "name": "stdout",
     "output_type": "stream",
     "text": [
      "              precision    recall  f1-score   support\n",
      "\n",
      "           0       1.00      1.00      1.00      1619\n",
      "           1       0.92      0.97      0.94       103\n",
      "           2       0.91      0.90      0.90       164\n",
      "           3       0.93      0.92      0.93       140\n",
      "\n",
      "    accuracy                           0.98      2026\n",
      "   macro avg       0.94      0.95      0.94      2026\n",
      "weighted avg       0.98      0.98      0.98      2026\n",
      "\n"
     ]
    }
   ],
   "source": [
    "print(classification_report(y_test_wo_light, y_predicted))"
   ]
  },
  {
   "cell_type": "code",
   "execution_count": 20,
   "id": "7bdd6fd5",
   "metadata": {},
   "outputs": [],
   "source": [
    "# Saving the model with pickle\n",
    "import pickle\n",
    "filename = 'knn_classification_model.sav'\n",
    "pickle.dump(model_classs_wo_light, open(filename, 'wb'))"
   ]
  },
  {
   "cell_type": "code",
   "execution_count": null,
   "id": "f49acdcc",
   "metadata": {},
   "outputs": [],
   "source": []
  }
 ],
 "metadata": {
  "kernelspec": {
   "display_name": "Python 3 (ipykernel)",
   "language": "python",
   "name": "python3"
  },
  "language_info": {
   "codemirror_mode": {
    "name": "ipython",
    "version": 3
   },
   "file_extension": ".py",
   "mimetype": "text/x-python",
   "name": "python",
   "nbconvert_exporter": "python",
   "pygments_lexer": "ipython3",
   "version": "3.9.13"
  }
 },
 "nbformat": 4,
 "nbformat_minor": 5
}
